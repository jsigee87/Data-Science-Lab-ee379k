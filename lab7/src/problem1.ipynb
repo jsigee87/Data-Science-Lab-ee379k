{
 "cells": [
  {
   "cell_type": "markdown",
   "metadata": {},
   "source": [
    "# Problem 1\n",
    "## Part 0: Fit A Good Model"
   ]
  },
  {
   "cell_type": "code",
   "execution_count": 21,
   "metadata": {},
   "outputs": [],
   "source": [
    "import pprint as pp\n",
    "import pandas as pd\n",
    "import numpy as np\n",
    "import xgboost as xgb\n",
    "import matplotlib.pyplot as plt\n",
    "from numpy import linalg as LA\n",
    "from xgboost import plot_tree\n",
    "from sklearn import metrics\n",
    "from sklearn.model_selection import KFold\n",
    "from sklearn.linear_model import LogisticRegression"
   ]
  },
  {
   "cell_type": "code",
   "execution_count": 2,
   "metadata": {},
   "outputs": [],
   "source": [
    "filename = 'cs-training.csv'\n",
    "data = pd.read_csv(filename)"
   ]
  },
  {
   "cell_type": "code",
   "execution_count": 3,
   "metadata": {},
   "outputs": [
    {
     "data": {
      "text/html": [
       "<div>\n",
       "<style scoped>\n",
       "    .dataframe tbody tr th:only-of-type {\n",
       "        vertical-align: middle;\n",
       "    }\n",
       "\n",
       "    .dataframe tbody tr th {\n",
       "        vertical-align: top;\n",
       "    }\n",
       "\n",
       "    .dataframe thead th {\n",
       "        text-align: right;\n",
       "    }\n",
       "</style>\n",
       "<table border=\"1\" class=\"dataframe\">\n",
       "  <thead>\n",
       "    <tr style=\"text-align: right;\">\n",
       "      <th></th>\n",
       "      <th>Unnamed: 0</th>\n",
       "      <th>SeriousDlqin2yrs</th>\n",
       "      <th>RevolvingUtilizationOfUnsecuredLines</th>\n",
       "      <th>age</th>\n",
       "      <th>NumberOfTime30-59DaysPastDueNotWorse</th>\n",
       "      <th>DebtRatio</th>\n",
       "      <th>MonthlyIncome</th>\n",
       "      <th>NumberOfOpenCreditLinesAndLoans</th>\n",
       "      <th>NumberOfTimes90DaysLate</th>\n",
       "      <th>NumberRealEstateLoansOrLines</th>\n",
       "      <th>NumberOfTime60-89DaysPastDueNotWorse</th>\n",
       "      <th>NumberOfDependents</th>\n",
       "    </tr>\n",
       "  </thead>\n",
       "  <tbody>\n",
       "    <tr>\n",
       "      <th>count</th>\n",
       "      <td>150000.000000</td>\n",
       "      <td>150000.000000</td>\n",
       "      <td>150000.000000</td>\n",
       "      <td>150000.000000</td>\n",
       "      <td>150000.000000</td>\n",
       "      <td>150000.000000</td>\n",
       "      <td>1.202690e+05</td>\n",
       "      <td>150000.000000</td>\n",
       "      <td>150000.000000</td>\n",
       "      <td>150000.000000</td>\n",
       "      <td>150000.000000</td>\n",
       "      <td>146076.000000</td>\n",
       "    </tr>\n",
       "    <tr>\n",
       "      <th>mean</th>\n",
       "      <td>75000.500000</td>\n",
       "      <td>0.066840</td>\n",
       "      <td>6.048438</td>\n",
       "      <td>52.295207</td>\n",
       "      <td>0.421033</td>\n",
       "      <td>353.005076</td>\n",
       "      <td>6.670221e+03</td>\n",
       "      <td>8.452760</td>\n",
       "      <td>0.265973</td>\n",
       "      <td>1.018240</td>\n",
       "      <td>0.240387</td>\n",
       "      <td>0.757222</td>\n",
       "    </tr>\n",
       "    <tr>\n",
       "      <th>std</th>\n",
       "      <td>43301.414527</td>\n",
       "      <td>0.249746</td>\n",
       "      <td>249.755371</td>\n",
       "      <td>14.771866</td>\n",
       "      <td>4.192781</td>\n",
       "      <td>2037.818523</td>\n",
       "      <td>1.438467e+04</td>\n",
       "      <td>5.145951</td>\n",
       "      <td>4.169304</td>\n",
       "      <td>1.129771</td>\n",
       "      <td>4.155179</td>\n",
       "      <td>1.115086</td>\n",
       "    </tr>\n",
       "    <tr>\n",
       "      <th>min</th>\n",
       "      <td>1.000000</td>\n",
       "      <td>0.000000</td>\n",
       "      <td>0.000000</td>\n",
       "      <td>0.000000</td>\n",
       "      <td>0.000000</td>\n",
       "      <td>0.000000</td>\n",
       "      <td>0.000000e+00</td>\n",
       "      <td>0.000000</td>\n",
       "      <td>0.000000</td>\n",
       "      <td>0.000000</td>\n",
       "      <td>0.000000</td>\n",
       "      <td>0.000000</td>\n",
       "    </tr>\n",
       "    <tr>\n",
       "      <th>25%</th>\n",
       "      <td>37500.750000</td>\n",
       "      <td>0.000000</td>\n",
       "      <td>0.029867</td>\n",
       "      <td>41.000000</td>\n",
       "      <td>0.000000</td>\n",
       "      <td>0.175074</td>\n",
       "      <td>3.400000e+03</td>\n",
       "      <td>5.000000</td>\n",
       "      <td>0.000000</td>\n",
       "      <td>0.000000</td>\n",
       "      <td>0.000000</td>\n",
       "      <td>0.000000</td>\n",
       "    </tr>\n",
       "    <tr>\n",
       "      <th>50%</th>\n",
       "      <td>75000.500000</td>\n",
       "      <td>0.000000</td>\n",
       "      <td>0.154181</td>\n",
       "      <td>52.000000</td>\n",
       "      <td>0.000000</td>\n",
       "      <td>0.366508</td>\n",
       "      <td>5.400000e+03</td>\n",
       "      <td>8.000000</td>\n",
       "      <td>0.000000</td>\n",
       "      <td>1.000000</td>\n",
       "      <td>0.000000</td>\n",
       "      <td>0.000000</td>\n",
       "    </tr>\n",
       "    <tr>\n",
       "      <th>75%</th>\n",
       "      <td>112500.250000</td>\n",
       "      <td>0.000000</td>\n",
       "      <td>0.559046</td>\n",
       "      <td>63.000000</td>\n",
       "      <td>0.000000</td>\n",
       "      <td>0.868254</td>\n",
       "      <td>8.249000e+03</td>\n",
       "      <td>11.000000</td>\n",
       "      <td>0.000000</td>\n",
       "      <td>2.000000</td>\n",
       "      <td>0.000000</td>\n",
       "      <td>1.000000</td>\n",
       "    </tr>\n",
       "    <tr>\n",
       "      <th>max</th>\n",
       "      <td>150000.000000</td>\n",
       "      <td>1.000000</td>\n",
       "      <td>50708.000000</td>\n",
       "      <td>109.000000</td>\n",
       "      <td>98.000000</td>\n",
       "      <td>329664.000000</td>\n",
       "      <td>3.008750e+06</td>\n",
       "      <td>58.000000</td>\n",
       "      <td>98.000000</td>\n",
       "      <td>54.000000</td>\n",
       "      <td>98.000000</td>\n",
       "      <td>20.000000</td>\n",
       "    </tr>\n",
       "  </tbody>\n",
       "</table>\n",
       "</div>"
      ],
      "text/plain": [
       "          Unnamed: 0  SeriousDlqin2yrs  RevolvingUtilizationOfUnsecuredLines  \\\n",
       "count  150000.000000     150000.000000                         150000.000000   \n",
       "mean    75000.500000          0.066840                              6.048438   \n",
       "std     43301.414527          0.249746                            249.755371   \n",
       "min         1.000000          0.000000                              0.000000   \n",
       "25%     37500.750000          0.000000                              0.029867   \n",
       "50%     75000.500000          0.000000                              0.154181   \n",
       "75%    112500.250000          0.000000                              0.559046   \n",
       "max    150000.000000          1.000000                          50708.000000   \n",
       "\n",
       "                 age  NumberOfTime30-59DaysPastDueNotWorse      DebtRatio  \\\n",
       "count  150000.000000                         150000.000000  150000.000000   \n",
       "mean       52.295207                              0.421033     353.005076   \n",
       "std        14.771866                              4.192781    2037.818523   \n",
       "min         0.000000                              0.000000       0.000000   \n",
       "25%        41.000000                              0.000000       0.175074   \n",
       "50%        52.000000                              0.000000       0.366508   \n",
       "75%        63.000000                              0.000000       0.868254   \n",
       "max       109.000000                             98.000000  329664.000000   \n",
       "\n",
       "       MonthlyIncome  NumberOfOpenCreditLinesAndLoans  \\\n",
       "count   1.202690e+05                    150000.000000   \n",
       "mean    6.670221e+03                         8.452760   \n",
       "std     1.438467e+04                         5.145951   \n",
       "min     0.000000e+00                         0.000000   \n",
       "25%     3.400000e+03                         5.000000   \n",
       "50%     5.400000e+03                         8.000000   \n",
       "75%     8.249000e+03                        11.000000   \n",
       "max     3.008750e+06                        58.000000   \n",
       "\n",
       "       NumberOfTimes90DaysLate  NumberRealEstateLoansOrLines  \\\n",
       "count            150000.000000                 150000.000000   \n",
       "mean                  0.265973                      1.018240   \n",
       "std                   4.169304                      1.129771   \n",
       "min                   0.000000                      0.000000   \n",
       "25%                   0.000000                      0.000000   \n",
       "50%                   0.000000                      1.000000   \n",
       "75%                   0.000000                      2.000000   \n",
       "max                  98.000000                     54.000000   \n",
       "\n",
       "       NumberOfTime60-89DaysPastDueNotWorse  NumberOfDependents  \n",
       "count                         150000.000000       146076.000000  \n",
       "mean                               0.240387            0.757222  \n",
       "std                                4.155179            1.115086  \n",
       "min                                0.000000            0.000000  \n",
       "25%                                0.000000            0.000000  \n",
       "50%                                0.000000            0.000000  \n",
       "75%                                0.000000            1.000000  \n",
       "max                               98.000000           20.000000  "
      ]
     },
     "execution_count": 3,
     "metadata": {},
     "output_type": "execute_result"
    }
   ],
   "source": [
    "data.describe()"
   ]
  },
  {
   "cell_type": "code",
   "execution_count": 4,
   "metadata": {},
   "outputs": [
    {
     "name": "stdout",
     "output_type": "stream",
     "text": [
      "<class 'pandas.core.frame.DataFrame'>\n",
      "RangeIndex: 150000 entries, 0 to 149999\n",
      "Data columns (total 12 columns):\n",
      "Unnamed: 0                              150000 non-null int64\n",
      "SeriousDlqin2yrs                        150000 non-null int64\n",
      "RevolvingUtilizationOfUnsecuredLines    150000 non-null float64\n",
      "age                                     150000 non-null int64\n",
      "NumberOfTime30-59DaysPastDueNotWorse    150000 non-null int64\n",
      "DebtRatio                               150000 non-null float64\n",
      "MonthlyIncome                           120269 non-null float64\n",
      "NumberOfOpenCreditLinesAndLoans         150000 non-null int64\n",
      "NumberOfTimes90DaysLate                 150000 non-null int64\n",
      "NumberRealEstateLoansOrLines            150000 non-null int64\n",
      "NumberOfTime60-89DaysPastDueNotWorse    150000 non-null int64\n",
      "NumberOfDependents                      146076 non-null float64\n",
      "dtypes: float64(4), int64(8)\n",
      "memory usage: 13.7 MB\n"
     ]
    }
   ],
   "source": [
    "data.info()"
   ]
  },
  {
   "cell_type": "code",
   "execution_count": 5,
   "metadata": {},
   "outputs": [],
   "source": [
    "# This is just an id column\n",
    "#data['Unnamed: 0']\n",
    "data.drop(['Unnamed: 0'], inplace=True, axis=1)"
   ]
  },
  {
   "cell_type": "markdown",
   "metadata": {},
   "source": [
    "First we check for NaN and other oddities."
   ]
  },
  {
   "cell_type": "code",
   "execution_count": 6,
   "metadata": {},
   "outputs": [
    {
     "data": {
      "text/plain": [
       "SeriousDlqin2yrs                            0\n",
       "RevolvingUtilizationOfUnsecuredLines        0\n",
       "age                                         0\n",
       "NumberOfTime30-59DaysPastDueNotWorse        0\n",
       "DebtRatio                                   0\n",
       "MonthlyIncome                           29731\n",
       "NumberOfOpenCreditLinesAndLoans             0\n",
       "NumberOfTimes90DaysLate                     0\n",
       "NumberRealEstateLoansOrLines                0\n",
       "NumberOfTime60-89DaysPastDueNotWorse        0\n",
       "NumberOfDependents                       3924\n",
       "dtype: int64"
      ]
     },
     "execution_count": 6,
     "metadata": {},
     "output_type": "execute_result"
    }
   ],
   "source": [
    "data.isnull().sum()"
   ]
  },
  {
   "cell_type": "code",
   "execution_count": 7,
   "metadata": {},
   "outputs": [
    {
     "data": {
      "text/plain": [
       "nan"
      ]
     },
     "execution_count": 7,
     "metadata": {},
     "output_type": "execute_result"
    }
   ],
   "source": [
    "#data.MonthlyIncome.isnull()\n",
    "data.MonthlyIncome.iloc[6]"
   ]
  },
  {
   "cell_type": "markdown",
   "metadata": {},
   "source": [
    "Lets make these zeros, as it's more likely that a non-response means no income than a median or mean income."
   ]
  },
  {
   "cell_type": "code",
   "execution_count": 8,
   "metadata": {},
   "outputs": [],
   "source": [
    "data.MonthlyIncome.fillna(0, inplace=True)"
   ]
  },
  {
   "cell_type": "markdown",
   "metadata": {},
   "source": [
    "For dependents, lets fill NaN with the mean, as most people have either 0 or 1 dependent, and its difficult to judge which one is more appropriate here."
   ]
  },
  {
   "cell_type": "code",
   "execution_count": 9,
   "metadata": {},
   "outputs": [],
   "source": [
    "# Just a check to make sure that there are both zero and \n",
    "# one entries. If there were no zero entries then maybe the \n",
    "# NaN entries should be zero.\n",
    "#data.NumberOfDependents.value_counts()\n",
    "\n",
    "data.NumberOfDependents.fillna(data.NumberOfDependents.mean(), inplace=True)"
   ]
  },
  {
   "cell_type": "code",
   "execution_count": 10,
   "metadata": {},
   "outputs": [],
   "source": [
    "# Double check\n",
    "#data.isnull().sum()"
   ]
  },
  {
   "cell_type": "markdown",
   "metadata": {},
   "source": [
    "Now lets take a look at the labels and their balance."
   ]
  },
  {
   "cell_type": "code",
   "execution_count": 11,
   "metadata": {
    "scrolled": true
   },
   "outputs": [
    {
     "data": {
      "text/plain": [
       "0    139974\n",
       "1     10026\n",
       "Name: SeriousDlqin2yrs, dtype: int64"
      ]
     },
     "execution_count": 11,
     "metadata": {},
     "output_type": "execute_result"
    }
   ],
   "source": [
    "data.SeriousDlqin2yrs.value_counts()"
   ]
  },
  {
   "cell_type": "markdown",
   "metadata": {},
   "source": [
    "Big imbalance here. Let's make a hold out set and train XGBoost. We can play with the `scale_pos_weight` parameter to take care of the imbalance. First I am renaming this column because it's annoying to keep typing."
   ]
  },
  {
   "cell_type": "code",
   "execution_count": 12,
   "metadata": {},
   "outputs": [],
   "source": [
    "data['label'] = data.SeriousDlqin2yrs\n",
    "data.drop(['SeriousDlqin2yrs'], inplace=True, axis=1)"
   ]
  },
  {
   "cell_type": "code",
   "execution_count": 13,
   "metadata": {},
   "outputs": [],
   "source": [
    "# Ratio of 0's to 1's\n",
    "ratio = data.label.value_counts().iloc[0] / data.label.value_counts().iloc[1]"
   ]
  },
  {
   "cell_type": "code",
   "execution_count": 14,
   "metadata": {},
   "outputs": [],
   "source": [
    "msk = np.random.rand(len(data)) < 0.8\n",
    "train_data = data[msk]\n",
    "validation = data[~msk]"
   ]
  },
  {
   "cell_type": "code",
   "execution_count": 15,
   "metadata": {},
   "outputs": [],
   "source": [
    "features = train_data.drop(['label'], axis=1)\n",
    "labels = train_data.label"
   ]
  },
  {
   "cell_type": "code",
   "execution_count": 137,
   "metadata": {},
   "outputs": [
    {
     "name": "stdout",
     "output_type": "stream",
     "text": [
      "Evaluating tree of depth 2\n",
      "Evaluating tree of depth 3\n",
      "Evaluating tree of depth 4\n",
      "Evaluating tree of depth 5\n",
      "Evaluating tree of depth 6\n",
      "Evaluating tree of depth 7\n",
      "Evaluating tree of depth 8\n"
     ]
    }
   ],
   "source": [
    "accuracies = [] \n",
    "aucs = [] \n",
    "val_acc = []\n",
    "val_auc = []\n",
    "\n",
    "num_splits = 5\n",
    "depths = [2, 3, 4, 5, 6, 7, 8]\n",
    "\n",
    "for i in range(len(depths)):\n",
    "    print('Evaluating tree of depth {}'.format(depths[i]))\n",
    "    accuracy = [] \n",
    "    auc = [] \n",
    "    kf = KFold(n_splits=5)\n",
    "    _ = kf.get_n_splits(features, labels)\n",
    "    for train_index, test_index in kf.split(features, labels):\n",
    "        X_train, X_test = features.iloc[train_index], features.iloc[test_index]\n",
    "        y_train, y_test = labels.iloc[train_index], labels.iloc[test_index]\n",
    "\n",
    "        params = {'max_depth':depths[i], 'eta':0.05, 'gamma':1.5, 'silent':1, \n",
    "                 'objective':'binary:logistic', 'early_stopping_rounds':5, \n",
    "                 'scale_pos_weight':ratio}\n",
    "        num_round = 800\n",
    "\n",
    "        dtrain = xgb.DMatrix(X_train, y_train)\n",
    "        dtest = xgb.DMatrix(X_test, y_test)\n",
    "        model = xgb.train(params, dtrain, num_round)\n",
    "        pred = model.predict(dtest)\n",
    "        fpr_temp, tpr_temp, thresholds = metrics.roc_curve(y_test, pred)\n",
    "        auc_temp = metrics.auc(fpr_temp, tpr_temp)\n",
    "        accuracy.append(metrics.accuracy_score(y_test, pred.round()))\n",
    "        auc.append(np.array(auc_temp).mean())\n",
    "\n",
    "    # Grab the mean CV score and validation score\n",
    "    dtest = xgb.DMatrix(validation.drop(['label'], axis=1), validation.label)\n",
    "    pred = model.predict(dtest)\n",
    "    val_acc.append(metrics.accuracy_score(validation.label, pred.round()))\n",
    "    fpr, tpr, thresholds = metrics.roc_curve(validation.label, pred)\n",
    "    val_auc.append(metrics.auc(fpr, tpr))\n",
    "    accuracies.append(np.array(accuracy).mean())\n",
    "    aucs.append(np.array(auc).mean())"
   ]
  },
  {
   "cell_type": "code",
   "execution_count": 139,
   "metadata": {
    "scrolled": false
   },
   "outputs": [
    {
     "data": {
      "image/png": "[encoded data removed]",
      "text/plain": [
       "<matplotlib.figure.Figure at 0x7fbf4e9b9470>"
      ]
     },
     "metadata": {},
     "output_type": "display_data"
    }
   ],
   "source": [
    "fig, ax = plt.subplots(figsize=(8,6))\n",
    "#_ = plt.plot(depths, val_acc, label='Validated Accuracy')\n",
    "_ = plt.plot(depths, val_auc, label='Validated Area Under the Curve')\n",
    "#_ = plt.plot(depths, accuracies, label='CV Accuracy')\n",
    "_ = plt.plot(depths, aucs, label='CV Area Under the Curve')\n",
    "_ = plt.title('Classification Metrics as Tree Depth Increases')\n",
    "_ = plt.xlabel('Tree Depth')\n",
    "_ = plt.ylabel('Rate')\n",
    "_ = plt.legend()"
   ]
  },
  {
   "cell_type": "markdown",
   "metadata": {},
   "source": [
    "Interesting. Lets keep running higher depths."
   ]
  },
  {
   "cell_type": "code",
   "execution_count": 140,
   "metadata": {},
   "outputs": [
    {
     "name": "stdout",
     "output_type": "stream",
     "text": [
      "Evaluating tree of depth 9\n",
      "Evaluating tree of depth 10\n",
      "Evaluating tree of depth 11\n",
      "Evaluating tree of depth 12\n"
     ]
    }
   ],
   "source": [
    "accuracies = [] \n",
    "aucs = [] \n",
    "val_acc = []\n",
    "val_auc = []\n",
    "\n",
    "num_splits = 5\n",
    "depths = [9, 10, 11, 12]\n",
    "\n",
    "for i in range(len(depths)):\n",
    "    print('Evaluating tree of depth {}'.format(depths[i]))\n",
    "    accuracy = [] \n",
    "    auc = [] \n",
    "    kf = KFold(n_splits=5)\n",
    "    _ = kf.get_n_splits(features, labels)\n",
    "    for train_index, test_index in kf.split(features, labels):\n",
    "        X_train, X_test = features.iloc[train_index], features.iloc[test_index]\n",
    "        y_train, y_test = labels.iloc[train_index], labels.iloc[test_index]\n",
    "\n",
    "        params = {'max_depth':depths[i], 'eta':0.05, 'gamma':1.5, 'silent':1, \n",
    "                 'objective':'binary:logistic', 'early_stopping_rounds':5, \n",
    "                 'scale_pos_weight':ratio}\n",
    "        num_round = 800\n",
    "\n",
    "        dtrain = xgb.DMatrix(X_train, y_train)\n",
    "        dtest = xgb.DMatrix(X_test, y_test)\n",
    "        model = xgb.train(params, dtrain, num_round)\n",
    "        pred = model.predict(dtest)\n",
    "        fpr_temp, tpr_temp, thresholds = metrics.roc_curve(y_test, pred)\n",
    "        auc_temp = metrics.auc(fpr_temp, tpr_temp)\n",
    "        accuracy.append(metrics.accuracy_score(y_test, pred.round()))\n",
    "        auc.append(np.array(auc_temp).mean())\n",
    "\n",
    "    # Grab the mean CV score and validation score\n",
    "    dtest = xgb.DMatrix(validation.drop(['label'], axis=1), validation.label)\n",
    "    pred = model.predict(dtest)\n",
    "    val_acc.append(metrics.accuracy_score(validation.label, pred.round()))\n",
    "    fpr, tpr, thresholds = metrics.roc_curve(validation.label, pred)\n",
    "    val_auc.append(metrics.auc(fpr, tpr))\n",
    "    accuracies.append(np.array(accuracy).mean())\n",
    "    aucs.append(np.array(auc).mean())"
   ]
  },
  {
   "cell_type": "code",
   "execution_count": 141,
   "metadata": {},
   "outputs": [
    {
     "data": {
      "image/png": "[encoded data removed]",
      "text/plain": [
       "<matplotlib.figure.Figure at 0x7fbf4e9c2358>"
      ]
     },
     "metadata": {},
     "output_type": "display_data"
    }
   ],
   "source": [
    "fig, ax = plt.subplots(figsize=(8,6))\n",
    "#_ = plt.plot(depths, val_acc, label='Validated Accuracy')\n",
    "_ = plt.plot(depths, val_auc, label='Validated Area Under the Curve')\n",
    "#_ = plt.plot(depths, accuracies, label='CV Accuracy')\n",
    "_ = plt.plot(depths, aucs, label='CV Area Under the Curve')\n",
    "_ = plt.title('Classification Metrics as Tree Depth Increases')\n",
    "_ = plt.xlabel('Tree Depth')\n",
    "_ = plt.ylabel('Rate')\n",
    "_ = plt.legend()"
   ]
  },
  {
   "cell_type": "markdown",
   "metadata": {},
   "source": [
    "In the interest of not overfitting, lets call a depth of 9 our best model."
   ]
  },
  {
   "cell_type": "code",
   "execution_count": 19,
   "metadata": {},
   "outputs": [],
   "source": [
    "dtrain = xgb.DMatrix(features, labels)\n",
    "model = xgb.train({'max_depth':9, 'eta':0.05, 'gamma':1.5, 'silent':1, \n",
    "                 'objective':'binary:logistic', 'early_stopping_rounds':5, \n",
    "                 'scale_pos_weight':ratio}, dtrain, 800)"
   ]
  },
  {
   "cell_type": "markdown",
   "metadata": {},
   "source": [
    "## Part 1: What Is The Effect of Monthly Income"
   ]
  },
  {
   "cell_type": "markdown",
   "metadata": {},
   "source": [
    "We can fit a logistic regression to the model and take a look at how the coefficient weights change."
   ]
  },
  {
   "cell_type": "code",
   "execution_count": 61,
   "metadata": {},
   "outputs": [],
   "source": [
    "features = data.drop(['label'], axis=1)\n",
    "labels = data.label"
   ]
  },
  {
   "cell_type": "code",
   "execution_count": 116,
   "metadata": {},
   "outputs": [],
   "source": [
    "clf = LogisticRegression(penalty='l2', max_iter=1000)\n",
    "_ = clf.fit(features, labels)\n",
    "coef = clf.coef_"
   ]
  },
  {
   "cell_type": "code",
   "execution_count": 125,
   "metadata": {
    "scrolled": true
   },
   "outputs": [],
   "source": [
    "coef = np.reshape(coef, (10,))\n",
    "ratios = np.empty(len(coef))\n",
    "for i in range(len(coef)):\n",
    "    ratios[i] = coef[i]/LA.norm(coef, 1)"
   ]
  },
  {
   "cell_type": "code",
   "execution_count": 127,
   "metadata": {},
   "outputs": [],
   "source": [
    "weights = dict(zip(list(features), ratios))"
   ]
  },
  {
   "cell_type": "code",
   "execution_count": 136,
   "metadata": {},
   "outputs": [
    {
     "name": "stdout",
     "output_type": "stream",
     "text": [
      "{'DebtRatio': -3.7332330480092064e-05,\n",
      " 'MonthlyIncome': -1.7724991697768557e-05,\n",
      " 'NumberOfDependents': 0.036674525945664095,\n",
      " 'NumberOfOpenCreditLinesAndLoans': -0.0058454359873438295,\n",
      " 'NumberOfTime30-59DaysPastDueNotWorse': 0.22071275829988726,\n",
      " 'NumberOfTime60-89DaysPastDueNotWorse': -0.4415152796857481,\n",
      " 'NumberOfTimes90DaysLate': 0.23406659894507753,\n",
      " 'NumberRealEstateLoansOrLines': 0.04287726912841594,\n",
      " 'RevolvingUtilizationOfUnsecuredLines': -2.2786898632826526e-05,\n",
      " 'age': -0.018230287787052542}\n"
     ]
    }
   ],
   "source": [
    "#len(features.columns)\n",
    "#len(np.array(ratios))\n",
    "pp.pprint(weights)"
   ]
  },
  {
   "cell_type": "code",
   "execution_count": 138,
   "metadata": {},
   "outputs": [
    {
     "data": {
      "image/png": "[encoded data removed]",
      "text/plain": [
       "<matplotlib.figure.Figure at 0x7fbf4e90e828>"
      ]
     },
     "metadata": {},
     "output_type": "display_data"
    }
   ],
   "source": [
    "_ = plt.hist(ratios)"
   ]
  },
  {
   "cell_type": "markdown",
   "metadata": {},
   "source": [
    "From our printed dictionary we can see how the coefficient weights are set by the model. Looking specifically at the coefficient for `MonthlyIncome` we can see that the coefficient is $-1.7 x 10^{-5}$. This tells us that earning an additional \\$1000 per month reduces the probability of delinquency by $1.7 x 10^{-2}$  or   $0.017 \\,\\,percent$. Earning an additional \\$2000 per month reduces the probability of delinquency by  $3.4 x 10^{-2}$   or   $0.034 \\,\\,percent$. Earning an additional \\$3000 per month reduces the probability of delinquency by   $0.051\\,\\, percent$."
   ]
  },
  {
   "cell_type": "code",
   "execution_count": 23,
   "metadata": {},
   "outputs": [],
   "source": [
    "#plot_tree(model)\n",
    "# TODO -- graphviz site is down"
   ]
  },
  {
   "cell_type": "markdown",
   "metadata": {},
   "source": [
    "## Part 2 Most Important Variable"
   ]
  },
  {
   "cell_type": "markdown",
   "metadata": {},
   "source": [
    "We can see that the variable with the largest effect is the number of times a person was 60-89 days past due. Interestingly, this variable has the effect of lowering a persons chance of delinquincy. This must be because it has a \"not worse\" clause. The second most important variable is the number of times a person was more than 90 days late. We can see this from the size of the coefficients relative the others."
   ]
  },
  {
   "cell_type": "markdown",
   "metadata": {},
   "source": [
    "## Part 3 Age Discrimination"
   ]
  },
  {
   "cell_type": "code",
   "execution_count": null,
   "metadata": {},
   "outputs": [],
   "source": []
  }
 ],
 "metadata": {
  "kernelspec": {
   "display_name": "Python 3",
   "language": "python",
   "name": "python3"
  },
  "language_info": {
   "codemirror_mode": {
    "name": "ipython",
    "version": 3
   },
   "file_extension": ".py",
   "mimetype": "text/x-python",
   "name": "python",
   "nbconvert_exporter": "python",
   "pygments_lexer": "ipython3",
   "version": "3.5.2"
  }
 },
 "nbformat": 4,
 "nbformat_minor": 2
}
