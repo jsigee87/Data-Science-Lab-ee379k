{
 "cells": [
  {
   "cell_type": "code",
   "execution_count": 71,
   "metadata": {},
   "outputs": [],
   "source": [
    "import numpy as np\n",
    "import matplotlib.pyplot as plt\n",
    "\n",
    "x = np.random.randn(150,)\n",
    "e = np.random.randn(150,)\n",
    "\n",
    "beta_one = 0\n",
    "beta_zero = -3\n",
    "\n",
    "y = beta_zero + beta_one * x + e\n",
    "#We want to use the normal equations to calculate beta_hat\n",
    "x_new = np.ones(len(x),)\n",
    "x_new = np.transpose(np.stack((x_new, x), axis=0))\n",
    "inv = np.linalg.inv(np.dot(x_new.T,x_new))\n",
    "beta_hat = np.dot(np.dot(inv, x_new.T), y)"
   ]
  },
  {
   "cell_type": "code",
   "execution_count": 72,
   "metadata": {},
   "outputs": [
    {
     "name": "stdout",
     "output_type": "stream",
     "text": [
      "[-2.94869318 -0.07142471]\n"
     ]
    }
   ],
   "source": [
    "print(beta_hat)"
   ]
  },
  {
   "cell_type": "code",
   "execution_count": null,
   "metadata": {},
   "outputs": [],
   "source": []
  }
 ],
 "metadata": {
  "kernelspec": {
   "display_name": "Python 3",
   "language": "python",
   "name": "python3"
  },
  "language_info": {
   "codemirror_mode": {
    "name": "ipython",
    "version": 3
   },
   "file_extension": ".py",
   "mimetype": "text/x-python",
   "name": "python",
   "nbconvert_exporter": "python",
   "pygments_lexer": "ipython3",
   "version": "3.5.2"
  }
 },
 "nbformat": 4,
 "nbformat_minor": 2
}
