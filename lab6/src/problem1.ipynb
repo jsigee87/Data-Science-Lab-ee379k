{
 "cells": [
  {
   "cell_type": "markdown",
   "metadata": {},
   "source": [
    "# Problem 1\n",
    "<p>\n",
    "    In this problem we will use synthetic data sets to explore the bias-variance tradeoff\n",
    "    incurred by using regularization.\n",
    "</p>\n",
    "<ul>\n",
    "  <li> \n",
    "      <p>\n",
    "           Generate data of the form:\n",
    "           $ y = X\\beta+ \\epsilon $\n",
    "      </p>\n",
    "      <p>\n",
    "          where X is an n x p matrix where n = 51, p = 50, and each $ X_{ij}  N(0, 1) $ Also, generate\n",
    "          the noise according to \u000fi \u0018 N(0; 1=4). Let \f",
    " be the all ones vector (for simplicity).\n",
    "          By repeatedly doing this experiment and generating fresh data (fresh X, and y, and hence \u000f {\n",
    "          but make that you're not reseting your random seed!) but keeping \f",
    " \f",
    "xed, you will estimate\n",
    "          many different solutions, ^ \f",
    ". Estimate the mean and variance of ^ \f",
    ". Note that ^ \f",
    " is a vector,\n",
    "          so for this exercise simply estimate the variance of a single component.\n",
    "     </p>\n",
    "  </li>\n",
    "  <li>\n",
    "  Use ridge regression, i.e., `2 regularization. Vary the regularization coeffcient $\\lambda $ = 0:01; 0:1; 1; 10; 100 and repeat the above experiment. What do you observe? As you increase $\\lambda $ is the model becoming more simple or more complex? As you increase $\\lambda $ is performance becoming better or worse? Also compute LOOCV for each $\\lambda $. How does the value of LOOCV, and in particular how it changes as $\\lambda $ varies, compare with what you observe for the explicitly computed variance?\n",
    "  </li>\n",
    "  <li>\n",
    "      Read about the Bootstrap, and try to use it to compute the variance (as above), but with a\n",
    "    single copy of the data, rather than with many fresh copies of the data.\n",
    "    </li>\n",
    "</ul>"
   ]
  },
  {
   "cell_type": "code",
   "execution_count": 52,
   "metadata": {},
   "outputs": [],
   "source": [
    "import os\n",
    "import pandas as pd\n",
    "import numpy as np\n",
    "import seaborn as sns\n",
    "import matplotlib.pyplot as plt\n",
    "from mpl_toolkits.mplot3d import Axes3D\n",
    "from pandas.plotting import scatter_matrix\n",
    "from IPython.core.interactiveshell import InteractiveShell\n",
    "from sklearn.discriminant_analysis import LinearDiscriminantAnalysis\n",
    "from sklearn.discriminant_analysis import QuadraticDiscriminantAnalysis\n",
    "from sklearn.preprocessing import LabelBinarizer\n",
    "from sklearn.model_selection import train_test_split\n",
    "from sklearn.linear_model import LogisticRegression\n",
    "from sklearn.linear_model import Ridge\n",
    "from sklearn.metrics import confusion_matrix\n",
    "from sklearn.neighbors import KNeighborsClassifier\n",
    "\n",
    "InteractiveShell.ast_node_interactivity = \"all\"\n",
    "#%matplotlib notebook"
   ]
  },
  {
   "cell_type": "markdown",
   "metadata": {},
   "source": [
    "## Part 1 Sampling"
   ]
  },
  {
   "cell_type": "code",
   "execution_count": 61,
   "metadata": {},
   "outputs": [],
   "source": [
    "def createData():\n",
    "    X = np.random.randn(51,50)\n",
    "    beta = np.ones((50,1))\n",
    "    epsilon = np.random.normal(loc=0, scale=0.25, size=(51,1))\n",
    "    y = np.matmul(X, beta) + epsilon\n",
    "    psuedo_inv = np.linalg.inv(np.matmul(X.T, X))\n",
    "    beta_hat = np.matmul(np.matmul(psuedo_inv, X.T), epsilon) + beta\n",
    "    return X, y, beta_hat, beta"
   ]
  },
  {
   "cell_type": "code",
   "execution_count": 24,
   "metadata": {},
   "outputs": [],
   "source": [
    "def sampleData(n = 100):\n",
    "    samples = []\n",
    "    for i in range(n):\n",
    "        X, y, beta_hat, beta = createData()\n",
    "        samples.append(beta_hat[0,0])\n",
    "    samples = np.array(samples)\n",
    "    return samples"
   ]
  },
  {
   "cell_type": "code",
   "execution_count": 59,
   "metadata": {},
   "outputs": [
    {
     "name": "stdout",
     "output_type": "stream",
     "text": [
      "Mean of the sampling distribution $\\beta$ is: 0.9817339555937701\n",
      "Variance of the sampling distribution is: 0.4144753490820376\n"
     ]
    },
    {
     "data": {
      "image/png": "[encoded data removed]",
      "text/plain": [
       "<matplotlib.figure.Figure at 0x7fb6a3a8d668>"
      ]
     },
     "metadata": {},
     "output_type": "display_data"
    }
   ],
   "source": [
    "num_samples = 500\n",
    "samples = sampleData(num_samples)\n",
    "print(\"Mean of the sampling distribution is: {}\".format(np.mean(samples)))\n",
    "print(\"Variance of the sampling distribution is: {}\".format(np.var(samples)))\n",
    "num_bins = 50\n",
    "_ = plt.hist(samples - np.mean(samples), num_bins, normed=1, facecolor='green', alpha = 0.5, label='Sample')\n",
    "_ = plt.hist(np.random.randn(num_samples), num_bins, normed=1, facecolor='blue', alpha=0.5, label='Std Normal')\n",
    "_ = plt.xlabel('Samples')\n",
    "_ = plt.ylabel('Distribution')\n",
    "_ = plt.title('Sampling Distribution vs. Std. Normal')\n",
    "_ = plt.xlim([-3, 3])\n",
    "_ = plt.ylim([0, 2.2])\n",
    "_ = plt.legend()\n",
    "_ = plt.grid(True)"
   ]
  },
  {
   "cell_type": "markdown",
   "metadata": {},
   "source": [
    "Remark- note that sampling distribution was zero-meaned and normed."
   ]
  },
  {
   "cell_type": "markdown",
   "metadata": {},
   "source": [
    "## Part 2 Ridge Regression"
   ]
  },
  {
   "cell_type": "code",
   "execution_count": 62,
   "metadata": {},
   "outputs": [
    {
     "data": {
      "text/plain": [
       "Ridge(alpha=0.1, copy_X=True, fit_intercept=True, max_iter=None,\n",
       "   normalize=False, random_state=None, solver='auto', tol=0.001)"
      ]
     },
     "execution_count": 62,
     "metadata": {},
     "output_type": "execute_result"
    }
   ],
   "source": [
    "alpha = 0.1\n",
    "X, y, beta_hat, beta = createData()\n",
    "model = Ridge(alpha=alpha)\n",
    "_ = model.fit(X,y)\n"
   ]
  },
  {
   "cell_type": "code",
   "execution_count": null,
   "metadata": {},
   "outputs": [],
   "source": []
  }
 ],
 "metadata": {
  "kernelspec": {
   "display_name": "Python 3",
   "language": "python",
   "name": "python3"
  },
  "language_info": {
   "codemirror_mode": {
    "name": "ipython",
    "version": 3
   },
   "file_extension": ".py",
   "mimetype": "text/x-python",
   "name": "python",
   "nbconvert_exporter": "python",
   "pygments_lexer": "ipython3",
   "version": "3.5.2"
  }
 },
 "nbformat": 4,
 "nbformat_minor": 2
}
