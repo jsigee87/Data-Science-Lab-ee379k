{
 "cells": [
  {
   "cell_type": "markdown",
   "metadata": {},
   "source": [
    "# Problem 3\n",
    "## Problem 11 Chapter 6\n",
    "\n",
    "We will now try to predict per capita crime rate in the Boston data\n",
    "set.<br>"
   ]
  },
  {
   "cell_type": "code",
   "execution_count": 1,
   "metadata": {},
   "outputs": [
    {
     "name": "stderr",
     "output_type": "stream",
     "text": [
      "/mnt/c/programming/ee379k/lib/python3.5/site-packages/statsmodels/compat/pandas.py:56: FutureWarning: The pandas.core.datetools module is deprecated and will be removed in a future version. Please use the pandas.tseries module instead.\n",
      "  from pandas.core import datetools\n"
     ]
    }
   ],
   "source": [
    "import os\n",
    "import pandas as pd\n",
    "import numpy as np\n",
    "import seaborn as sns\n",
    "import matplotlib.pyplot as plt\n",
    "from mpl_toolkits.mplot3d import Axes3D\n",
    "from pandas.plotting import scatter_matrix\n",
    "from IPython.core.interactiveshell import InteractiveShell\n",
    "from sklearn.discriminant_analysis import LinearDiscriminantAnalysis\n",
    "from sklearn.discriminant_analysis import QuadraticDiscriminantAnalysis\n",
    "from sklearn.preprocessing import LabelBinarizer\n",
    "from sklearn.model_selection import train_test_split\n",
    "from sklearn.model_selection import LeaveOneOut\n",
    "from sklearn.model_selection import cross_val_score\n",
    "from sklearn.linear_model import LogisticRegression\n",
    "from sklearn.linear_model import Lasso\n",
    "from sklearn.linear_model import Ridge\n",
    "from sklearn.linear_model import ElasticNet\n",
    "from sklearn.linear_model import SGDRegressor\n",
    "from sklearn.preprocessing import PolynomialFeatures\n",
    "from sklearn.decomposition import PCA\n",
    "import itertools\n",
    "import time\n",
    "import statsmodels.api as sm\n",
    "\n",
    "from sklearn.metrics import confusion_matrix\n",
    "from sklearn.metrics import mean_squared_error\n",
    "from sklearn.preprocessing import StandardScaler\n",
    "from numpy.linalg import inv\n",
    "from sklearn import svm, datasets\n",
    "from sklearn.model_selection import GridSearchCV\n",
    "\n",
    "InteractiveShell.ast_node_interactivity = \"all\"\n",
    "#%matplotlib notebook"
   ]
  },
  {
   "cell_type": "code",
   "execution_count": 2,
   "metadata": {},
   "outputs": [],
   "source": [
    "def plotMSE(alphas, scores):\n",
    "    fig = plt.figure()\n",
    "    _ = plt.semilogx(alphas, scores)\n",
    "    _ = plt.title(r'MSE as $\\alpha$ increases')\n",
    "    _ = plt.xlabel(r'$\\alpha$')\n",
    "    _ = plt.ylabel('MSE')\n",
    "    \n",
    "def plotR(alphas, scores):\n",
    "    fig = plt.figure()\n",
    "    _ = plt.semilogx(alphas, scores)\n",
    "    _ = plt.title(r'R values as $\\alpha$ increases')\n",
    "    _ = plt.xlabel(r'$\\alpha$')\n",
    "    _ = plt.ylabel('R')"
   ]
  },
  {
   "cell_type": "code",
   "execution_count": 3,
   "metadata": {},
   "outputs": [],
   "source": [
    "# Load the data\n",
    "filepath = '../../datasets/ISLR/data/csv/'\n",
    "filename = 'Boston.csv'\n",
    "df = pd.read_csv(filepath + filename)"
   ]
  },
  {
   "cell_type": "code",
   "execution_count": 4,
   "metadata": {},
   "outputs": [],
   "source": [
    "# Get a numpy array and scale the data\n",
    "values = df.values\n",
    "#scaled_data = values\n",
    "scaler = StandardScaler()\n",
    "scaled_data = scaler.fit_transform(values)"
   ]
  },
  {
   "cell_type": "code",
   "execution_count": 5,
   "metadata": {},
   "outputs": [],
   "source": [
    "#print(df.columns)\n",
    "#df.isnull().sum()\n",
    "#print(scaled_data.shape)\n",
    "X = scaled_data[:,1:]\n",
    "y = scaled_data[:,0]\n",
    "X_train, X_test, y_train, y_test = train_test_split(X, y)"
   ]
  },
  {
   "cell_type": "markdown",
   "metadata": {},
   "source": [
    "### Part A\n",
    "Try out some of the regression methods explored in this chapter,\n",
    "such as best subset selection, the lasso, ridge regression, and\n",
    "PCR. Present and discuss results for the approaches that you\n",
    "consider."
   ]
  },
  {
   "cell_type": "code",
   "execution_count": 6,
   "metadata": {},
   "outputs": [],
   "source": [
    "# Keep track of the different model scores\n",
    "scores = {}\n",
    "r_vals = {}"
   ]
  },
  {
   "cell_type": "markdown",
   "metadata": {},
   "source": [
    "#### $L^1$ Regularization (Lasso)"
   ]
  },
  {
   "cell_type": "code",
   "execution_count": 7,
   "metadata": {},
   "outputs": [],
   "source": [
    "# Train using gridsearch cv\n",
    "#alphas = np.logspace(-3, 0.5, num=10)\n",
    "#parameters = {'alpha':alphas}\n",
    "#lasso = Lasso()\n",
    "\n",
    "#model = GridSearchCV(lasso, parameters, cv=5, return_train_score=True)\n",
    "#_ = model.fit(X_train, y_train)\n",
    "#y_hat = model.predict(X_test)\n",
    "#score = mean_squared_error(y_test, y_hat)"
   ]
  },
  {
   "cell_type": "code",
   "execution_count": 8,
   "metadata": {},
   "outputs": [],
   "source": [
    "# Tune by hand\n",
    "alphas = np.logspace(-4, 0, num=10)\n",
    "lasso_scores = []\n",
    "lasso_rvalues = []\n",
    "for alpha in alphas:\n",
    "    lasso = Lasso(alpha=alpha, tol=0.0001)\n",
    "    _ = lasso.fit(X_train, y_train)\n",
    "    pred = lasso.predict(X_test)\n",
    "    r_val = lasso.score(X_test, y_test)\n",
    "    lasso_rvalues.append(r_val)\n",
    "    lasso_scores.append(mean_squared_error(pred, y_test))"
   ]
  },
  {
   "cell_type": "code",
   "execution_count": 9,
   "metadata": {},
   "outputs": [
    {
     "name": "stdout",
     "output_type": "stream",
     "text": [
      "The best alpha was:\n",
      "0.0001\n"
     ]
    },
    {
     "data": {
      "image/png": "[encoded data removed]",
      "text/plain": [
       "<matplotlib.figure.Figure at 0x7f5a54c61b00>"
      ]
     },
     "metadata": {},
     "output_type": "display_data"
    },
    {
     "data": {
      "image/png": "[encoded data removed]",
      "text/plain": [
       "<matplotlib.figure.Figure at 0x7f5a54c61b38>"
      ]
     },
     "metadata": {},
     "output_type": "display_data"
    }
   ],
   "source": [
    "plotMSE(alphas, lasso_scores)\n",
    "plotR(alphas, lasso_rvalues)\n",
    "\n",
    "best_alpha = alphas[np.argmin(np.array(lasso_scores))]\n",
    "print('The best alpha was:')\n",
    "print(best_alpha)\n",
    "\n",
    "# Add to list\n",
    "scores['Lasso'] = np.amin(np.array(lasso_rvalues))\n",
    "scores['Lasso'] = np.amin(lasso_scores)"
   ]
  },
  {
   "cell_type": "code",
   "execution_count": 10,
   "metadata": {},
   "outputs": [
    {
     "name": "stdout",
     "output_type": "stream",
     "text": [
      "dis:   -0.25287289888024134\n",
      "black:   -0.06610260511725459\n",
      "medv:   -0.20182355439791752\n",
      "age:   -0.024959779136971706\n",
      "rad:   0.5316674900891365\n",
      "indus:   -0.04220127663768874\n",
      "chas:   -0.021840596093592676\n",
      "nox:   -0.14838611538433963\n",
      "rm:   0.054007379700657304\n",
      "lstat:   0.11515104909721083\n",
      "ptratio:   -0.07031834952241904\n",
      "tax:   -0.023929884428059076\n",
      "zn:   0.10087158133311624\n"
     ]
    }
   ],
   "source": [
    "# I want to see the weights chosen by Lasso\n",
    "lasso = Lasso(alpha=best_alpha, tol=0.0001)\n",
    "_ = lasso.fit(X_train, y_train)\n",
    "\n",
    "keys = df.columns.values.tolist()\n",
    "_ = keys.pop(0)\n",
    "values = lasso.coef_\n",
    "weights = dict(zip(keys, values))\n",
    "for k, v in weights.items():\n",
    "    print('{}:   {}'.format(k, v))"
   ]
  },
  {
   "cell_type": "markdown",
   "metadata": {},
   "source": [
    "#### $L^1$ Regularization (w/Feature Engineering)"
   ]
  },
  {
   "cell_type": "code",
   "execution_count": 11,
   "metadata": {},
   "outputs": [],
   "source": [
    "# Try dropping zero columns and adding polynomial versions of non-zero columns\n",
    "df_copy = df.copy()\n",
    "#drops = list(weights.keys()[weights.values() == 0])\n",
    "keeps = []\n",
    "for item in weights.items():\n",
    "    if abs(item[1]) >= 0.08:\n",
    "        #print(item[1])\n",
    "        keeps.append(item)\n",
    "\n",
    "keeps = [x[0] for x in keeps]\n",
    "df_copy = df_copy[keeps]\n",
    "\n",
    "# Get a numpy array and scale the data\n",
    "values_copy = df_copy.values\n",
    "#scaled_data_copy = values_copy\n",
    "scaler_copy = StandardScaler()\n",
    "scaled_data_copy = scaler_copy.fit_transform(values_copy)\n",
    "\n",
    "# Make PolynomialFeatures object\n",
    "poly = PolynomialFeatures(2)\n",
    "poly_data = poly.fit_transform(scaled_data_copy)\n",
    "\n",
    "X_train, X_test, y_train, y_test = train_test_split(poly_data, scaled_data[:,0])"
   ]
  },
  {
   "cell_type": "code",
   "execution_count": 12,
   "metadata": {
    "scrolled": true
   },
   "outputs": [
    {
     "name": "stdout",
     "output_type": "stream",
     "text": [
      "Index(['dis', 'medv', 'rad', 'nox', 'lstat', 'zn'], dtype='object')\n"
     ]
    }
   ],
   "source": [
    "print(df_copy.columns)"
   ]
  },
  {
   "cell_type": "code",
   "execution_count": 13,
   "metadata": {},
   "outputs": [],
   "source": [
    "# Tune by hand\n",
    "alphas = np.logspace(-4, -0.2, num=10)\n",
    "lasso_scores = []\n",
    "lasso_rvalues = []\n",
    "for alpha in alphas:\n",
    "    lasso = Lasso(alpha=alpha, tol=0.0001)\n",
    "    _ = lasso.fit(X_train, y_train)\n",
    "    pred = lasso.predict(X_test)\n",
    "    r_val = lasso.score(X_test, y_test)\n",
    "    lasso_rvalues.append(r_val)\n",
    "    lasso_scores.append(mean_squared_error(pred, y_test))"
   ]
  },
  {
   "cell_type": "code",
   "execution_count": 14,
   "metadata": {},
   "outputs": [
    {
     "name": "stdout",
     "output_type": "stream",
     "text": [
      "The best alpha was:\n",
      "0.0018478497974222907\n"
     ]
    },
    {
     "data": {
      "image/png": "[encoded data removed]",
      "text/plain": [
       "<matplotlib.figure.Figure at 0x7f5a52b89fd0>"
      ]
     },
     "metadata": {},
     "output_type": "display_data"
    },
    {
     "data": {
      "image/png": "[encoded data removed]",
      "text/plain": [
       "<matplotlib.figure.Figure at 0x7f5a52b899b0>"
      ]
     },
     "metadata": {},
     "output_type": "display_data"
    }
   ],
   "source": [
    "plotMSE(alphas, lasso_scores)\n",
    "plotR(alphas, lasso_rvalues)\n",
    "\n",
    "best_alpha = alphas[np.argmin(np.array(lasso_scores))]\n",
    "print('The best alpha was:')\n",
    "print(best_alpha)\n",
    "\n",
    "# Add to list\n",
    "r_vals['Lasso-Poly'] = np.amin(np.array(lasso_rvalues))\n",
    "scores['Lasso-Poly'] = np.amin(lasso_scores)"
   ]
  },
  {
   "cell_type": "markdown",
   "metadata": {},
   "source": [
    "#### $L^2$ Regularization with columns chosen by $L^1$"
   ]
  },
  {
   "cell_type": "markdown",
   "metadata": {},
   "source": [
    "We grab the non-zeroed columns from Lasso and perform Ridge on them."
   ]
  },
  {
   "cell_type": "code",
   "execution_count": 15,
   "metadata": {},
   "outputs": [],
   "source": [
    "X_train, X_test, y_train, y_test = train_test_split(scaled_data_copy, scaled_data[:,0])"
   ]
  },
  {
   "cell_type": "code",
   "execution_count": 16,
   "metadata": {},
   "outputs": [],
   "source": [
    "# Tune by hand\n",
    "alphas = np.logspace(1, 3, num=10)\n",
    "lasso_ridge_scores = []\n",
    "lasso_ridge_rvalues = []\n",
    "for alpha in alphas:\n",
    "    ridge = Ridge(alpha=alpha, tol=0.0001)\n",
    "    _ = ridge.fit(X_train, y_train)\n",
    "    pred = ridge.predict(X_test)\n",
    "    r_val = ridge.score(X_test, y_test)\n",
    "    lasso_ridge_rvalues.append(r_val)\n",
    "    lasso_ridge_scores.append(mean_squared_error(pred, y_test))"
   ]
  },
  {
   "cell_type": "code",
   "execution_count": 17,
   "metadata": {},
   "outputs": [
    {
     "name": "stdout",
     "output_type": "stream",
     "text": [
      "The best alpha was:\n",
      "77.4263682681127\n"
     ]
    },
    {
     "data": {
      "image/png": "[encoded data removed]",
      "text/plain": [
       "<matplotlib.figure.Figure at 0x7f5a528a2b00>"
      ]
     },
     "metadata": {},
     "output_type": "display_data"
    },
    {
     "data": {
      "image/png": "[encoded data removed]",
      "text/plain": [
       "<matplotlib.figure.Figure at 0x7f5a528a2cc0>"
      ]
     },
     "metadata": {},
     "output_type": "display_data"
    }
   ],
   "source": [
    "plotMSE(alphas, lasso_ridge_scores)\n",
    "plotR(alphas, lasso_ridge_rvalues)\n",
    "\n",
    "best_alpha = alphas[np.argmin(np.array(lasso_ridge_scores))]\n",
    "print('The best alpha was:')\n",
    "print(best_alpha)\n",
    "\n",
    "# Add to list\n",
    "r_vals['Lasso-Ridge-Combo'] = np.amin(np.array(lasso_ridge_rvalues))\n",
    "scores['Lasso-Ridge-Combo'] = np.amin(lasso_ridge_scores)"
   ]
  },
  {
   "cell_type": "markdown",
   "metadata": {},
   "source": [
    "#### $L^2$ Regularization (Ridge)"
   ]
  },
  {
   "cell_type": "code",
   "execution_count": 18,
   "metadata": {},
   "outputs": [],
   "source": [
    "X_train, X_test, y_train, y_test = train_test_split(scaled_data[:,1:], scaled_data[:,0])"
   ]
  },
  {
   "cell_type": "code",
   "execution_count": 19,
   "metadata": {},
   "outputs": [],
   "source": [
    "#alphas = np.logspace(-3, 1, num=10)\n",
    "#parameters = {'alpha':alphas}\n",
    "#ridge = Ridge()\n",
    "#model = GridSearchCV(ridge, parameters, cv=5, return_train_score=True)\n",
    "#_ = model.fit(scaled_data[:,1:], scaled_data[:,0])\n",
    "#y_hat = model.predict(X_test)\n",
    "#score = mean_squared_error(y_test, y_hat)\n",
    "#scores['Ridge'] = score\n",
    "#print(score)"
   ]
  },
  {
   "cell_type": "code",
   "execution_count": 20,
   "metadata": {},
   "outputs": [],
   "source": [
    "# Tune by hand\n",
    "alphas = np.logspace(-1, 2, num=10)\n",
    "ridge_scores = []\n",
    "ridge_rvals = []\n",
    "for alpha in alphas:\n",
    "    ridge = Ridge(alpha=alpha, tol=0.0001)\n",
    "    _ = ridge.fit(X_train, y_train)\n",
    "    pred = ridge.predict(X_test)\n",
    "    r_val = ridge.score(X_test, y_test)\n",
    "    ridge_rvals.append(r_val)\n",
    "    ridge_scores.append(mean_squared_error(pred, y_test))"
   ]
  },
  {
   "cell_type": "code",
   "execution_count": 21,
   "metadata": {},
   "outputs": [
    {
     "name": "stdout",
     "output_type": "stream",
     "text": [
      "The best alpha was:\n",
      "10.0\n"
     ]
    },
    {
     "data": {
      "image/png": "[encoded data removed]",
      "text/plain": [
       "<matplotlib.figure.Figure at 0x7f5a52821b00>"
      ]
     },
     "metadata": {},
     "output_type": "display_data"
    },
    {
     "data": {
      "image/png": "[encoded data removed]",
      "text/plain": [
       "<matplotlib.figure.Figure at 0x7f5a528213c8>"
      ]
     },
     "metadata": {},
     "output_type": "display_data"
    }
   ],
   "source": [
    "plotMSE(alphas, ridge_scores)\n",
    "plotR(alphas, ridge_rvals)\n",
    "\n",
    "best_alpha = alphas[np.argmin(np.array(ridge_scores))]\n",
    "print('The best alpha was:')\n",
    "print(best_alpha)\n",
    "\n",
    "# Add to list\n",
    "r_vals['Ridge'] = np.amin(np.array(ridge_rvals))\n",
    "scores['Ridge'] = np.amin(ridge_scores)"
   ]
  },
  {
   "cell_type": "code",
   "execution_count": 22,
   "metadata": {},
   "outputs": [
    {
     "name": "stdout",
     "output_type": "stream",
     "text": [
      "dis:   -0.09830997969096686\n",
      "black:   -0.11568865097335537\n",
      "medv:   -0.11578572226237556\n",
      "age:   0.015767235674881405\n",
      "rad:   0.2769159106442261\n",
      "indus:   -0.015441334499667145\n",
      "chas:   -0.0240362745139608\n",
      "nox:   -0.0013004425126157987\n",
      "rm:   0.045452046006826105\n",
      "lstat:   0.0615603873217908\n",
      "ptratio:   -0.000257183049804668\n",
      "tax:   0.1359621668375128\n",
      "zn:   0.05380061229747061\n"
     ]
    }
   ],
   "source": [
    "# I want to see the weights chosen by Ridge\n",
    "keys = df.columns.values.tolist()\n",
    "_ = keys.pop(0)\n",
    "values = ridge.coef_\n",
    "weights = dict(zip(keys, values))\n",
    "for k, v in weights.items():\n",
    "    print('{}:   {}'.format(k, v))"
   ]
  },
  {
   "cell_type": "markdown",
   "metadata": {},
   "source": [
    "#### $L^2$ Regularization (w/Feature Engineering)"
   ]
  },
  {
   "cell_type": "code",
   "execution_count": 23,
   "metadata": {},
   "outputs": [],
   "source": [
    "# Make new Ridge and fit again using polydata\n",
    "X_train, X_test, y_train, y_test = train_test_split(poly_data, scaled_data[:,0])\n",
    "\n",
    "# Tune by hand\n",
    "alphas = np.logspace(-1.5, 2, num=10)\n",
    "ridge_scores = []\n",
    "ridge_rvalues = []\n",
    "for alpha in alphas:\n",
    "    ridge = Ridge(alpha=alpha, tol=0.0001)\n",
    "    _ = ridge.fit(X_train, y_train)\n",
    "    pred = ridge.predict(X_test)\n",
    "    r_val = ridge.score(X_test, y_test)\n",
    "    ridge_rvalues.append(r_val)\n",
    "    ridge_scores.append(mean_squared_error(pred, y_test))"
   ]
  },
  {
   "cell_type": "code",
   "execution_count": 24,
   "metadata": {},
   "outputs": [
    {
     "name": "stdout",
     "output_type": "stream",
     "text": [
      "The best alpha was:\n",
      "0.03162277660168379\n"
     ]
    },
    {
     "data": {
      "image/png": "[encoded data removed]",
      "text/plain": [
       "<matplotlib.figure.Figure at 0x7f5a52a1e6a0>"
      ]
     },
     "metadata": {},
     "output_type": "display_data"
    },
    {
     "data": {
      "image/png": "[encoded data removed]",
      "text/plain": [
       "<matplotlib.figure.Figure at 0x7f5a52a1ecc0>"
      ]
     },
     "metadata": {},
     "output_type": "display_data"
    }
   ],
   "source": [
    "plotMSE(alphas, ridge_scores)\n",
    "plotR(alphas, ridge_rvalues)\n",
    "\n",
    "best_alpha = alphas[np.argmin(np.array(ridge_scores))]\n",
    "print('The best alpha was:')\n",
    "print(best_alpha)\n",
    "\n",
    "# Add to list\n",
    "r_vals['Ridge-Poly'] = np.amin(np.array(ridge_rvals))\n",
    "scores['Ridge-Poly'] = np.amin(ridge_scores)"
   ]
  },
  {
   "cell_type": "code",
   "execution_count": 25,
   "metadata": {
    "scrolled": false
   },
   "outputs": [
    {
     "name": "stdout",
     "output_type": "stream",
     "text": [
      "MSE Scores:\n",
      "Lasso-Poly:   0.35171621257470087\n",
      "Lasso:   0.7959900478325921\n",
      "Lasso-Ridge-Combo:   0.14432203736853225\n",
      "Ridge-Poly:   0.5304938472127648\n",
      "Ridge:   0.388113171018647\n",
      "\n",
      "R Values:\n",
      "Lasso-Poly:   0.02745294423673006\n",
      "Lasso-Ridge-Combo:   0.5188057750415238\n",
      "Ridge-Poly:   0.5369587983922879\n",
      "Ridge:   0.5369587983922879\n"
     ]
    }
   ],
   "source": [
    "print(\"MSE Scores:\")\n",
    "for k, v in scores.items():\n",
    "    print('{}:   {}'.format(k, v))\n",
    "\n",
    "print('')\n",
    "print(\"R Values:\")\n",
    "for k, v in r_vals.items():\n",
    "    print('{}:   {}'.format(k, v))"
   ]
  },
  {
   "cell_type": "markdown",
   "metadata": {},
   "source": [
    "#### Principal Components Regression"
   ]
  },
  {
   "cell_type": "code",
   "execution_count": 26,
   "metadata": {},
   "outputs": [],
   "source": [
    "# Grab fresh data and perform PCA\n",
    "X = scaled_data[:,1:]\n",
    "y = scaled_data[:,0]\n",
    "pca = PCA(n_components=4)\n",
    "X_transformed = pca.fit_transform(X)\n",
    "X_train, X_test, y_train, y_test = train_test_split(X_transformed, y)"
   ]
  },
  {
   "cell_type": "code",
   "execution_count": 27,
   "metadata": {},
   "outputs": [
    {
     "name": "stdout",
     "output_type": "stream",
     "text": [
      "0.3483576183724773\n"
     ]
    }
   ],
   "source": [
    "model = SGDRegressor(loss='squared_loss', penalty='none', max_iter=10, tol=None)\n",
    "_ = model.fit(X_train, y_train)\n",
    "pred = model.predict(X_test)\n",
    "mse = mean_squared_error(pred, y_test)\n",
    "print(mse)"
   ]
  },
  {
   "cell_type": "markdown",
   "metadata": {},
   "source": [
    "#### Best Subset Selection"
   ]
  },
  {
   "cell_type": "code",
   "execution_count": 28,
   "metadata": {},
   "outputs": [],
   "source": [
    "def processSubset(feature_set):\n",
    "    # Fit model on feature_set and calculate RSS\n",
    "    model = sm.OLS(y,X)\n",
    "    regr = model.fit()\n",
    "    RSS = ((regr.predict(X - y) ** 2).sum())\n",
    "    return {\"model\":regr, \"RSS\":RSS}"
   ]
  },
  {
   "cell_type": "code",
   "execution_count": 29,
   "metadata": {},
   "outputs": [],
   "source": [
    "def getBest(k):\n",
    "    tic = time.time()\n",
    "    results = []\n",
    "    for combo in itertools.combinations(X.columns, k):\n",
    "        results.append(processSubset(combo))\n",
    "    \n",
    "    # Wrap everything up in a nice dataframe\n",
    "    models = pd.DataFrame(results)\n",
    "    \n",
    "    # Choose the model with the highest RSS\n",
    "    best_model = models.iloc[:, models['RSS'].idxmin()]\n",
    "    toc = time.time()\n",
    "    print(\"Processed \", models.shape[0], \"models on\", k, \"predictors in\", (toc-tic), \"seconds.\")\n",
    "    \n",
    "    # Return the best model, along with some other useful information about the model\n",
    "    return best_model"
   ]
  },
  {
   "cell_type": "code",
   "execution_count": 29,
   "metadata": {},
   "outputs": [],
   "source": [
    "X = df.drop('crim', axis=1)\n",
    "y = df.iloc[:, df.columns != 'crim']\n",
    "models = pd.DataFrame(columns=['RSS', 'model'])\n",
    "tic = time.time()\n",
    "\n",
    "#for i in range(1,12):\n",
    "#    models.loc[i] = getBest(i)\n",
    "#    toc = time.time()\n",
    "#    print(\"Total elapsed time:\", (toc-tic), \"seconds.\")"
   ]
  },
  {
   "cell_type": "markdown",
   "metadata": {},
   "source": [
    "### Part B\n",
    "Propose a model (or set of models) that seem to perform well on\n",
    "this data set, and justify your answer. Make sure that you are\n",
    "evaluating model performance using validation set error, crossvalidation,\n",
    "or some other reasonable alternative, as opposed to\n",
    "using training error."
   ]
  },
  {
   "cell_type": "markdown",
   "metadata": {},
   "source": [
    "Repeated runs show that the MSE for different models and alphas fluctuates from approximately 0.2 to 1.5. On average, Lasso and PCR tend to perform better. The one that consistenly performed the best overall was running Lasso and then setting a threshold to drop columns based on Lasso coefficients, then running Ridge on the remaining columns. The lowest score was 0.103 with this method. The MSE used here is test error, not training error."
   ]
  },
  {
   "cell_type": "markdown",
   "metadata": {},
   "source": [
    "### Part C\n",
    "Does your chosen model involve all of the features in the data\n",
    "set? Why or why not?"
   ]
  },
  {
   "cell_type": "markdown",
   "metadata": {},
   "source": [
    "Lasso and PCR both neglect specific features by design. Again, the MSE fluctuated wildly but Lasso consistently nearly zeroed out 4-7 columns, while PCR tended to work well with n_components between 2 and 6. The method with Lasso and Ridge also dropped features deemed not relevant."
   ]
  }
 ],
 "metadata": {
  "kernelspec": {
   "display_name": "Python 3",
   "language": "python",
   "name": "python3"
  },
  "language_info": {
   "codemirror_mode": {
    "name": "ipython",
    "version": 3
   },
   "file_extension": ".py",
   "mimetype": "text/x-python",
   "name": "python",
   "nbconvert_exporter": "python",
   "pygments_lexer": "ipython3",
   "version": "3.5.2"
  }
 },
 "nbformat": 4,
 "nbformat_minor": 2
}
