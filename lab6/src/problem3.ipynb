{
 "cells": [
  {
   "cell_type": "markdown",
   "metadata": {},
   "source": [
    "# Problem 3\n",
    "## Problem 11 Chapter 6\n",
    "\n",
    "We will now try to predict per capita crime rate in the Boston data\n",
    "set.<br>"
   ]
  },
  {
   "cell_type": "code",
   "execution_count": 1,
   "metadata": {},
   "outputs": [
    {
     "name": "stderr",
     "output_type": "stream",
     "text": [
      "/mnt/c/programming/ee379k/lib/python3.5/site-packages/statsmodels/compat/pandas.py:56: FutureWarning: The pandas.core.datetools module is deprecated and will be removed in a future version. Please use the pandas.tseries module instead.\n",
      "  from pandas.core import datetools\n"
     ]
    }
   ],
   "source": [
    "import os\n",
    "import pandas as pd\n",
    "import numpy as np\n",
    "import seaborn as sns\n",
    "import matplotlib.pyplot as plt\n",
    "from mpl_toolkits.mplot3d import Axes3D\n",
    "from pandas.plotting import scatter_matrix\n",
    "from IPython.core.interactiveshell import InteractiveShell\n",
    "from sklearn.discriminant_analysis import LinearDiscriminantAnalysis\n",
    "from sklearn.discriminant_analysis import QuadraticDiscriminantAnalysis\n",
    "from sklearn.preprocessing import LabelBinarizer\n",
    "from sklearn.model_selection import train_test_split\n",
    "from sklearn.model_selection import LeaveOneOut\n",
    "from sklearn.model_selection import cross_val_score\n",
    "from sklearn.linear_model import LogisticRegression\n",
    "from sklearn.linear_model import Lasso\n",
    "from sklearn.linear_model import Ridge\n",
    "from sklearn.linear_model import ElasticNet\n",
    "from sklearn.linear_model import SGDRegressor\n",
    "from sklearn.preprocessing import PolynomialFeatures\n",
    "from sklearn.decomposition import PCA\n",
    "import itertools\n",
    "import time\n",
    "import statsmodels.api as sm\n",
    "\n",
    "from sklearn.metrics import confusion_matrix\n",
    "from sklearn.metrics import mean_squared_error\n",
    "from sklearn.preprocessing import StandardScaler\n",
    "from numpy.linalg import inv\n",
    "from sklearn import svm, datasets\n",
    "from sklearn.model_selection import GridSearchCV\n",
    "\n",
    "InteractiveShell.ast_node_interactivity = \"all\"\n",
    "#%matplotlib notebook"
   ]
  },
  {
   "cell_type": "code",
   "execution_count": 2,
   "metadata": {},
   "outputs": [],
   "source": [
    "def plotMSE(alphas, scores):\n",
    "    fig = plt.figure()\n",
    "    _ = plt.semilogx(alphas, scores)\n",
    "    _ = plt.title(r'MSE as $\\alpha$ increases')\n",
    "    _ = plt.xlabel(r'$\\alpha$')\n",
    "    _ = plt.ylabel('MSE')\n",
    "    \n",
    "def plotR(alphas, scores):\n",
    "    fig = plt.figure()\n",
    "    _ = plt.semilogx(alphas, scores)\n",
    "    _ = plt.title(r'R values as $\\alpha$ increases')\n",
    "    _ = plt.xlabel(r'$\\alpha$')\n",
    "    _ = plt.ylabel('R')"
   ]
  },
  {
   "cell_type": "code",
   "execution_count": 3,
   "metadata": {},
   "outputs": [],
   "source": [
    "# Load the data\n",
    "filepath = '../../datasets/ISLR/data/csv/'\n",
    "filename = 'Boston.csv'\n",
    "df = pd.read_csv(filepath + filename)"
   ]
  },
  {
   "cell_type": "code",
   "execution_count": 4,
   "metadata": {},
   "outputs": [],
   "source": [
    "# Get a numpy array and scale the data\n",
    "values = df.values\n",
    "#scaled_data = values\n",
    "scaler = StandardScaler()\n",
    "scaled_data = scaler.fit_transform(values)"
   ]
  },
  {
   "cell_type": "code",
   "execution_count": 5,
   "metadata": {},
   "outputs": [],
   "source": [
    "#print(df.columns)\n",
    "#df.isnull().sum()\n",
    "#print(scaled_data.shape)\n",
    "X = scaled_data[:,1:]\n",
    "y = scaled_data[:,0]\n",
    "X_train, X_test, y_train, y_test = train_test_split(X, y)"
   ]
  },
  {
   "cell_type": "markdown",
   "metadata": {},
   "source": [
    "### Part A\n",
    "Try out some of the regression methods explored in this chapter,\n",
    "such as best subset selection, the lasso, ridge regression, and\n",
    "PCR. Present and discuss results for the approaches that you\n",
    "consider."
   ]
  },
  {
   "cell_type": "code",
   "execution_count": 6,
   "metadata": {},
   "outputs": [],
   "source": [
    "# Keep track of the different model scores\n",
    "scores = {}\n",
    "r_vals = {}"
   ]
  },
  {
   "cell_type": "markdown",
   "metadata": {},
   "source": [
    "#### $L^1$ Regularization (Lasso)"
   ]
  },
  {
   "cell_type": "code",
   "execution_count": 7,
   "metadata": {},
   "outputs": [],
   "source": [
    "# Train using gridsearch cv\n",
    "#alphas = np.logspace(-3, 0.5, num=10)\n",
    "#parameters = {'alpha':alphas}\n",
    "#lasso = Lasso()\n",
    "\n",
    "#model = GridSearchCV(lasso, parameters, cv=5, return_train_score=True)\n",
    "#_ = model.fit(X_train, y_train)\n",
    "#y_hat = model.predict(X_test)\n",
    "#score = mean_squared_error(y_test, y_hat)"
   ]
  },
  {
   "cell_type": "code",
   "execution_count": 8,
   "metadata": {},
   "outputs": [],
   "source": [
    "# Tune by hand\n",
    "alphas = np.logspace(-4, 0, num=10)\n",
    "lasso_scores = []\n",
    "lasso_rvalues = []\n",
    "for alpha in alphas:\n",
    "    lasso = Lasso(alpha=alpha, tol=0.0001)\n",
    "    _ = lasso.fit(X_train, y_train)\n",
    "    pred = lasso.predict(X_test)\n",
    "    r_val = lasso.score(X_test, y_test)\n",
    "    lasso_rvalues.append(r_val)\n",
    "    lasso_scores.append(mean_squared_error(pred, y_test))"
   ]
  },
  {
   "cell_type": "code",
   "execution_count": 9,
   "metadata": {},
   "outputs": [
    {
     "name": "stdout",
     "output_type": "stream",
     "text": [
      "The best alpha was:\n",
      "0.0001\n"
     ]
    },
    {
     "data": {
      "image/png": "[encoded data removed]",
      "text/plain": [
       "<matplotlib.figure.Figure at 0x7f3ca8328b00>"
      ]
     },
     "metadata": {},
     "output_type": "display_data"
    },
    {
     "data": {
      "image/png": "[encoded data removed]",
      "text/plain": [
       "<matplotlib.figure.Figure at 0x7f3ca8328b38>"
      ]
     },
     "metadata": {},
     "output_type": "display_data"
    }
   ],
   "source": [
    "plotMSE(alphas, lasso_scores)\n",
    "plotR(alphas, lasso_rvalues)\n",
    "\n",
    "best_alpha = alphas[np.argmin(np.array(lasso_scores))]\n",
    "print('The best alpha was:')\n",
    "print(best_alpha)\n",
    "\n",
    "# Add to list\n",
    "scores['Lasso'] = np.amin(np.array(lasso_rvalues))\n",
    "scores['Lasso'] = np.amin(lasso_scores)"
   ]
  },
  {
   "cell_type": "code",
   "execution_count": 10,
   "metadata": {},
   "outputs": [
    {
     "name": "stdout",
     "output_type": "stream",
     "text": [
      "age:   -0.02790299359733042\n",
      "nox:   -0.11616940871556543\n",
      "black:   -0.056191337491865265\n",
      "zn:   0.1180897416116192\n",
      "rad:   0.5754407714607461\n",
      "lstat:   0.05550260648654278\n",
      "ptratio:   -0.053871643789786934\n",
      "chas:   -0.005312793582877186\n",
      "tax:   -0.07101066037815777\n",
      "medv:   -0.2624944742835852\n",
      "indus:   -0.05943217680876339\n",
      "rm:   0.05901864453309198\n",
      "dis:   -0.26266123791521867\n"
     ]
    }
   ],
   "source": [
    "# I want to see the weights chosen by Lasso\n",
    "lasso = Lasso(alpha=best_alpha, tol=0.0001)\n",
    "_ = lasso.fit(X_train, y_train)\n",
    "\n",
    "keys = df.columns.values.tolist()\n",
    "_ = keys.pop(0)\n",
    "values = lasso.coef_\n",
    "weights = dict(zip(keys, values))\n",
    "for k, v in weights.items():\n",
    "    print('{}:   {}'.format(k, v))"
   ]
  },
  {
   "cell_type": "markdown",
   "metadata": {},
   "source": [
    "#### $L^1$ Regularization (w/Feature Engineering)"
   ]
  },
  {
   "cell_type": "code",
   "execution_count": 11,
   "metadata": {},
   "outputs": [],
   "source": [
    "# Try dropping zero columns and adding polynomial versions of non-zero columns\n",
    "df_copy = df.copy()\n",
    "#drops = list(weights.keys()[weights.values() == 0])\n",
    "keeps = []\n",
    "for item in weights.items():\n",
    "    if abs(item[1]) >= 0.08:\n",
    "        #print(item[1])\n",
    "        keeps.append(item)\n",
    "\n",
    "keeps = [x[0] for x in keeps]\n",
    "df_copy = df_copy[keeps]\n",
    "\n",
    "# Get a numpy array and scale the data\n",
    "values_copy = df_copy.values\n",
    "#scaled_data_copy = values_copy\n",
    "scaler_copy = StandardScaler()\n",
    "scaled_data_copy = scaler_copy.fit_transform(values_copy)\n",
    "\n",
    "# Make PolynomialFeatures object\n",
    "poly = PolynomialFeatures(2)\n",
    "poly_data = poly.fit_transform(scaled_data_copy)\n",
    "\n",
    "X_train, X_test, y_train, y_test = train_test_split(poly_data, scaled_data[:,0])"
   ]
  },
  {
   "cell_type": "code",
   "execution_count": 12,
   "metadata": {
    "scrolled": true
   },
   "outputs": [
    {
     "name": "stdout",
     "output_type": "stream",
     "text": [
      "Index(['nox', 'zn', 'rad', 'medv', 'dis'], dtype='object')\n"
     ]
    }
   ],
   "source": [
    "print(df_copy.columns)"
   ]
  },
  {
   "cell_type": "code",
   "execution_count": 13,
   "metadata": {},
   "outputs": [],
   "source": [
    "# Tune by hand\n",
    "alphas = np.logspace(-4, -0.2, num=10)\n",
    "lasso_scores = []\n",
    "lasso_rvalues = []\n",
    "for alpha in alphas:\n",
    "    lasso = Lasso(alpha=alpha, tol=0.0001)\n",
    "    _ = lasso.fit(X_train, y_train)\n",
    "    pred = lasso.predict(X_test)\n",
    "    r_val = lasso.score(X_test, y_test)\n",
    "    lasso_rvalues.append(r_val)\n",
    "    lasso_scores.append(mean_squared_error(pred, y_test))"
   ]
  },
  {
   "cell_type": "code",
   "execution_count": 14,
   "metadata": {},
   "outputs": [
    {
     "name": "stdout",
     "output_type": "stream",
     "text": [
      "The best alpha was:\n",
      "0.0018478497974222907\n"
     ]
    },
    {
     "data": {
      "image/png": "[encoded data removed]",
      "text/plain": [
       "<matplotlib.figure.Figure at 0x7f3ca62b97f0>"
      ]
     },
     "metadata": {},
     "output_type": "display_data"
    },
    {
     "data": {
      "image/png": "[encoded data removed]",
      "text/plain": [
       "<matplotlib.figure.Figure at 0x7f3ca62b9518>"
      ]
     },
     "metadata": {},
     "output_type": "display_data"
    }
   ],
   "source": [
    "plotMSE(alphas, lasso_scores)\n",
    "plotR(alphas, lasso_rvalues)\n",
    "\n",
    "best_alpha = alphas[np.argmin(np.array(lasso_scores))]\n",
    "print('The best alpha was:')\n",
    "print(best_alpha)\n",
    "\n",
    "# Add to list\n",
    "r_vals['Lasso-Poly'] = np.amin(np.array(lasso_rvalues))\n",
    "scores['Lasso-Poly'] = np.amin(lasso_scores)"
   ]
  },
  {
   "cell_type": "markdown",
   "metadata": {},
   "source": [
    "#### $L^2$ Regularization with columns chosen by $L^1$"
   ]
  },
  {
   "cell_type": "markdown",
   "metadata": {},
   "source": [
    "We grab the non-zeroed columns from Lasso and perform Ridge on them."
   ]
  },
  {
   "cell_type": "code",
   "execution_count": 15,
   "metadata": {},
   "outputs": [],
   "source": [
    "X_train, X_test, y_train, y_test = train_test_split(scaled_data_copy, scaled_data[:,0])"
   ]
  },
  {
   "cell_type": "code",
   "execution_count": 16,
   "metadata": {},
   "outputs": [],
   "source": [
    "# Tune by hand\n",
    "alphas = np.logspace(1, 3, num=10)\n",
    "lasso_ridge_scores = []\n",
    "lasso_ridge_rvalues = []\n",
    "for alpha in alphas:\n",
    "    ridge = Ridge(alpha=alpha, tol=0.0001)\n",
    "    _ = ridge.fit(X_train, y_train)\n",
    "    pred = ridge.predict(X_test)\n",
    "    r_val = ridge.score(X_test, y_test)\n",
    "    lasso_ridge_rvalues.append(r_val)\n",
    "    lasso_ridge_scores.append(mean_squared_error(pred, y_test))"
   ]
  },
  {
   "cell_type": "code",
   "execution_count": 17,
   "metadata": {},
   "outputs": [
    {
     "name": "stdout",
     "output_type": "stream",
     "text": [
      "The best alpha was:\n",
      "10.0\n"
     ]
    },
    {
     "data": {
      "image/png": "[encoded data removed]",
      "text/plain": [
       "<matplotlib.figure.Figure at 0x7f3ca5f03cf8>"
      ]
     },
     "metadata": {},
     "output_type": "display_data"
    },
    {
     "data": {
      "image/png": "[encoded data removed]",
      "text/plain": [
       "<matplotlib.figure.Figure at 0x7f3ca5f03278>"
      ]
     },
     "metadata": {},
     "output_type": "display_data"
    }
   ],
   "source": [
    "plotMSE(alphas, lasso_ridge_scores)\n",
    "plotR(alphas, lasso_ridge_rvalues)\n",
    "\n",
    "best_alpha = alphas[np.argmin(np.array(lasso_ridge_scores))]\n",
    "print('The best alpha was:')\n",
    "print(best_alpha)\n",
    "\n",
    "# Add to list\n",
    "r_vals['Lasso-Ridge-Combo'] = np.amin(np.array(lasso_ridge_rvalues))\n",
    "scores['Lasso-Ridge-Combo'] = np.amin(lasso_ridge_scores)"
   ]
  },
  {
   "cell_type": "markdown",
   "metadata": {},
   "source": [
    "#### $L^2$ Regularization (Ridge)"
   ]
  },
  {
   "cell_type": "code",
   "execution_count": 18,
   "metadata": {},
   "outputs": [],
   "source": [
    "X_train, X_test, y_train, y_test = train_test_split(scaled_data[:,1:], scaled_data[:,0])"
   ]
  },
  {
   "cell_type": "code",
   "execution_count": 19,
   "metadata": {},
   "outputs": [],
   "source": [
    "#alphas = np.logspace(-3, 1, num=10)\n",
    "#parameters = {'alpha':alphas}\n",
    "#ridge = Ridge()\n",
    "#model = GridSearchCV(ridge, parameters, cv=5, return_train_score=True)\n",
    "#_ = model.fit(scaled_data[:,1:], scaled_data[:,0])\n",
    "#y_hat = model.predict(X_test)\n",
    "#score = mean_squared_error(y_test, y_hat)\n",
    "#scores['Ridge'] = score\n",
    "#print(score)"
   ]
  },
  {
   "cell_type": "code",
   "execution_count": 20,
   "metadata": {},
   "outputs": [],
   "source": [
    "# Tune by hand\n",
    "alphas = np.logspace(-1, 2, num=10)\n",
    "ridge_scores = []\n",
    "ridge_rvals = []\n",
    "for alpha in alphas:\n",
    "    ridge = Ridge(alpha=alpha, tol=0.0001)\n",
    "    _ = ridge.fit(X_train, y_train)\n",
    "    pred = ridge.predict(X_test)\n",
    "    r_val = ridge.score(X_test, y_test)\n",
    "    ridge_rvals.append(r_val)\n",
    "    ridge_scores.append(mean_squared_error(pred, y_test))"
   ]
  },
  {
   "cell_type": "code",
   "execution_count": 21,
   "metadata": {},
   "outputs": [
    {
     "name": "stdout",
     "output_type": "stream",
     "text": [
      "The best alpha was:\n",
      "0.1\n"
     ]
    },
    {
     "data": {
      "image/png": "[encoded data removed]",
      "text/plain": [
       "<matplotlib.figure.Figure at 0x7f3ca5f6cba8>"
      ]
     },
     "metadata": {},
     "output_type": "display_data"
    },
    {
     "data": {
      "image/png": "[encoded data removed]",
      "text/plain": [
       "<matplotlib.figure.Figure at 0x7f3ca5f6c1d0>"
      ]
     },
     "metadata": {},
     "output_type": "display_data"
    }
   ],
   "source": [
    "plotMSE(alphas, ridge_scores)\n",
    "plotR(alphas, ridge_rvals)\n",
    "\n",
    "best_alpha = alphas[np.argmin(np.array(ridge_scores))]\n",
    "print('The best alpha was:')\n",
    "print(best_alpha)\n",
    "\n",
    "# Add to list\n",
    "r_vals['Ridge'] = np.amin(np.array(ridge_rvals))\n",
    "scores['Ridge'] = np.amin(ridge_scores)"
   ]
  },
  {
   "cell_type": "code",
   "execution_count": 22,
   "metadata": {},
   "outputs": [
    {
     "name": "stdout",
     "output_type": "stream",
     "text": [
      "age:   0.02739045642066733\n",
      "nox:   -0.002003544495737815\n",
      "black:   -0.10662184625545186\n",
      "zn:   0.06134934443225899\n",
      "rad:   0.2699785624724983\n",
      "lstat:   0.08629503918148118\n",
      "ptratio:   0.005033748888331357\n",
      "chas:   -0.02512175211554057\n",
      "tax:   0.11994241564478338\n",
      "medv:   -0.07342454537816963\n",
      "indus:   -0.0343293019235305\n",
      "rm:   -0.022941846241958736\n",
      "dis:   -0.08280423495717693\n"
     ]
    }
   ],
   "source": [
    "# I want to see the weights chosen by Ridge\n",
    "keys = df.columns.values.tolist()\n",
    "_ = keys.pop(0)\n",
    "values = ridge.coef_\n",
    "weights = dict(zip(keys, values))\n",
    "for k, v in weights.items():\n",
    "    print('{}:   {}'.format(k, v))"
   ]
  },
  {
   "cell_type": "markdown",
   "metadata": {},
   "source": [
    "#### $L^2$ Regularization (w/Feature Engineering)"
   ]
  },
  {
   "cell_type": "code",
   "execution_count": 23,
   "metadata": {},
   "outputs": [],
   "source": [
    "# Make new Ridge and fit again using polydata\n",
    "X_train, X_test, y_train, y_test = train_test_split(poly_data, scaled_data[:,0])\n",
    "\n",
    "# Tune by hand\n",
    "alphas = np.logspace(-1.5, 2, num=10)\n",
    "ridge_scores = []\n",
    "ridge_rvalues = []\n",
    "for alpha in alphas:\n",
    "    ridge = Ridge(alpha=alpha, tol=0.0001)\n",
    "    _ = ridge.fit(X_train, y_train)\n",
    "    pred = ridge.predict(X_test)\n",
    "    r_val = ridge.score(X_test, y_test)\n",
    "    ridge_rvalues.append(r_val)\n",
    "    ridge_scores.append(mean_squared_error(pred, y_test))"
   ]
  },
  {
   "cell_type": "code",
   "execution_count": 24,
   "metadata": {},
   "outputs": [
    {
     "name": "stdout",
     "output_type": "stream",
     "text": [
      "The best alpha was:\n",
      "0.03162277660168379\n"
     ]
    },
    {
     "data": {
      "image/png": "[encoded data removed]",
      "text/plain": [
       "<matplotlib.figure.Figure at 0x7f3ca62d4668>"
      ]
     },
     "metadata": {},
     "output_type": "display_data"
    },
    {
     "data": {
      "image/png": "[encoded data removed]",
      "text/plain": [
       "<matplotlib.figure.Figure at 0x7f3ca62d4be0>"
      ]
     },
     "metadata": {},
     "output_type": "display_data"
    }
   ],
   "source": [
    "plotMSE(alphas, ridge_scores)\n",
    "plotR(alphas, ridge_rvalues)\n",
    "\n",
    "best_alpha = alphas[np.argmin(np.array(ridge_scores))]\n",
    "print('The best alpha was:')\n",
    "print(best_alpha)\n",
    "\n",
    "# Add to list\n",
    "r_vals['Ridge-Poly'] = np.amin(np.array(ridge_rvals))\n",
    "scores['Ridge-Poly'] = np.amin(ridge_scores)"
   ]
  },
  {
   "cell_type": "code",
   "execution_count": 25,
   "metadata": {
    "scrolled": false
   },
   "outputs": [
    {
     "name": "stdout",
     "output_type": "stream",
     "text": [
      "MSE Scores:\n",
      "Lasso-Ridge-Combo:   0.4072990356125501\n",
      "Ridge:   0.9925118789194689\n",
      "Lasso:   0.6638735472657933\n",
      "Ridge-Poly:   0.2836203380974229\n",
      "Lasso-Poly:   0.5497964072573027\n",
      "\n",
      "R Values:\n",
      "Lasso-Ridge-Combo:   0.3131575420074627\n",
      "Ridge:   0.34369422019468643\n",
      "Lasso-Poly:   0.0038797808475485858\n",
      "Ridge-Poly:   0.34369422019468643\n"
     ]
    }
   ],
   "source": [
    "print(\"MSE Scores:\")\n",
    "for k, v in scores.items():\n",
    "    print('{}:   {}'.format(k, v))\n",
    "\n",
    "print('')\n",
    "print(\"R Values:\")\n",
    "for k, v in r_vals.items():\n",
    "    print('{}:   {}'.format(k, v))"
   ]
  },
  {
   "cell_type": "markdown",
   "metadata": {},
   "source": [
    "#### Principal Components Regression"
   ]
  },
  {
   "cell_type": "code",
   "execution_count": 26,
   "metadata": {},
   "outputs": [],
   "source": [
    "# Grab fresh data and perform PCA\n",
    "X = scaled_data[:,1:]\n",
    "y = scaled_data[:,0]\n",
    "pca = PCA(n_components=4)\n",
    "X_transformed = pca.fit_transform(X)\n",
    "X_train, X_test, y_train, y_test = train_test_split(X_transformed, y)"
   ]
  },
  {
   "cell_type": "code",
   "execution_count": 27,
   "metadata": {},
   "outputs": [
    {
     "name": "stdout",
     "output_type": "stream",
     "text": [
      "0.37479537662697515\n"
     ]
    }
   ],
   "source": [
    "model = SGDRegressor(loss='squared_loss', penalty='none', max_iter=10, tol=None)\n",
    "_ = model.fit(X_train, y_train)\n",
    "pred = model.predict(X_test)\n",
    "mse = mean_squared_error(pred, y_test)\n",
    "print(mse)"
   ]
  },
  {
   "cell_type": "markdown",
   "metadata": {},
   "source": [
    "#### Best Subset Selection"
   ]
  },
  {
   "cell_type": "code",
   "execution_count": 28,
   "metadata": {},
   "outputs": [],
   "source": [
    "def processSubset(feature_set):\n",
    "    # Fit model on feature_set and calculate RSS\n",
    "    model = sm.OLS(y,X)\n",
    "    regr = model.fit()\n",
    "    RSS = ((regr.predict(X - y) ** 2).sum())\n",
    "    return {\"model\":regr, \"RSS\":RSS}"
   ]
  },
  {
   "cell_type": "code",
   "execution_count": 29,
   "metadata": {},
   "outputs": [],
   "source": [
    "def getBest(k):\n",
    "    tic = time.time()\n",
    "    results = []\n",
    "    for combo in itertools.combinations(X.columns, k):\n",
    "        results.append(processSubset(combo))\n",
    "    \n",
    "    # Wrap everything up in a nice dataframe\n",
    "    models = pd.DataFrame(results)\n",
    "    print(results)\n",
    "    # Choose the model with the highest RSS\n",
    "    best_model = models.iloc[:, models['RSS'].idxmin()]\n",
    "    toc = time.time()\n",
    "    print(\"Processed \", models.shape[0], \"models on\", k, \"predictors in\", (toc-tic), \"seconds.\")\n",
    "    \n",
    "    # Return the best model, along with some other useful information about the model\n",
    "    return best_model"
   ]
  },
  {
   "cell_type": "code",
   "execution_count": 30,
   "metadata": {},
   "outputs": [
    {
     "name": "stdout",
     "output_type": "stream",
     "text": [
      "[{'RSS': 0     0.0\n",
      "1     0.0\n",
      "2     0.0\n",
      "3     0.0\n",
      "4     0.0\n",
      "5     0.0\n",
      "6     0.0\n",
      "7     0.0\n",
      "8     0.0\n",
      "9     0.0\n",
      "10    0.0\n",
      "11    0.0\n",
      "12    0.0\n",
      "dtype: float64, 'model': <statsmodels.regression.linear_model.RegressionResultsWrapper object at 0x7f3ca62ad0b8>}, {'RSS': 0     0.0\n",
      "1     0.0\n",
      "2     0.0\n",
      "3     0.0\n",
      "4     0.0\n",
      "5     0.0\n",
      "6     0.0\n",
      "7     0.0\n",
      "8     0.0\n",
      "9     0.0\n",
      "10    0.0\n",
      "11    0.0\n",
      "12    0.0\n",
      "dtype: float64, 'model': <statsmodels.regression.linear_model.RegressionResultsWrapper object at 0x7f3ca62bd400>}, {'RSS': 0     0.0\n",
      "1     0.0\n",
      "2     0.0\n",
      "3     0.0\n",
      "4     0.0\n",
      "5     0.0\n",
      "6     0.0\n",
      "7     0.0\n",
      "8     0.0\n",
      "9     0.0\n",
      "10    0.0\n",
      "11    0.0\n",
      "12    0.0\n",
      "dtype: float64, 'model': <statsmodels.regression.linear_model.RegressionResultsWrapper object at 0x7f3ca62ad208>}, {'RSS': 0     0.0\n",
      "1     0.0\n",
      "2     0.0\n",
      "3     0.0\n",
      "4     0.0\n",
      "5     0.0\n",
      "6     0.0\n",
      "7     0.0\n",
      "8     0.0\n",
      "9     0.0\n",
      "10    0.0\n",
      "11    0.0\n",
      "12    0.0\n",
      "dtype: float64, 'model': <statsmodels.regression.linear_model.RegressionResultsWrapper object at 0x7f3ca615a5c0>}, {'RSS': 0     0.0\n",
      "1     0.0\n",
      "2     0.0\n",
      "3     0.0\n",
      "4     0.0\n",
      "5     0.0\n",
      "6     0.0\n",
      "7     0.0\n",
      "8     0.0\n",
      "9     0.0\n",
      "10    0.0\n",
      "11    0.0\n",
      "12    0.0\n",
      "dtype: float64, 'model': <statsmodels.regression.linear_model.RegressionResultsWrapper object at 0x7f3ca615ac18>}, {'RSS': 0     0.0\n",
      "1     0.0\n",
      "2     0.0\n",
      "3     0.0\n",
      "4     0.0\n",
      "5     0.0\n",
      "6     0.0\n",
      "7     0.0\n",
      "8     0.0\n",
      "9     0.0\n",
      "10    0.0\n",
      "11    0.0\n",
      "12    0.0\n",
      "dtype: float64, 'model': <statsmodels.regression.linear_model.RegressionResultsWrapper object at 0x7f3ca606e4a8>}, {'RSS': 0     0.0\n",
      "1     0.0\n",
      "2     0.0\n",
      "3     0.0\n",
      "4     0.0\n",
      "5     0.0\n",
      "6     0.0\n",
      "7     0.0\n",
      "8     0.0\n",
      "9     0.0\n",
      "10    0.0\n",
      "11    0.0\n",
      "12    0.0\n",
      "dtype: float64, 'model': <statsmodels.regression.linear_model.RegressionResultsWrapper object at 0x7f3ca62d4cc0>}, {'RSS': 0     0.0\n",
      "1     0.0\n",
      "2     0.0\n",
      "3     0.0\n",
      "4     0.0\n",
      "5     0.0\n",
      "6     0.0\n",
      "7     0.0\n",
      "8     0.0\n",
      "9     0.0\n",
      "10    0.0\n",
      "11    0.0\n",
      "12    0.0\n",
      "dtype: float64, 'model': <statsmodels.regression.linear_model.RegressionResultsWrapper object at 0x7f3ca62d4748>}, {'RSS': 0     0.0\n",
      "1     0.0\n",
      "2     0.0\n",
      "3     0.0\n",
      "4     0.0\n",
      "5     0.0\n",
      "6     0.0\n",
      "7     0.0\n",
      "8     0.0\n",
      "9     0.0\n",
      "10    0.0\n",
      "11    0.0\n",
      "12    0.0\n",
      "dtype: float64, 'model': <statsmodels.regression.linear_model.RegressionResultsWrapper object at 0x7f3ca62ceb70>}, {'RSS': 0     0.0\n",
      "1     0.0\n",
      "2     0.0\n",
      "3     0.0\n",
      "4     0.0\n",
      "5     0.0\n",
      "6     0.0\n",
      "7     0.0\n",
      "8     0.0\n",
      "9     0.0\n",
      "10    0.0\n",
      "11    0.0\n",
      "12    0.0\n",
      "dtype: float64, 'model': <statsmodels.regression.linear_model.RegressionResultsWrapper object at 0x7f3ca606e278>}, {'RSS': 0     0.0\n",
      "1     0.0\n",
      "2     0.0\n",
      "3     0.0\n",
      "4     0.0\n",
      "5     0.0\n",
      "6     0.0\n",
      "7     0.0\n",
      "8     0.0\n",
      "9     0.0\n",
      "10    0.0\n",
      "11    0.0\n",
      "12    0.0\n",
      "dtype: float64, 'model': <statsmodels.regression.linear_model.RegressionResultsWrapper object at 0x7f3ca606e390>}, {'RSS': 0     0.0\n",
      "1     0.0\n",
      "2     0.0\n",
      "3     0.0\n",
      "4     0.0\n",
      "5     0.0\n",
      "6     0.0\n",
      "7     0.0\n",
      "8     0.0\n",
      "9     0.0\n",
      "10    0.0\n",
      "11    0.0\n",
      "12    0.0\n",
      "dtype: float64, 'model': <statsmodels.regression.linear_model.RegressionResultsWrapper object at 0x7f3ca606ef98>}, {'RSS': 0     0.0\n",
      "1     0.0\n",
      "2     0.0\n",
      "3     0.0\n",
      "4     0.0\n",
      "5     0.0\n",
      "6     0.0\n",
      "7     0.0\n",
      "8     0.0\n",
      "9     0.0\n",
      "10    0.0\n",
      "11    0.0\n",
      "12    0.0\n",
      "dtype: float64, 'model': <statsmodels.regression.linear_model.RegressionResultsWrapper object at 0x7f3ca606ee10>}]\n"
     ]
    },
    {
     "ename": "TypeError",
     "evalue": "reduction operation 'argmin' not allowed for this dtype",
     "output_type": "error",
     "traceback": [
      "\u001b[0;31m---------------------------------------------------------------------------\u001b[0m",
      "\u001b[0;31mTypeError\u001b[0m                                 Traceback (most recent call last)",
      "\u001b[0;32m<ipython-input-30-e93a1365e861>\u001b[0m in \u001b[0;36m<module>\u001b[0;34m()\u001b[0m\n\u001b[1;32m      5\u001b[0m \u001b[0;34m\u001b[0m\u001b[0m\n\u001b[1;32m      6\u001b[0m \u001b[0;32mfor\u001b[0m \u001b[0mi\u001b[0m \u001b[0;32min\u001b[0m \u001b[0mrange\u001b[0m\u001b[0;34m(\u001b[0m\u001b[0;36m1\u001b[0m\u001b[0;34m,\u001b[0m\u001b[0;36m12\u001b[0m\u001b[0;34m)\u001b[0m\u001b[0;34m:\u001b[0m\u001b[0;34m\u001b[0m\u001b[0m\n\u001b[0;32m----> 7\u001b[0;31m     \u001b[0mmodels\u001b[0m\u001b[0;34m.\u001b[0m\u001b[0mloc\u001b[0m\u001b[0;34m[\u001b[0m\u001b[0mi\u001b[0m\u001b[0;34m]\u001b[0m \u001b[0;34m=\u001b[0m \u001b[0mgetBest\u001b[0m\u001b[0;34m(\u001b[0m\u001b[0mi\u001b[0m\u001b[0;34m)\u001b[0m\u001b[0;34m\u001b[0m\u001b[0m\n\u001b[0m\u001b[1;32m      8\u001b[0m     \u001b[0mtoc\u001b[0m \u001b[0;34m=\u001b[0m \u001b[0mtime\u001b[0m\u001b[0;34m.\u001b[0m\u001b[0mtime\u001b[0m\u001b[0;34m(\u001b[0m\u001b[0;34m)\u001b[0m\u001b[0;34m\u001b[0m\u001b[0m\n\u001b[1;32m      9\u001b[0m     \u001b[0mprint\u001b[0m\u001b[0;34m(\u001b[0m\u001b[0;34m\"Total elapsed time:\"\u001b[0m\u001b[0;34m,\u001b[0m \u001b[0;34m(\u001b[0m\u001b[0mtoc\u001b[0m\u001b[0;34m-\u001b[0m\u001b[0mtic\u001b[0m\u001b[0;34m)\u001b[0m\u001b[0;34m,\u001b[0m \u001b[0;34m\"seconds.\"\u001b[0m\u001b[0;34m)\u001b[0m\u001b[0;34m\u001b[0m\u001b[0m\n",
      "\u001b[0;32m<ipython-input-29-251e7c0080a6>\u001b[0m in \u001b[0;36mgetBest\u001b[0;34m(k)\u001b[0m\n\u001b[1;32m      9\u001b[0m     \u001b[0mprint\u001b[0m\u001b[0;34m(\u001b[0m\u001b[0mresults\u001b[0m\u001b[0;34m)\u001b[0m\u001b[0;34m\u001b[0m\u001b[0m\n\u001b[1;32m     10\u001b[0m     \u001b[0;31m# Choose the model with the highest RSS\u001b[0m\u001b[0;34m\u001b[0m\u001b[0;34m\u001b[0m\u001b[0m\n\u001b[0;32m---> 11\u001b[0;31m     \u001b[0mbest_model\u001b[0m \u001b[0;34m=\u001b[0m \u001b[0mmodels\u001b[0m\u001b[0;34m.\u001b[0m\u001b[0miloc\u001b[0m\u001b[0;34m[\u001b[0m\u001b[0;34m:\u001b[0m\u001b[0;34m,\u001b[0m \u001b[0mmodels\u001b[0m\u001b[0;34m[\u001b[0m\u001b[0;34m'RSS'\u001b[0m\u001b[0;34m]\u001b[0m\u001b[0;34m.\u001b[0m\u001b[0midxmin\u001b[0m\u001b[0;34m(\u001b[0m\u001b[0;34m)\u001b[0m\u001b[0;34m]\u001b[0m\u001b[0;34m\u001b[0m\u001b[0m\n\u001b[0m\u001b[1;32m     12\u001b[0m     \u001b[0mtoc\u001b[0m \u001b[0;34m=\u001b[0m \u001b[0mtime\u001b[0m\u001b[0;34m.\u001b[0m\u001b[0mtime\u001b[0m\u001b[0;34m(\u001b[0m\u001b[0;34m)\u001b[0m\u001b[0;34m\u001b[0m\u001b[0m\n\u001b[1;32m     13\u001b[0m     \u001b[0mprint\u001b[0m\u001b[0;34m(\u001b[0m\u001b[0;34m\"Processed \"\u001b[0m\u001b[0;34m,\u001b[0m \u001b[0mmodels\u001b[0m\u001b[0;34m.\u001b[0m\u001b[0mshape\u001b[0m\u001b[0;34m[\u001b[0m\u001b[0;36m0\u001b[0m\u001b[0;34m]\u001b[0m\u001b[0;34m,\u001b[0m \u001b[0;34m\"models on\"\u001b[0m\u001b[0;34m,\u001b[0m \u001b[0mk\u001b[0m\u001b[0;34m,\u001b[0m \u001b[0;34m\"predictors in\"\u001b[0m\u001b[0;34m,\u001b[0m \u001b[0;34m(\u001b[0m\u001b[0mtoc\u001b[0m\u001b[0;34m-\u001b[0m\u001b[0mtic\u001b[0m\u001b[0;34m)\u001b[0m\u001b[0;34m,\u001b[0m \u001b[0;34m\"seconds.\"\u001b[0m\u001b[0;34m)\u001b[0m\u001b[0;34m\u001b[0m\u001b[0m\n",
      "\u001b[0;32m/mnt/c/programming/ee379k/lib/python3.5/site-packages/pandas/core/series.py\u001b[0m in \u001b[0;36midxmin\u001b[0;34m(self, axis, skipna, *args, **kwargs)\u001b[0m\n\u001b[1;32m   1331\u001b[0m         \"\"\"\n\u001b[1;32m   1332\u001b[0m         \u001b[0mskipna\u001b[0m \u001b[0;34m=\u001b[0m \u001b[0mnv\u001b[0m\u001b[0;34m.\u001b[0m\u001b[0mvalidate_argmin_with_skipna\u001b[0m\u001b[0;34m(\u001b[0m\u001b[0mskipna\u001b[0m\u001b[0;34m,\u001b[0m \u001b[0margs\u001b[0m\u001b[0;34m,\u001b[0m \u001b[0mkwargs\u001b[0m\u001b[0;34m)\u001b[0m\u001b[0;34m\u001b[0m\u001b[0m\n\u001b[0;32m-> 1333\u001b[0;31m         \u001b[0mi\u001b[0m \u001b[0;34m=\u001b[0m \u001b[0mnanops\u001b[0m\u001b[0;34m.\u001b[0m\u001b[0mnanargmin\u001b[0m\u001b[0;34m(\u001b[0m\u001b[0m_values_from_object\u001b[0m\u001b[0;34m(\u001b[0m\u001b[0mself\u001b[0m\u001b[0;34m)\u001b[0m\u001b[0;34m,\u001b[0m \u001b[0mskipna\u001b[0m\u001b[0;34m=\u001b[0m\u001b[0mskipna\u001b[0m\u001b[0;34m)\u001b[0m\u001b[0;34m\u001b[0m\u001b[0m\n\u001b[0m\u001b[1;32m   1334\u001b[0m         \u001b[0;32mif\u001b[0m \u001b[0mi\u001b[0m \u001b[0;34m==\u001b[0m \u001b[0;34m-\u001b[0m\u001b[0;36m1\u001b[0m\u001b[0;34m:\u001b[0m\u001b[0;34m\u001b[0m\u001b[0m\n\u001b[1;32m   1335\u001b[0m             \u001b[0;32mreturn\u001b[0m \u001b[0mnp\u001b[0m\u001b[0;34m.\u001b[0m\u001b[0mnan\u001b[0m\u001b[0;34m\u001b[0m\u001b[0m\n",
      "\u001b[0;32m/mnt/c/programming/ee379k/lib/python3.5/site-packages/pandas/core/nanops.py\u001b[0m in \u001b[0;36m_f\u001b[0;34m(*args, **kwargs)\u001b[0m\n\u001b[1;32m     72\u001b[0m             \u001b[0;32mif\u001b[0m \u001b[0many\u001b[0m\u001b[0;34m(\u001b[0m\u001b[0mself\u001b[0m\u001b[0;34m.\u001b[0m\u001b[0mcheck\u001b[0m\u001b[0;34m(\u001b[0m\u001b[0mobj\u001b[0m\u001b[0;34m)\u001b[0m \u001b[0;32mfor\u001b[0m \u001b[0mobj\u001b[0m \u001b[0;32min\u001b[0m \u001b[0mobj_iter\u001b[0m\u001b[0;34m)\u001b[0m\u001b[0;34m:\u001b[0m\u001b[0;34m\u001b[0m\u001b[0m\n\u001b[1;32m     73\u001b[0m                 \u001b[0mmsg\u001b[0m \u001b[0;34m=\u001b[0m \u001b[0;34m'reduction operation {name!r} not allowed for this dtype'\u001b[0m\u001b[0;34m\u001b[0m\u001b[0m\n\u001b[0;32m---> 74\u001b[0;31m                 \u001b[0;32mraise\u001b[0m \u001b[0mTypeError\u001b[0m\u001b[0;34m(\u001b[0m\u001b[0mmsg\u001b[0m\u001b[0;34m.\u001b[0m\u001b[0mformat\u001b[0m\u001b[0;34m(\u001b[0m\u001b[0mname\u001b[0m\u001b[0;34m=\u001b[0m\u001b[0mf\u001b[0m\u001b[0;34m.\u001b[0m\u001b[0m__name__\u001b[0m\u001b[0;34m.\u001b[0m\u001b[0mreplace\u001b[0m\u001b[0;34m(\u001b[0m\u001b[0;34m'nan'\u001b[0m\u001b[0;34m,\u001b[0m \u001b[0;34m''\u001b[0m\u001b[0;34m)\u001b[0m\u001b[0;34m)\u001b[0m\u001b[0;34m)\u001b[0m\u001b[0;34m\u001b[0m\u001b[0m\n\u001b[0m\u001b[1;32m     75\u001b[0m             \u001b[0;32mtry\u001b[0m\u001b[0;34m:\u001b[0m\u001b[0;34m\u001b[0m\u001b[0m\n\u001b[1;32m     76\u001b[0m                 \u001b[0;32mwith\u001b[0m \u001b[0mnp\u001b[0m\u001b[0;34m.\u001b[0m\u001b[0merrstate\u001b[0m\u001b[0;34m(\u001b[0m\u001b[0minvalid\u001b[0m\u001b[0;34m=\u001b[0m\u001b[0;34m'ignore'\u001b[0m\u001b[0;34m)\u001b[0m\u001b[0;34m:\u001b[0m\u001b[0;34m\u001b[0m\u001b[0m\n",
      "\u001b[0;31mTypeError\u001b[0m: reduction operation 'argmin' not allowed for this dtype"
     ]
    }
   ],
   "source": [
    "X = df.drop('crim', axis=1)\n",
    "y = df.iloc[:, df.columns != 'crim']\n",
    "models = pd.DataFrame(columns=['RSS', 'model'])\n",
    "tic = time.time()\n",
    "\n",
    "for i in range(1,12):\n",
    "    models.loc[i] = getBest(i)\n",
    "    toc = time.time()\n",
    "    print(\"Total elapsed time:\", (toc-tic), \"seconds.\")"
   ]
  },
  {
   "cell_type": "code",
   "execution_count": null,
   "metadata": {},
   "outputs": [],
   "source": []
  },
  {
   "cell_type": "code",
   "execution_count": null,
   "metadata": {},
   "outputs": [],
   "source": []
  },
  {
   "cell_type": "code",
   "execution_count": null,
   "metadata": {},
   "outputs": [],
   "source": []
  },
  {
   "cell_type": "code",
   "execution_count": null,
   "metadata": {},
   "outputs": [],
   "source": []
  },
  {
   "cell_type": "code",
   "execution_count": null,
   "metadata": {},
   "outputs": [],
   "source": []
  },
  {
   "cell_type": "code",
   "execution_count": null,
   "metadata": {},
   "outputs": [],
   "source": []
  },
  {
   "cell_type": "code",
   "execution_count": null,
   "metadata": {},
   "outputs": [],
   "source": []
  },
  {
   "cell_type": "markdown",
   "metadata": {},
   "source": [
    "### Part B\n",
    "Propose a model (or set of models) that seem to perform well on\n",
    "this data set, and justify your answer. Make sure that you are\n",
    "evaluating model performance using validation set error, crossvalidation,\n",
    "or some other reasonable alternative, as opposed to\n",
    "using training error."
   ]
  },
  {
   "cell_type": "markdown",
   "metadata": {},
   "source": [
    "Repeated runs show that the MSE for different models and alphas fluctuates from approximately 0.2 to 1.5. On average, Lasso and PCR tend to perform better. The one that consistenly performed the best overall was running Lasso and then setting a threshold to drop columns based on Lasso coefficients, then running Ridge on the remaining columns. The lowest score was 0.103 with this method. The MSE used here is test error, not training error."
   ]
  },
  {
   "cell_type": "markdown",
   "metadata": {},
   "source": [
    "### Part C\n",
    "Does your chosen model involve all of the features in the data\n",
    "set? Why or why not?"
   ]
  },
  {
   "cell_type": "markdown",
   "metadata": {},
   "source": [
    "Lasso and PCR both neglect specific features by design. Again, the MSE fluctuated wildly but Lasso consistently nearly zeroed out 4-7 columns, while PCR tended to work well with n_components between 2 and 6. The method with Lasso and Ridge also dropped features deemed not relevant."
   ]
  }
 ],
 "metadata": {
  "kernelspec": {
   "display_name": "Python 3",
   "language": "python",
   "name": "python3"
  },
  "language_info": {
   "codemirror_mode": {
    "name": "ipython",
    "version": 3
   },
   "file_extension": ".py",
   "mimetype": "text/x-python",
   "name": "python",
   "nbconvert_exporter": "python",
   "pygments_lexer": "ipython3",
   "version": "3.5.2"
  }
 },
 "nbformat": 4,
 "nbformat_minor": 2
}
