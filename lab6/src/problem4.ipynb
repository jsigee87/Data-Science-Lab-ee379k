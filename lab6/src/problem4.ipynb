{
 "cells": [
  {
   "cell_type": "markdown",
   "metadata": {},
   "source": [
    "### Problem 4\n",
    "#### Part a\n",
    "We will find closed form solution for $\\hat{\\beta_{ls}}$ by minimizing the equation $ \\|x\\beta - y \\|_2^2$ by taking its derivative/gradient "
   ]
  },
  {
   "cell_type": "markdown",
   "metadata": {},
   "source": [
    "<p> Using the definition of $L^2$ norm</p>\n",
    "<p> $ \\|X\\beta - y \\|_2^2 =  (X\\beta -y)^T (X\\beta-y)$</p>\n",
    "<p> Using the properties of transpose of a matrix</p>\n",
    "<p> $ (X\\beta -y)^T (X\\beta-y) = (\\beta^TX^T -Y^T)(X\\beta-y)$</p>\n",
    "<p> $(\\beta^TX^T -y^T)(X\\beta-y) = (\\beta^TX^TX\\beta - 2\\beta^TX^Ty + y^Ty)$ </p>\n",
    "<p> Taking derivative with respect to $B^T$ </p>\n",
    "<p> $(\\beta^TX^TX\\beta - 2\\beta^TX^Ty + y^Ty) = (2X^TX\\beta -2X^Ty)$</p>\n",
    "<p> Setting it equal to zero and solving for $\\beta$ </p>\n",
    "<p> $(2X^TX\\beta -2X^Ty) = 0$  </p>\n",
    "<p> yields $\\hat{\\beta_{ls}} = \\frac{X^Ty}{X^TX}$  </p>\n",
    "<p> which is $\\hat{\\beta_{ls}} =  (X^TX)^{-1}X^Ty$</p>"
   ]
  },
  {
   "cell_type": "markdown",
   "metadata": {},
   "source": [
    "#### Part b\n",
    "We will find closed form solution for $\\hat{\\beta_{R}}$ by minimizing the equation $ \\|x\\beta - y \\|_2^2 + \\lambda \\|\\beta\\|_2^2$ by taking its derivative/gradient"
   ]
  },
  {
   "cell_type": "markdown",
   "metadata": {},
   "source": [
    "<body>\n",
    "<p> Using the definition of $L^2$ norm</p>\n",
    "<p> $ \\|X\\beta - y \\|_2^2 + \\lambda \\|\\beta\\|_2^2 =  (X\\beta -y)^T (X\\beta-y) + \\lambda \\beta^T\\beta$</p>\n",
    "<p> Using the properties of transpose of a matrix</p>\n",
    "<p> $ (X\\beta -y)^T (X\\beta-y) + \\lambda \\beta^T\\beta  = (\\beta^TX^T -Y^T)(X\\beta-y) + \\lambda \\beta^T\\beta$</p>\n",
    "<p> $(\\beta^TX^T -y^T)(X\\beta-y) + \\lambda \\beta^T\\beta = (\\beta^TX^TX\\beta - 2\\beta^TX^Ty + y^Ty)+ \\lambda \\beta^T\\beta$ </p>\n",
    "<p> Taking derivative with respect to $B^T$ </p>\n",
    "<p> $(\\beta^TX^TX\\beta - 2\\beta^TX^Ty + y^Ty)+ \\lambda \\beta^T\\beta = (2X^TX\\beta -2X^Ty)+ \\lambda\\beta$</p>\n",
    "<p> Setting it equal to zero and solving for $\\beta$ </p>\n",
    "<p> $(2X^TX\\beta -2X^Ty) + \\lambda \\beta = 0 $ </p>\n",
    "<p> $\\beta(2X^TX +\\lambda I) =2X^Ty$ </p>\n",
    "<p> We can cancel out 2 because $\\frac{\\lambda}{2}$ is just another constant $\\lambda$ </p>\n",
    "<p> This yields $\\hat{\\beta_{R}} = \\frac{X^Ty}{X^TX + \\lambda I}$  </p>\n",
    "<p> which is $\\hat{\\beta_{R}} =  (X^TX+ \\lambda I)^{-1}X^Ty$</p>\n",
    "</body>"
   ]
  },
  {
   "cell_type": "code",
   "execution_count": null,
   "metadata": {},
   "outputs": [],
   "source": []
  }
 ],
 "metadata": {
  "kernelspec": {
   "display_name": "Python 3",
   "language": "python",
   "name": "python3"
  },
  "language_info": {
   "codemirror_mode": {
    "name": "ipython",
    "version": 3
   },
   "file_extension": ".py",
   "mimetype": "text/x-python",
   "name": "python",
   "nbconvert_exporter": "python",
   "pygments_lexer": "ipython3",
   "version": "3.5.2"
  }
 },
 "nbformat": 4,
 "nbformat_minor": 2
}
