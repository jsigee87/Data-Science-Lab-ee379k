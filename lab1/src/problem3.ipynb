{
 "cells": [
  {
   "cell_type": "code",
   "execution_count": 1,
   "metadata": {},
   "outputs": [],
   "source": [
    "import numpy as np\n",
    "import matplotlib.pyplot as plt"
   ]
  },
  {
   "cell_type": "code",
   "execution_count": 9,
   "metadata": {},
   "outputs": [
    {
     "name": "stdout",
     "output_type": "stream",
     "text": [
      "-0.0012478921749427667\n",
      "-0.0012478921749427667\n",
      "25.096579922852058\n",
      "25.096579922852058\n",
      "5.009648682577657\n",
      "5.009648682577657\n"
     ]
    }
   ],
   "source": [
    "#Problem3:\n",
    "#Generate 25000 sample points from Gaussian distribution with mean =0, std dev = 5\n",
    "#Calculate mean and std dev without using library functions\n",
    "\n",
    "distribution = np.random.normal(loc =0,scale=5,size = 25000)\n",
    "calc_mean = np.sum(distribution)/(distribution.size)\n",
    "print(calc_mean)\n",
    "print(np.mean(distribution))\n",
    "distribution_subtracted_mean_square = (distribution - calc_mean)*(distribution-calc_mean)\n",
    "variance_of_distribution = np.sum(distribution_subtracted_mean_square)/distribution_subtracted_mean_square.size\n",
    "print(variance_of_distribution)\n",
    "print(np.var(distribution))\n",
    "std_dev = np.sqrt(variance_of_distribution)\n",
    "print(std_dev)\n",
    "print(np.std(distribution))\n",
    "\n",
    "\n",
    "\n",
    "\n"
   ]
  },
  {
   "cell_type": "markdown",
   "metadata": {},
   "source": [
    "# Delete check functions before uploading solution"
   ]
  },
  {
   "cell_type": "code",
   "execution_count": null,
   "metadata": {},
   "outputs": [],
   "source": []
  }
 ],
 "metadata": {
  "kernelspec": {
   "display_name": "Python 3",
   "language": "python",
   "name": "python3"
  },
  "language_info": {
   "codemirror_mode": {
    "name": "ipython",
    "version": 3
   },
   "file_extension": ".py",
   "mimetype": "text/x-python",
   "name": "python",
   "nbconvert_exporter": "python",
   "pygments_lexer": "ipython3",
   "version": "3.5.2"
  }
 },
 "nbformat": 4,
 "nbformat_minor": 2
}
