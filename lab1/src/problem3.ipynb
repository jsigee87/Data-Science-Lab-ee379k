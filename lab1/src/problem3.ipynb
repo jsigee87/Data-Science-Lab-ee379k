{
 "cells": [
  {
   "cell_type": "code",
   "execution_count": 2,
   "metadata": {},
   "outputs": [],
   "source": [
    "import numpy as np\n",
    "import matplotlib.pyplot as plt"
   ]
  },
  {
   "cell_type": "code",
   "execution_count": 4,
   "metadata": {},
   "outputs": [
    {
     "name": "stdout",
     "output_type": "stream",
     "text": [
      "Mean of sample points from Gaussian is 0.009759127756598904 \n",
      "Standard deviation of the samples points is 4.9859322881208366\n",
      "4.9859322881208366\n"
     ]
    }
   ],
   "source": [
    "#Problem3:\n",
    "#Generate 25000 sample points from Gaussian distribution with mean =0, std dev = 5\n",
    "#Calculate mean and std dev without using library functions\n",
    "\n",
    "#Generating the desired normal distribution with mean = 0, std dev = 5 and 25000 entries\n",
    "distribution = np.random.normal(loc =0,scale=5,size = 25000)\n",
    "\n",
    "#calculating the mean of generated distribution by adding all the entries and dividing by the number of entries in the \n",
    "#distribution\n",
    "\n",
    "calc_mean = np.sum(distribution)/(distribution.size)\n",
    "print(\"Mean of sample points from Gaussian is {} \".format(calc_mean))\n",
    "\n",
    "#calculating the quantity (X-E[x])^2 to find variance\n",
    "distribution_subtracted_mean_square = (distribution - calc_mean)*(distribution-calc_mean)\n",
    "\n",
    "#calculating variance by using the definition of variance as expected value of (X-E[x])^2\n",
    "variance_of_distribution = np.sum(distribution_subtracted_mean_square)/distribution_subtracted_mean_square.size\n",
    "\n",
    "#using the fact that standard deviation is square root of variance to calculate standard deviation\n",
    "std_dev = np.sqrt(variance_of_distribution)\n",
    "\n",
    "print(\"Standard deviation of the samples points is {}\".format(std_dev))\n",
    "\n",
    "\n",
    "\n",
    "\n",
    "\n"
   ]
  },
  {
   "cell_type": "code",
   "execution_count": null,
   "metadata": {},
   "outputs": [],
   "source": []
  }
 ],
 "metadata": {
  "kernelspec": {
   "display_name": "Python 3",
   "language": "python",
   "name": "python3"
  },
  "language_info": {
   "codemirror_mode": {
    "name": "ipython",
    "version": 3
   },
   "file_extension": ".py",
   "mimetype": "text/x-python",
   "name": "python",
   "nbconvert_exporter": "python",
   "pygments_lexer": "ipython3",
   "version": "3.5.2"
  }
 },
 "nbformat": 4,
 "nbformat_minor": 2
}
