{
 "cells": [
  {
   "cell_type": "code",
   "execution_count": 2,
   "metadata": {},
   "outputs": [],
   "source": [
    "import numpy as np\n",
    "import matplotlib.pyplot as plt"
   ]
  },
  {
   "cell_type": "code",
   "execution_count": 3,
   "metadata": {},
   "outputs": [
    {
     "name": "stdout",
     "output_type": "stream",
     "text": [
      "Mean of sample points from Gaussian is \n",
      "-0.04611862980990939\n",
      "25.40599780831694\n",
      "25.40599780831694\n",
      "5.040436271625397\n",
      "5.040436271625397\n"
     ]
    }
   ],
   "source": [
    "#Problem3:\n",
    "#Generate 25000 sample points from Gaussian distribution with mean =0, std dev = 5\n",
    "#Calculate mean and std dev without using library functions\n",
    "\n",
    "distribution = np.random.normal(loc =0,scale=5,size = 25000)\n",
    "calc_mean = np.sum(distribution)/(distribution.size)\n",
    "print(\"Mean of sample points from Gaussian is \".format(calc_mean))\n",
    "print(np.mean(distribution))\n",
    "distribution_subtracted_mean_square = (distribution - calc_mean)*(distribution-calc_mean)\n",
    "variance_of_distribution = np.sum(distribution_subtracted_mean_square)/distribution_subtracted_mean_square.size\n",
    "print(variance_of_distribution)\n",
    "print(np.var(distribution))\n",
    "std_dev = np.sqrt(variance_of_distribution)\n",
    "print(std_dev)\n",
    "print(np.std(distribution))\n",
    "\n",
    "\n",
    "\n",
    "\n"
   ]
  },
  {
   "cell_type": "markdown",
   "metadata": {},
   "source": [
    "# Delete check functions before uploading solution"
   ]
  },
  {
   "cell_type": "code",
   "execution_count": null,
   "metadata": {},
   "outputs": [],
   "source": []
  }
 ],
 "metadata": {
  "kernelspec": {
   "display_name": "Python 3",
   "language": "python",
   "name": "python3"
  },
  "language_info": {
   "codemirror_mode": {
    "name": "ipython",
    "version": 3
   },
   "file_extension": ".py",
   "mimetype": "text/x-python",
   "name": "python",
   "nbconvert_exporter": "python",
   "pygments_lexer": "ipython3",
   "version": "3.5.2"
  }
 },
 "nbformat": 4,
 "nbformat_minor": 2
}
