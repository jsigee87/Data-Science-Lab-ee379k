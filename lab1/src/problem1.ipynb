{
 "cells": [
  {
   "cell_type": "code",
   "execution_count": 3,
   "metadata": {},
   "outputs": [],
   "source": [
    "###############################################\n",
    "# Make nice header here\n",
    "#\n",
    "###############################################\n",
    "\n",
    "\n",
    "# Insert code Aman \n",
    "\n",
    "import numpy as np\n",
    "import matplotlib.pyplot as plt\n"
   ]
  },
  {
   "cell_type": "code",
   "execution_count": 23,
   "metadata": {},
   "outputs": [
    {
     "name": "stdout",
     "output_type": "stream",
     "text": [
      "-0.09884653964106273\n",
      "51.63711213526029\n"
     ]
    },
    {
     "data": {
      "image/png": "[encoded data removed]",
      "text/plain": [
       "<matplotlib.figure.Figure at 0x7ff5b01e66d8>"
      ]
     },
     "metadata": {},
     "output_type": "display_data"
    }
   ],
   "source": [
    "# Problem1:\n",
    "# Generate two gaussian distributions with mean of 10 and -10, stddev = 5 and size =1000\n",
    "# Add both of the distributions and plot a histogram\n",
    "# Estimate mean and variance\n",
    "distribution_1 = np.random.normal(loc = -10 , scale =5 , size = 1000)\n",
    "distribution_2 = np.random.normal(loc = 10, scale = 5, size =1000)\n",
    "sum_dist = distribution_1+distribution_2\n",
    "mn = np.mean(sum_dist)\n",
    "vr = np.var(sum_dist)\n",
    "print(mean)\n",
    "print(var)\n",
    "\n",
    "\n",
    "plt.hist(sum)\n",
    "plt.xlabel(\"value\")\n",
    "plt.ylabel(\"number of elements in distribution with given x value\")\n",
    "plt.title(\"Histogram of the sum of two gaussian distributions\")\n",
    "plt.show()"
   ]
  },
  {
   "cell_type": "code",
   "execution_count": 24,
   "metadata": {},
   "outputs": [
    {
     "name": "stdout",
     "output_type": "stream",
     "text": [
      "-0.022262714168135495\n",
      "-0.022262714168135495\n"
     ]
    }
   ],
   "source": []
  },
  {
   "cell_type": "code",
   "execution_count": null,
   "metadata": {},
   "outputs": [],
   "source": []
  }
 ],
 "metadata": {
  "kernelspec": {
   "display_name": "Python 3",
   "language": "python",
   "name": "python3"
  },
  "language_info": {
   "codemirror_mode": {
    "name": "ipython",
    "version": 3
   },
   "file_extension": ".py",
   "mimetype": "text/x-python",
   "name": "python",
   "nbconvert_exporter": "python",
   "pygments_lexer": "ipython3",
   "version": "3.5.2"
  }
 },
 "nbformat": 4,
 "nbformat_minor": 2
}
