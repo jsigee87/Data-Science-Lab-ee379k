{
 "cells": [
  {
   "cell_type": "code",
   "execution_count": 6,
   "metadata": {},
   "outputs": [],
   "source": [
    "import numpy as np\n",
    "import matplotlib.pyplot as plt\n",
    "import pandas as pd"
   ]
  },
  {
   "cell_type": "code",
   "execution_count": 15,
   "metadata": {
    "scrolled": false
   },
   "outputs": [
    {
     "name": "stdout",
     "output_type": "stream",
     "text": [
      "Calculated mean of generated bivariate distribution is 0.03227847788344018\n",
      "Covariance matrix of the generated bivariate gaussian distribution is displayed below\n",
      "           x1         x2\n",
      "x1  19.756646   0.879336\n",
      "x2   0.879336  30.447344\n"
     ]
    }
   ],
   "source": [
    "\n",
    "mean = [-5,5]\n",
    "covariance = [[20,0.8],[0.8,30]]\n",
    "\n",
    "#Generating a bivariate gaussian distribution with given mean and covariance matrix\n",
    "x1,x2 =np.random.multivariate_normal(mean,covariance,10000).T\n",
    "\n",
    "#Mean of x1 and x2 are simply sum of the values divided by the size of the distribution\n",
    "mean_of_x1 = (np.sum(x1)/x1.size)\n",
    "mean_of_x2 = (np.sum(x2)/x2.size)\n",
    "\n",
    "#Mean of bivariate gaussian distribution is simply the sum of individual means of x1 and x2\n",
    "mean_of_bivariate_gaussian = mean_of_x1 + mean_of_x2\n",
    "print(\"Calculated mean of generated bivariate distribution is {}\".format(mean_of_bivariate_gaussian))\n",
    "\n",
    "#Calculating the variance of x1 to be used in covariance matrix\n",
    "distribution_subtracted_mean_square_of_x1 = (x1 - mean_of_x1)*(x1-mean_of_x1)\n",
    "variance_of_distribution_x1 = np.sum(distribution_subtracted_mean_square_of_x1)/distribution_subtracted_mean_square_of_x1.size\n",
    "\n",
    "#Calculating the variance of x2 to be used in covariance matrix\n",
    "distribution_subtracted_mean_square_of_x2 = (x2 - mean_of_x2)*(x2-mean_of_x2)\n",
    "variance_of_distribution_x2 = np.sum(distribution_subtracted_mean_square_of_x2)/distribution_subtracted_mean_square_of_x2.size\n",
    "\n",
    "#Calculating the covariance of x1 and x2 as expected value of (x1-E[x1])*(x2-E[x2])\n",
    "distribution_of_x1_and_x2_with_subtracted_mean = (x1-mean_of_x1)*(x2-mean_of_x2)\n",
    "covariance_of_x1_and_x2 = np.sum(distribution_of_x1_and_x2_with_subtracted_mean)/distribution_of_x1_and_x2_with_subtracted_mean.size\n",
    "\n",
    "#Generating covariance matrix as list of lists\n",
    "covariance_matrix = []\n",
    "\n",
    "covariance_matrix_row1 =[variance_of_distribution_x1,covariance_of_x1_and_x2]\n",
    "covariance_matrix.append(covariance_matrix_row1)\n",
    "\n",
    "covariance_matrix_row2 = [covariance_of_x1_and_x2,variance_of_distribution_x2]\n",
    "covariance_matrix.append(covariance_matrix_row2)\n",
    "\n",
    "#converting covariance matrix into data frame for better visual display\n",
    "data_frame = pd.DataFrame(covariance_matrix)\n",
    "\n",
    "#changing index from numbering to distribtution names\n",
    "\n",
    "data_frame.rename(index={0:'x1',1:'x2'}, columns={0:'x1',1:'x2'}, inplace=True)\n",
    "print(\"Covariance matrix of the generated bivariate gaussian distribution is displayed below\")\n",
    "print(data_frame)\n",
    "\n"
   ]
  },
  {
   "cell_type": "code",
   "execution_count": null,
   "metadata": {},
   "outputs": [],
   "source": []
  }
 ],
 "metadata": {
  "kernelspec": {
   "display_name": "Python 3",
   "language": "python",
   "name": "python3"
  },
  "language_info": {
   "codemirror_mode": {
    "name": "ipython",
    "version": 3
   },
   "file_extension": ".py",
   "mimetype": "text/x-python",
   "name": "python",
   "nbconvert_exporter": "python",
   "pygments_lexer": "ipython3",
   "version": "3.5.2"
  }
 },
 "nbformat": 4,
 "nbformat_minor": 2
}
