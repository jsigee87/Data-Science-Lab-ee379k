{
 "cells": [
  {
   "cell_type": "markdown",
   "metadata": {},
   "source": [
    "# Calculations for Problem 2"
   ]
  },
  {
   "cell_type": "code",
   "execution_count": 25,
   "metadata": {},
   "outputs": [
    {
     "name": "stdout",
     "output_type": "stream",
     "text": [
      "[3. 3. 3.] [2.22044605e-16 1.50000000e+00 1.50000000e+00] [5.55111512e-17 5.00000000e-01 5.00000000e-01]\n"
     ]
    }
   ],
   "source": [
    "import numpy as np\n",
    "\n",
    "p1 = np.ones(3, dtype=np.float)*3\n",
    "p2 = np.arange(3, dtype=np.float)\n",
    "p3 = np.zeros(3, dtype=np.float) + [0, 0, 1]\n",
    "u1 = np.ones(3, dtype=np.float)\n",
    "u2 = np.zeros(3, dtype=np.float) + [2/3, -1/3, -1/3]\n",
    "\n",
    "p1hat = np.dot(np.dot(p1,u1)/np.dot(u1, u1), u1) + np.dot(np.dot(p1,u2)/np.dot(u2, u2), u2)\n",
    "p2hat = np.dot(np.dot(p2,u1)/np.dot(u1, u1), u1) + np.dot(np.dot(p2,u2)/np.dot(u2, u2), u2)\n",
    "p3hat = np.dot(np.dot(p3,u1)/np.dot(u1, u1), u1) + np.dot(np.dot(p3,u2)/np.dot(u2, u2), u2)\n",
    "print(p1hat, p2hat, p3hat)"
   ]
  }
 ],
 "metadata": {
  "kernelspec": {
   "display_name": "Python 3",
   "language": "python",
   "name": "python3"
  },
  "language_info": {
   "codemirror_mode": {
    "name": "ipython",
    "version": 3
   },
   "file_extension": ".py",
   "mimetype": "text/x-python",
   "name": "python",
   "nbconvert_exporter": "python",
   "pygments_lexer": "ipython3",
   "version": "3.5.2"
  }
 },
 "nbformat": 4,
 "nbformat_minor": 2
}
