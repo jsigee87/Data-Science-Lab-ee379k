{
 "cells": [
  {
   "cell_type": "markdown",
   "metadata": {},
   "source": [
    "## Calculations for written problem \\#3\n",
    "\n",
    "We wish to find the probability of having 50 or fewer successes (heads) in 100 trials of a biased coin. The coin has probability p = 2/3 of coming up heads."
   ]
  },
  {
   "cell_type": "code",
   "execution_count": 8,
   "metadata": {},
   "outputs": [
    {
     "name": "stdout",
     "output_type": "stream",
     "text": [
      "The sum of all these probabilities is: 0.0001989326425396602\n"
     ]
    }
   ],
   "source": [
    "import numpy as np\n",
    "from scipy import special as sp\n",
    "\n",
    "p = 2/3\n",
    "n = 100\n",
    "probability_array = np.zeros(50)\n",
    "\n",
    "for i in range (50):\n",
    "    probability_array[i] = sp.comb(n, i)*(p**i)*((1-p)**(n-i))\n",
    "    #print(probability_array[i])\n",
    "\n",
    "print(\"The sum of all these probabilities is: {}\".format(np.sum(probability_array)))"
   ]
  }
 ],
 "metadata": {
  "kernelspec": {
   "display_name": "Python 3",
   "language": "python",
   "name": "python3"
  },
  "language_info": {
   "codemirror_mode": {
    "name": "ipython",
    "version": 3
   },
   "file_extension": ".py",
   "mimetype": "text/x-python",
   "name": "python",
   "nbconvert_exporter": "python",
   "pygments_lexer": "ipython3",
   "version": "3.5.2"
  }
 },
 "nbformat": 4,
 "nbformat_minor": 2
}
