{
 "cells": [
  {
   "cell_type": "code",
   "execution_count": null,
   "metadata": {},
   "outputs": [],
   "source": [
    "# Algorithm\n",
    "# for each name\n",
    "    # for each year\n",
    "    # calculate rel freq for males\n",
    "    # calculate rel freq for females\n",
    "    # subract them and add it to a list called differences\n",
    "# check if differences has a root (goes from negative to positive or vice versa)\n",
    "# if yes, then add the name to a list\n",
    "# then go to next name"
   ]
  }
 ],
 "metadata": {
  "kernelspec": {
   "display_name": "Python 3",
   "language": "python",
   "name": "python3"
  },
  "language_info": {
   "codemirror_mode": {
    "name": "ipython",
    "version": 3
   },
   "file_extension": ".py",
   "mimetype": "text/x-python",
   "name": "python",
   "nbconvert_exporter": "python",
   "pygments_lexer": "ipython3",
   "version": "3.5.2"
  }
 },
 "nbformat": 4,
 "nbformat_minor": 2
}
