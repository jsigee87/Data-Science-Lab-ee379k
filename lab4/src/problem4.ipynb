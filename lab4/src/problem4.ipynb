{
 "cells": [
  {
   "cell_type": "code",
   "execution_count": 96,
   "metadata": {},
   "outputs": [],
   "source": [
    "import pandas as pd\n",
    "import numpy as np\n",
    "import seaborn as sns\n",
    "import matplotlib\n",
    "import os\n",
    "from sklearn.linear_model import Ridge\n",
    "from sklearn.linear_model import Lasso\n",
    "from sklearn.model_selection import cross_val_score\n",
    "import matplotlib.pyplot as plt\n",
    "from scipy.stats import skew\n",
    "from scipy.stats.stats import pearsonr\n",
    "from sklearn.metrics import mean_squared_error\n",
    "from math import sqrt\n",
    "from pandas.plotting import scatter_matrix\n",
    "from sklearn.model_selection import KFold\n",
    "from sklearn.model_selection import train_test_split"
   ]
  },
  {
   "cell_type": "code",
   "execution_count": 93,
   "metadata": {},
   "outputs": [],
   "source": [
    "train_data = pd.read_csv(\"train.csv\")\n",
    "test_data = pd.read_csv(\"test.csv\")\n",
    "all_data = pd.concat((train_data.loc[:,'MSSubClass':'SaleCondition'],test_data.loc[:,'MSSubClass':'SaleCondition']))\n",
    "matplotlib.rcParams['figure.figsize'] = (15.0, 6.0)\n",
    "prices = pd.DataFrame({'price':train_data[\"SalePrice\"],\"log(price+1)\":np.log1p(train_data[\"SalePrice\"])})\n",
    "#_ = prices.hist()"
   ]
  },
  {
   "cell_type": "code",
   "execution_count": 23,
   "metadata": {},
   "outputs": [],
   "source": [
    "#x_train = train.iloc[:,:80]\n",
    "#y_train = train.iloc[:,80:]\n",
    "#x_train.shape\n",
    "#scatter_matrix(x_train)\n",
    "#x_train.hist(figsize=(18,14))\n",
    "#plt.show()\n",
    "#train_data.columns"
   ]
  },
  {
   "cell_type": "code",
   "execution_count": 128,
   "metadata": {},
   "outputs": [
    {
     "name": "stdout",
     "output_type": "stream",
     "text": [
      "SalePrice        1.000000\n",
      "OverallQual      0.790982\n",
      "GrLivArea        0.708624\n",
      "GarageCars       0.640409\n",
      "GarageArea       0.623431\n",
      "TotalBsmtSF      0.613581\n",
      "1stFlrSF         0.605852\n",
      "FullBath         0.560664\n",
      "TotRmsAbvGrd     0.533723\n",
      "YearBuilt        0.522897\n",
      "YearRemodAdd     0.507101\n",
      "GarageYrBlt      0.486362\n",
      "MasVnrArea       0.477493\n",
      "Fireplaces       0.466929\n",
      "BsmtFinSF1       0.386420\n",
      "LotFrontage      0.351799\n",
      "WoodDeckSF       0.324413\n",
      "2ndFlrSF         0.319334\n",
      "OpenPorchSF      0.315856\n",
      "HalfBath         0.284108\n",
      "LotArea          0.263843\n",
      "BsmtFullBath     0.227122\n",
      "BsmtUnfSF        0.214479\n",
      "BedroomAbvGr     0.168213\n",
      "ScreenPorch      0.111447\n",
      "PoolArea         0.092404\n",
      "MoSold           0.046432\n",
      "3SsnPorch        0.044584\n",
      "BsmtFinSF2      -0.011378\n",
      "BsmtHalfBath    -0.016844\n",
      "MiscVal         -0.021190\n",
      "Id              -0.021917\n",
      "LowQualFinSF    -0.025606\n",
      "YrSold          -0.028923\n",
      "OverallCond     -0.077856\n",
      "MSSubClass      -0.084284\n",
      "EnclosedPorch   -0.128578\n",
      "KitchenAbvGr    -0.135907\n",
      "Name: SalePrice, dtype: float64\n"
     ]
    }
   ],
   "source": [
    "###########################################################\n",
    "# Remove columns that have low correlation\n",
    "###########################################################\n",
    "corr_matrix = train_data.corr()\n",
    "\n",
    "# Uncomment for list of column correlation\n",
    "#print(corr_matrix[\"SalePrice\"].sort_values(ascending=False))\n",
    "\n",
    "####TODO fix for negatively correlated\n",
    "train_trimmed = train_data.copy()\n",
    "\n",
    "pos_cols = corr_matrix[\"SalePrice\"] > 0.1\n",
    "#neg_cols = corr_matrix[\"SalePrice\"] < -0.1 \n",
    "\n",
    "train_trimmed = train_trimmed[pos_cols.index[pos_cols]]\n",
    "#train_trimmed = train_trimmed[neg_cols.index[neg_cols]]\n",
    "\n",
    "###########################################################\n",
    "#Then remove all NaN entries, replace with mean\n",
    "###########################################################\n",
    "# Show NaN counts\n",
    "#train_trimmed.isnull().sum()\n",
    "\n",
    "# Based what the columns are, it may be better to drop those columns\n",
    "train_trimmed.drop(['LotFrontage', 'GarageYrBlt'], axis=1, inplace=True)\n",
    "\n",
    "# And replace with avg MasVnrArea because it only had 8 nan\n",
    "train_trimmed = train_trimmed.fillna(train_trimmed.mean())\n",
    "\n",
    "# Verify\n",
    "#train_trimmed.isnull().sum()\n",
    "\n",
    "\n",
    "############################################################\n",
    "# Graveyard\n",
    "#train_trimmed.drop([columns.index[columns]], axis=1, inplace=True) #| corr_matrix[\"SalePrice\"] < 0.1\n",
    "#train_trimmed.drop([train_trimmed[co]])"
   ]
  },
  {
   "cell_type": "code",
   "execution_count": 115,
   "metadata": {},
   "outputs": [
    {
     "data": {
      "text/plain": [
       "(1460, 23)"
      ]
     },
     "execution_count": 115,
     "metadata": {},
     "output_type": "execute_result"
    }
   ],
   "source": [
    "train_trimmed.shape"
   ]
  },
  {
   "cell_type": "code",
   "execution_count": 126,
   "metadata": {},
   "outputs": [],
   "source": [
    "################################################################\n",
    "# Shuffle our trimmed data and set aside test set\n",
    "################################################################\n",
    "def shuffleSplitData(data, train_size):\n",
    "    #rand = np.random.randint()\n",
    "    num_cols = data.shape[1]\n",
    "    features = data.iloc[:,:num_cols-1]\n",
    "    target = train_trimmed.iloc[:,num_cols-1:]\n",
    "    X_train, X_test, y_train, y_test = train_test_split(\n",
    "        data, target, train_size=train_size)\n",
    "    return (X_train, X_test, y_train, y_test)"
   ]
  },
  {
   "cell_type": "code",
   "execution_count": 123,
   "metadata": {},
   "outputs": [],
   "source": [
    "##################################################################\n",
    "# Fit model\n",
    "##################################################################\n",
    "def trainModel(data, alpha, train_size, rmse=False):\n",
    "    X_train, X_test, y_train, y_test = shuffleSplitData(data, train_size)\n",
    "    clf = Ridge(alpha=alpha, solver='svd')\n",
    "    if rmse == True:\n",
    "        \n",
    "    #_ = clf.fit(X_train, y_train)\n",
    "    return"
   ]
  },
  {
   "cell_type": "code",
   "execution_count": 124,
   "metadata": {},
   "outputs": [],
   "source": [
    "rmse= np.sqrt(-cross_val_score(clf, X_train, y_train, scoring=\"neg_mean_squared_error\", cv = 5))"
   ]
  },
  {
   "cell_type": "code",
   "execution_count": null,
   "metadata": {},
   "outputs": [],
   "source": []
  }
 ],
 "metadata": {
  "kernelspec": {
   "display_name": "Python 3",
   "language": "python",
   "name": "python3"
  },
  "language_info": {
   "codemirror_mode": {
    "name": "ipython",
    "version": 3
   },
   "file_extension": ".py",
   "mimetype": "text/x-python",
   "name": "python",
   "nbconvert_exporter": "python",
   "pygments_lexer": "ipython3",
   "version": "3.5.2"
  }
 },
 "nbformat": 4,
 "nbformat_minor": 2
}
