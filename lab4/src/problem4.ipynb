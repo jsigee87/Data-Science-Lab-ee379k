{
 "cells": [
  {
   "cell_type": "code",
   "execution_count": 1,
   "metadata": {},
   "outputs": [],
   "source": [
    "import pandas as pd\n",
    "import numpy as np\n",
    "import seaborn as sns\n",
    "import matplotlib\n",
    "import os\n",
    "from sklearn.linear_model import Ridge\n",
    "from sklearn.linear_model import Lasso\n",
    "from sklearn.model_selection import cross_val_score\n",
    "import matplotlib.pyplot as plt\n",
    "from scipy.stats import skew\n",
    "from scipy.stats.stats import pearsonr\n",
    "from sklearn.metrics import mean_squared_error\n",
    "from math import sqrt\n",
    "from pandas.plotting import scatter_matrix\n",
    "from sklearn.model_selection import KFold\n",
    "from sklearn.model_selection import train_test_split"
   ]
  },
  {
   "cell_type": "code",
   "execution_count": 14,
   "metadata": {},
   "outputs": [],
   "source": [
    "train_data = pd.read_csv(\"train.csv\")\n",
    "test_data = pd.read_csv(\"test.csv\")\n",
    "all_data = pd.concat((train_data.loc[:,'MSSubClass':'SaleCondition'],test_data.loc[:,'MSSubClass':'SaleCondition']))\n",
    "matplotlib.rcParams['figure.figsize'] = (15.0, 6.0)\n",
    "prices = pd.DataFrame({'price':train_data[\"SalePrice\"],\"log(price+1)\":np.log1p(train_data[\"SalePrice\"])})\n",
    "# _ = prices.hist()"
   ]
  },
  {
   "cell_type": "code",
   "execution_count": 248,
   "metadata": {},
   "outputs": [],
   "source": [
    "#x_train = train.iloc[:,:80]\n",
    "#y_train = train.iloc[:,80:]\n",
    "#x_train.shape\n",
    "#scatter_matrix(x_train)\n",
    "#x_train.hist(figsize=(18,14))\n",
    "#plt.show()\n",
    "#train_data.columns"
   ]
  },
  {
   "cell_type": "code",
   "execution_count": 4,
   "metadata": {},
   "outputs": [
    {
     "data": {
      "text/plain": [
       "(1460, 23)"
      ]
     },
     "execution_count": 4,
     "metadata": {},
     "output_type": "execute_result"
    }
   ],
   "source": [
    "train_trimmed.shape"
   ]
  },
  {
   "cell_type": "code",
   "execution_count": 5,
   "metadata": {},
   "outputs": [],
   "source": [
    "################################################################\n",
    "# Shuffle our trimmed data and set aside test set\n",
    "################################################################\n",
    "def shuffleSplitData(data, train_size):\n",
    "    #rand = np.random.randint()\n",
    "    num_cols = data.shape[1] - 1\n",
    "    #print(data.shape[1])\n",
    "    #print(num_cols)\n",
    "    features = data.iloc[:,:num_cols]\n",
    "    target = data.iloc[:,num_cols:]\n",
    "    X_train, X_test, y_train, y_test = train_test_split(\n",
    "        features, target, train_size=train_size)\n",
    "    print(\"Xtrain is: {}\".format(X_train.shape))\n",
    "    print(X_test.shape) \n",
    "    print(y_train.shape)\n",
    "    print(y_test.shape)\n",
    "    return (X_train, X_test, y_train, y_test)\n",
    "\n",
    "def shuffle_train_data(data, test_ratio = 0):\n",
    "    np.random.seed(42)\n",
    "    shuffled_indices = np.random.permutation(len(data))\n",
    "    test_set_size = int(len(data)*test_ratio)\n",
    "    test_indices = shuffled_indices[:test_set_size]\n",
    "    train_indices = shuffled_indices[test_set_size:]\n",
    "    return data.iloc[train_indices], data.iloc[test_indices]\n",
    "\n",
    "def splitData(data):\n",
    "    cols = data.shape[1] - 1\n",
    "    X = data.iloc[:,:cols]\n",
    "    y = data.iloc[:,cols:]\n",
    "    return X, y\n",
    "\n",
    "def calculateRMSE(y_hat, y):\n",
    "    sub = np.subtract(y_hat, y)\n",
    "    square = np.power(sub, 2)\n",
    "    rmse = sqrt(square.mean()/y.shape[0])\n",
    "    return rmse\n",
    "    \n",
    "    \n",
    "def getCVrmse(model, X, y):\n",
    "    return (np.sqrt(-cross_val_score(clf, X, y, scoring=\"neg_mean_squared_error\", cv = 5)))"
   ]
  },
  {
   "cell_type": "code",
   "execution_count": 6,
   "metadata": {},
   "outputs": [],
   "source": [
    "##################################################################\n",
    "# Fit model\n",
    "##################################################################\n",
    "def trainModel(data, alpha, model, test_ratio=0.2):\n",
    "    data_copy = data.copy()\n",
    "    #X_train, X_test, y_train, y_test = shuffleSplitData(data_copy, train_size)\n",
    "    train, test = shuffle_train_data(data_copy, test_ratio=test_ratio)\n",
    "    X_train, y_train = splitData(train)\n",
    "    X_test, y_test = splitData(test)\n",
    "    if model == 'Ridge':\n",
    "        clf = Ridge(alpha=alpha, normalize=True)\n",
    "    if model == 'Lasso':\n",
    "        clf = Lasso(alpha=alpha, normalize=True)\n",
    "    clf.fit(X_train, y_train)\n",
    "    y_hat = clf.predict(X_test)\n",
    "    return calculateRMSE(y_hat, y_test)\n",
    "    \n",
    "    #rmse = getCVrmse(clf, X_train, y_train)\n",
    "    #return rmse"
   ]
  },
  {
   "cell_type": "code",
   "execution_count": 15,
   "metadata": {},
   "outputs": [],
   "source": [
    "#########################################################\n",
    "# Prep the data\n",
    "########################################################\n",
    "#log transform the target:\n",
    "train_data[\"SalePrice\"] = np.log1p(train_data[\"SalePrice\"])\n",
    "\n",
    "#log transform skewed numeric features:\n",
    "numeric_feats = all_data.dtypes[all_data.dtypes != \"object\"].index\n",
    "\n",
    "skewed_feats = train_data[numeric_feats].apply(lambda x: skew(x.dropna())) #compute skewness\n",
    "skewed_feats = skewed_feats[skewed_feats > 0.75]\n",
    "skewed_feats = skewed_feats.index\n",
    "\n",
    "all_data[skewed_feats] = np.log1p(all_data[skewed_feats])\n",
    "all_data = pd.get_dummies(all_data)\n",
    "\n",
    "## Remove columns with more than 100 nans\n",
    "toomanynans = all_data.isnull().sum() < 100\n",
    "all_data = all_data[toomanynans.index[toomanynans]]\n",
    "\n",
    "## Remove non int non float columns\n",
    "# = pd.DataFrame(train_data_copy.select_dtypes(include=['float64', 'int64']))\n",
    "\n",
    "## Fill rest with average\n",
    "all_data = all_data.fillna(all_data.mean())"
   ]
  },
  {
   "cell_type": "code",
   "execution_count": 20,
   "metadata": {},
   "outputs": [],
   "source": [
    "num_alphas = 30\n",
    "alphas = [0.001*1.5**x for x in range(num_alphas)]\n",
    "\n",
    "rmses = []\n",
    "#train_data_copy = train_data.copy()\n",
    "\n",
    "for alpha in alphas:\n",
    "    temp_copy = all_data.copy()\n",
    "    rmses.append(trainModel(temp_copy, alpha, model='Ridge'))\n",
    "\n"
   ]
  },
  {
   "cell_type": "code",
   "execution_count": 21,
   "metadata": {},
   "outputs": [
    {
     "data": {
      "image/png": "[encoded data removed]",
      "text/plain": [
       "<matplotlib.figure.Figure at 0x7fcf7d95b6d8>"
      ]
     },
     "metadata": {},
     "output_type": "display_data"
    }
   ],
   "source": [
    "_ = plt.semilogx(alphas, rmses)"
   ]
  },
  {
   "cell_type": "code",
   "execution_count": 19,
   "metadata": {},
   "outputs": [
    {
     "name": "stdout",
     "output_type": "stream",
     "text": [
      "[0.001, 0.0015, 0.0022500000000000003, 0.003375, 0.0050625, 0.00759375, 0.011390625, 0.0170859375, 0.02562890625, 0.038443359375, 0.0576650390625, 0.08649755859375, 0.129746337890625, 0.1946195068359375, 0.29192926025390625]\n"
     ]
    }
   ],
   "source": [
    "print(alphas)"
   ]
  },
  {
   "cell_type": "code",
   "execution_count": null,
   "metadata": {},
   "outputs": [],
   "source": []
  },
  {
   "cell_type": "code",
   "execution_count": 3,
   "metadata": {},
   "outputs": [],
   "source": [
    "###########################################################\n",
    "# Remove columns that have low correlation\n",
    "###########################################################\n",
    "corr_matrix = train_data.corr()\n",
    "\n",
    "# Uncomment for list of column correlation\n",
    "#print(corr_matrix[\"SalePrice\"].sort_values(ascending=False))\n",
    "\n",
    "####TODO fix for negatively correlated\n",
    "train_trimmed = train_data.copy()\n",
    "\n",
    "pos_cols = corr_matrix[\"SalePrice\"] > 0.1\n",
    "#neg_cols = corr_matrix[\"SalePrice\"] < -0.1 \n",
    "\n",
    "train_trimmed = train_trimmed[pos_cols.index[pos_cols]]\n",
    "#train_trimmed = train_trimmed[neg_cols.index[neg_cols]]\n",
    "\n",
    "###########################################################\n",
    "#Then remove all NaN entries, replace with mean\n",
    "###########################################################\n",
    "# Show NaN counts\n",
    "#train_trimmed.isnull().sum()\n",
    "\n",
    "# Based what the columns are, it may be better to drop those columns\n",
    "train_trimmed.drop(['LotFrontage', 'GarageYrBlt'], axis=1, inplace=True)\n",
    "\n",
    "# And replace with avg MasVnrArea because it only had 8 nan\n",
    "train_trimmed = train_trimmed.fillna(train_trimmed.mean())\n",
    "\n",
    "# Verify\n",
    "#train_trimmed.isnull().sum()\n",
    "\n",
    "\n",
    "############################################################\n",
    "# Graveyard\n",
    "#train_trimmed.drop([columns.index[columns]], axis=1, inplace=True) #| corr_matrix[\"SalePrice\"] < 0.1\n",
    "#train_trimmed.drop([train_trimmed[co]])"
   ]
  }
 ],
 "metadata": {
  "kernelspec": {
   "display_name": "Python 3",
   "language": "python",
   "name": "python3"
  },
  "language_info": {
   "codemirror_mode": {
    "name": "ipython",
    "version": 3
   },
   "file_extension": ".py",
   "mimetype": "text/x-python",
   "name": "python",
   "nbconvert_exporter": "python",
   "pygments_lexer": "ipython3",
   "version": "3.5.2"
  }
 },
 "nbformat": 4,
 "nbformat_minor": 2
}
