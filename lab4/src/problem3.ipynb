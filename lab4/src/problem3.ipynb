{
 "cells": [
  {
   "cell_type": "code",
   "execution_count": 4,
   "metadata": {},
   "outputs": [],
   "source": [
    "import numpy as np\n",
    "import matplotlib.pyplot as plt\n",
    "import pandas as pd\n",
    "from pandas.plotting import scatter_matrix\n",
    "from sklearn.decomposition import PCA"
   ]
  },
  {
   "cell_type": "code",
   "execution_count": 5,
   "metadata": {},
   "outputs": [
    {
     "name": "stdout",
     "output_type": "stream",
     "text": [
      "(100, 100)\n",
      "(100, 100)\n"
     ]
    }
   ],
   "source": [
    "# Load the files\n",
    "filename1 = 'CorrMat1.csv'\n",
    "filename2 = 'CorrMat3.csv'\n",
    "\n",
    "df1 = pd.read_csv(filename1,header = None)\n",
    "df2 = pd.read_csv(filename2,header = None)\n",
    "print(df1.shape)\n",
    "print(df2.shape)"
   ]
  },
  {
   "cell_type": "code",
   "execution_count": 84,
   "metadata": {},
   "outputs": [],
   "source": [
    "means = df1.mean(axis=0)\n",
    "stdevs = df1.std(axis=0)"
   ]
  },
  {
   "cell_type": "markdown",
   "metadata": {},
   "source": [
    "####### we plan on using PCA to preserve most of the data that is variance of about 95% and then reconstruct a matrix from that data and fill the outlier points. This requires finding the indices of outliers first and then  replace them with data from reconstructed matrix using PCA"
   ]
  },
  {
   "cell_type": "code",
   "execution_count": 54,
   "metadata": {},
   "outputs": [
    {
     "name": "stdout",
     "output_type": "stream",
     "text": [
      "<class 'numpy.ndarray'>\n",
      "10000\n",
      "3220.5146\n",
      "2568.370801225329\n",
      "189\n"
     ]
    }
   ],
   "source": [
    "array = df1.values\n",
    "print(type(array))\n",
    "print(array.size)\n",
    "print(np.mean(array))\n",
    "print(np.std(array))\n",
    "print((array<1).sum())"
   ]
  },
  {
   "cell_type": "code",
   "execution_count": 34,
   "metadata": {},
   "outputs": [],
   "source": [
    "test_col = df1[19]"
   ]
  },
  {
   "cell_type": "code",
   "execution_count": 86,
   "metadata": {},
   "outputs": [],
   "source": [
    "## this code can check for outliers and return indexes within specified std dev\n",
    "mean = test_col.mean()\n",
    "stdev = test_col.std()\n",
    "idx = []\n",
    "for index,value in test_col.iteritems():\n",
    "    if (value < (mean-1.4*stdev))or(value>(mean+1.4*stdev)):\n",
    "                idx.append(index)"
   ]
  },
  {
   "cell_type": "code",
   "execution_count": 36,
   "metadata": {},
   "outputs": [
    {
     "name": "stdout",
     "output_type": "stream",
     "text": [
      "[11, 18, 19, 24, 36, 40, 43, 45, 52, 59, 67, 76, 84, 87, 88, 91, 97, 99]\n"
     ]
    }
   ],
   "source": [
    "print(idx)"
   ]
  },
  {
   "cell_type": "code",
   "execution_count": 87,
   "metadata": {},
   "outputs": [],
   "source": [
    "###finding outlier index\n",
    "#def find_outlier_index(column):\n",
    "#    mean = column.mean(axis=0)\n",
    "#    stdev = column.std(axis=0)\n",
    "#    print(mean)\n",
    "#    print(column.index)\n",
    "#    print(row.index)\n",
    "#df1.apply(find_outlier_index,axis =0)\n",
    "    "
   ]
  },
  {
   "cell_type": "code",
   "execution_count": 80,
   "metadata": {},
   "outputs": [
    {
     "name": "stdout",
     "output_type": "stream",
     "text": [
      "[0.73255454]\n"
     ]
    }
   ],
   "source": [
    "## does PCA analysis with specified number of components\n",
    "pca = PCA(n_components = 1)\n",
    "pca.fit(df1)\n",
    "#cumsum = np.cumsum(pca.explained_variance_ratio_)\n",
    "#d = np.argmax(cumsum >= 0.95)+1\n",
    "#the code below gives variance captured by pca\n",
    "print(pca.explained_variance_ratio_)"
   ]
  },
  {
   "cell_type": "code",
   "execution_count": 81,
   "metadata": {},
   "outputs": [],
   "source": [
    "## code to reduce and reconstruct from pca\n",
    "df1_reduced = pca.fit_transform(df1)\n",
    "df1_recovered = pca.inverse_transform(df1_reduced)"
   ]
  },
  {
   "cell_type": "code",
   "execution_count": 82,
   "metadata": {},
   "outputs": [
    {
     "name": "stdout",
     "output_type": "stream",
     "text": [
      "(100, 100)\n"
     ]
    }
   ],
   "source": [
    "print(df1_recovered.shape)"
   ]
  },
  {
   "cell_type": "code",
   "execution_count": 83,
   "metadata": {},
   "outputs": [
    {
     "name": "stdout",
     "output_type": "stream",
     "text": [
      "3220.5146000000004\n"
     ]
    }
   ],
   "source": [
    "arr = df1_recovered\n",
    "print(arr.mean())"
   ]
  },
  {
   "cell_type": "code",
   "execution_count": null,
   "metadata": {},
   "outputs": [],
   "source": []
  }
 ],
 "metadata": {
  "kernelspec": {
   "display_name": "Python 3",
   "language": "python",
   "name": "python3"
  },
  "language_info": {
   "codemirror_mode": {
    "name": "ipython",
    "version": 3
   },
   "file_extension": ".py",
   "mimetype": "text/x-python",
   "name": "python",
   "nbconvert_exporter": "python",
   "pygments_lexer": "ipython3",
   "version": "3.5.2"
  }
 },
 "nbformat": 4,
 "nbformat_minor": 2
}
