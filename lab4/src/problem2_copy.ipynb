{
 "cells": [
  {
   "cell_type": "code",
   "execution_count": 65,
   "metadata": {},
   "outputs": [],
   "source": [
    "import imageio\n",
    "import PIL\n",
    "from PIL import Image\n",
    "import numpy as np\n",
    "import scipy as sp\n",
    "from scipy import linalg\n",
    "from IPython.display import Image\n",
    "import matplotlib.pyplot as plt\n",
    "import matplotlib.image as mpimg\n"
   ]
  },
  {
   "cell_type": "code",
   "execution_count": 68,
   "metadata": {},
   "outputs": [],
   "source": [
    "# Load the file into a np array\n",
    "#mona_lisa = imageio.imread('mona_lisa.png')\n",
    "\n",
    "# Display image from file\n",
    "#Image(filename='mona_lisa.png')\n",
    "\n",
    "# Display image from numpy array\n",
    "#imgplot = plt.imshow(mona_lisa[:,:,3])\n",
    "\n",
    "#\n",
    "img = PIL.Image.open('mona_lisa.png')"
   ]
  },
  {
   "cell_type": "code",
   "execution_count": 22,
   "metadata": {},
   "outputs": [
    {
     "name": "stdout",
     "output_type": "stream",
     "text": [
      "(603, 400, 4)\n"
     ]
    }
   ],
   "source": [
    "print(mona_lisa.shape)"
   ]
  },
  {
   "cell_type": "code",
   "execution_count": 23,
   "metadata": {},
   "outputs": [],
   "source": [
    "# Call each matrix grayscale 1, grayscale 2, etc so we work in 2D\n",
    "gs_0 = mona_lisa[:,:,0]\n",
    "gs_1 = mona_lisa[:,:,1]\n",
    "gs_2 = mona_lisa[:,:,2]\n",
    "gs_3 = mona_lisa[:,:,3]"
   ]
  },
  {
   "cell_type": "code",
   "execution_count": 5,
   "metadata": {},
   "outputs": [],
   "source": [
    "# Perform SVD\n",
    "#U, s, V = np.linalg.svd(gs_0)\n",
    "#D = linalg.diagsvd(s, gs_0.shape[0], gs_0.shape[1])"
   ]
  },
  {
   "cell_type": "code",
   "execution_count": 6,
   "metadata": {},
   "outputs": [],
   "source": [
    "# Check shapes and sizes\n",
    "#print(U.shape)\n",
    "#print(V.shape)\n",
    "#print(s.shape)\n",
    "#print(D.shape)"
   ]
  },
  {
   "cell_type": "code",
   "execution_count": 24,
   "metadata": {},
   "outputs": [],
   "source": [
    "def lowRankApproximate(rank, D):\n",
    "    maximum = []\n",
    "    indices = []\n",
    "    D_copy = D.copy()\n",
    "    for max_val in range(rank):\n",
    "        \n",
    "        # Find max value in D\n",
    "        ind = np.unravel_index(np.argmax(D_copy, axis=None), D.shape)\n",
    "        \n",
    "        # Add it to our max list\n",
    "        maximum.append(D_copy[ind])\n",
    "        indices.append(ind)\n",
    "        \n",
    "        # Set it to zero to find next max\n",
    "        D_copy[ind] = 0\n",
    "    \n",
    "    # Rebuilt low rank approximation\n",
    "    D_approx = np.zeros((D.shape))\n",
    "    for i in range(len(maximum)):\n",
    "        D_approx[indices[i]] = maximum[i]\n",
    "\n",
    "    return D_approx\n",
    "\n",
    "\n",
    "    \n",
    "def buildCompressed(rank, greyscale):\n",
    "    gs_copy = greyscale.copy()\n",
    "    U, s, V = np.linalg.svd(gs_copy, full_matrices=True)\n",
    "    D = linalg.diagsvd(s, gs_copy.shape[0], gs_copy.shape[1])\n",
    "    D_approx = lowRankApproximate(rank, D)\n",
    "    M = np.dot(np.dot(U, D_approx), V)\n",
    "    M[M < 0] = 0\n",
    "    M[M > 1] = 1\n",
    "    return (M)"
   ]
  },
  {
   "cell_type": "code",
   "execution_count": 46,
   "metadata": {},
   "outputs": [],
   "source": [
    "############################\n",
    "# copy\n",
    "###########################\n",
    "\n",
    "def lowRankApproximatecopy(rank, D):\n",
    "    maximum = []\n",
    "    indices = []\n",
    "    D_copy = D.copy()\n",
    "    for max_val in range(rank):\n",
    "        \n",
    "        # Find max value in D\n",
    "        ind = np.unravel_index(np.argmax(D_copy, axis=None), D.shape)\n",
    "        \n",
    "        # Add it to our max list\n",
    "        maximum.append(D_copy[ind])\n",
    "        indices.append(ind)\n",
    "        \n",
    "        # Set it to zero to find next max\n",
    "        D_copy[ind] = 0\n",
    "    \n",
    "    # Rebuilt low rank approximation\n",
    "    D_approx = np.zeros((rank, rank))\n",
    "    for i in range(len(maximum)):\n",
    "        D_approx[i,i] = maximum[i]\n",
    "\n",
    "    return D_approx, indices\n",
    "\n",
    "    \n",
    "def buildCompressedcopy(rank, greyscale):\n",
    "    gs_copy = greyscale.copy()\n",
    "    U, s, V = np.linalg.svd(gs_copy, full_matrices=True)\n",
    "    D = linalg.diagsvd(s, gs_copy.shape[0], gs_copy.shape[1])\n",
    "    D_approx, indices = lowRankApproximatecopy(rank, D)\n",
    "    \n",
    "    # Make U, V\n",
    "    U_approx = np.zeros((gs_copy.shape[0], rank))\n",
    "    for i in range(rank):\n",
    "        U_approx[:,i] = U[:,indices[i][1]]\n",
    "    \n",
    "    V_approx = np.zeros((rank, gs_copy.shape[1]))\n",
    "    for i in range(rank):\n",
    "        V_approx[i, :] = V[indices[i][0], :]\n",
    "        \n",
    "    M = np.dot(np.dot(U_approx,D_approx), V_approx)\n",
    "    M[M < 0] = 0\n",
    "    M[M > 1] = 1\n",
    "    return (M)"
   ]
  },
  {
   "cell_type": "code",
   "execution_count": 47,
   "metadata": {},
   "outputs": [],
   "source": [
    "greyscales = [gs_0, gs_1, gs_2, gs_3]\n",
    "ranks = [2, 5, 10]\n",
    "mona_lisas = []\n",
    "\n",
    "for rank in ranks:\n",
    "    compressed = np.empty((gs_0.shape[0],gs_0.shape[1]), float)\n",
    "    for layer in greyscales:\n",
    "        compressed = np.dstack((compressed, buildCompressedcopy(rank, layer)))\n",
    "        \n",
    "    mona_lisas.append(compressed)"
   ]
  }
 ],
 "metadata": {
  "kernelspec": {
   "display_name": "Python 3",
   "language": "python",
   "name": "python3"
  },
  "language_info": {
   "codemirror_mode": {
    "name": "ipython",
    "version": 3
   },
   "file_extension": ".py",
   "mimetype": "text/x-python",
   "name": "python",
   "nbconvert_exporter": "python",
   "pygments_lexer": "ipython3",
   "version": "3.5.2"
  }
 },
 "nbformat": 4,
 "nbformat_minor": 2
}
