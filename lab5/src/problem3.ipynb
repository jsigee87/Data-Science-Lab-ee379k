{
 "cells": [
  {
   "cell_type": "markdown",
   "metadata": {},
   "source": [
    "## Problem 3\n",
    "### (Problem 5, Chapter 5, page 198)\n",
    "In Chapter 4, we used logistic regression to predict the probability of\n",
    "default using income and balance on the Default data set. We will\n",
    "now estimate the test error of this logistic regression model using the\n",
    "validation set approach. Do not forget to set a random seed before\n",
    "beginning your analysis."
   ]
  },
  {
   "cell_type": "markdown",
   "metadata": {},
   "source": [
    "#### Part A\n",
    "\n",
    "Fit a logistic regression model that uses income and balance to\n",
    "predict default."
   ]
  },
  {
   "cell_type": "code",
   "execution_count": null,
   "metadata": {},
   "outputs": [],
   "source": []
  },
  {
   "cell_type": "markdown",
   "metadata": {},
   "source": [
    "#### Part B\n",
    "\n",
    "Using the validation set approach, estimate the test error of this\n",
    "model. In order to do this, you must perform the following steps:\n",
    "i. Split the sample set into a training set and a validation set.\n",
    "\n",
    "ii. Fit a multiple logistic regression model using only the train-\n",
    "ing observations.\n",
    "\n",
    "iii. Obtain a prediction of default status for each individual in\n",
    "the validation set by computing the posterior probability of\n",
    "default for that individual, and classifying the individual to\n",
    "the default category if the posterior probability is greater\n",
    "than 0.5.\n",
    "\n",
    "iv. Compute the validation set error, which is the fraction of\n",
    "the observations in the validation set that are misclassified."
   ]
  },
  {
   "cell_type": "code",
   "execution_count": null,
   "metadata": {},
   "outputs": [],
   "source": []
  },
  {
   "cell_type": "markdown",
   "metadata": {},
   "source": [
    "#### Part C\n",
    "Repeat the process in (b) three times, using three different splits\n",
    "of the observations into a training set and a validation set. Com-\n",
    "ment on the results obtained.\n",
    "\n"
   ]
  },
  {
   "cell_type": "code",
   "execution_count": null,
   "metadata": {},
   "outputs": [],
   "source": []
  },
  {
   "cell_type": "markdown",
   "metadata": {},
   "source": [
    "#### Part D\n",
    "\n",
    "Now consider a logistic regression model that predicts the prob-\n",
    "ability of default using income , balance , and a dummy variable\n",
    "for student . Estimate the test error for this model using the val-\n",
    "idation set approach. Comment on whether or not including a\n",
    "dummy variable for student leads to a reduction in the test error\n",
    "rate."
   ]
  },
  {
   "cell_type": "code",
   "execution_count": null,
   "metadata": {},
   "outputs": [],
   "source": []
  }
 ],
 "metadata": {
  "kernelspec": {
   "display_name": "Python 3",
   "language": "python",
   "name": "python3"
  },
  "language_info": {
   "codemirror_mode": {
    "name": "ipython",
    "version": 3
   },
   "file_extension": ".py",
   "mimetype": "text/x-python",
   "name": "python",
   "nbconvert_exporter": "python",
   "pygments_lexer": "ipython3",
   "version": "3.5.2"
  }
 },
 "nbformat": 4,
 "nbformat_minor": 2
}
