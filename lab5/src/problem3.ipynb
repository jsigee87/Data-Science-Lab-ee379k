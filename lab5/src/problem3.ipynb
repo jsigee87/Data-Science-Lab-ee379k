{
 "cells": [
  {
   "cell_type": "markdown",
   "metadata": {},
   "source": [
    "## Problem 3\n",
    "### (Problem 5, Chapter 5, page 198)\n",
    "In Chapter 4, we used logistic regression to predict the probability of\n",
    "default using income and balance on the Default data set. We will\n",
    "now estimate the test error of this logistic regression model using the\n",
    "validation set approach. Do not forget to set a random seed before\n",
    "beginning your analysis."
   ]
  },
  {
   "cell_type": "code",
   "execution_count": 85,
   "metadata": {},
   "outputs": [],
   "source": [
    "#libraries\n",
    "import os\n",
    "import pandas as pd\n",
    "import numpy as np\n",
    "import seaborn as sns\n",
    "from sklearn.model_selection import train_test_split\n",
    "from sklearn.linear_model import LogisticRegression\n",
    "from sklearn.preprocessing import LabelBinarizer"
   ]
  },
  {
   "cell_type": "code",
   "execution_count": 86,
   "metadata": {},
   "outputs": [],
   "source": [
    "#os.getcwd()\n",
    "## loading the dataset\n",
    "filePath = \"/home/humble-fool/school_work/Spring_18/Data-Science-Lab-ee379k/datasets/ISLR/data/csv/\"\n",
    "fileName = \"Default.csv\"\n",
    "default = pd.read_csv(filePath+fileName)\n",
    "#default.head()"
   ]
  },
  {
   "cell_type": "markdown",
   "metadata": {},
   "source": [
    "#### Part A\n",
    "\n",
    "Fit a logistic regression model that uses income and balance to\n",
    "predict default."
   ]
  },
  {
   "cell_type": "code",
   "execution_count": 87,
   "metadata": {},
   "outputs": [],
   "source": [
    "#splitting data into training and testing\n",
    "clf = LogisticRegression()\n",
    "X_train = default[['income','balance']]\n",
    "y_train = default['default']\n",
    "_= clf.fit(X_train, y_train)\n",
    "pred_a = clf.predict(X_train)\n"
   ]
  },
  {
   "cell_type": "code",
   "execution_count": 88,
   "metadata": {},
   "outputs": [
    {
     "name": "stdout",
     "output_type": "stream",
     "text": [
      "Training error of the dataset is 0.0336\n"
     ]
    }
   ],
   "source": [
    "#calculating training error\n",
    "size_a = pred_a.size\n",
    "count_a = 0\n",
    "for i in range(size_a):\n",
    "    if(pred_a[i]!=y_train.iloc[i]):\n",
    "        count_a +=1\n",
    "train_error = count_a/size_a\n",
    "print(\"Training error of the dataset is {}\".format(train_error))"
   ]
  },
  {
   "cell_type": "markdown",
   "metadata": {},
   "source": [
    "#### Part B\n",
    "\n",
    "Using the validation set approach, estimate the test error of this\n",
    "model. In order to do this, you must perform the following steps:\n",
    "i. Split the sample set into a training set and a validation set.\n",
    "\n",
    "ii. Fit a multiple logistic regression model using only the train-\n",
    "ing observations.\n",
    "\n",
    "iii. Obtain a prediction of default status for each individual in\n",
    "the validation set by computing the posterior probability of\n",
    "default for that individual, and classifying the individual to\n",
    "the default category if the posterior probability is greater\n",
    "than 0.5.\n",
    "\n",
    "iv. Compute the validation set error, which is the fraction of\n",
    "the observations in the validation set that are misclassified."
   ]
  },
  {
   "cell_type": "code",
   "execution_count": 89,
   "metadata": {},
   "outputs": [],
   "source": [
    "#Splitting data into test and train\n",
    "train,test = train_test_split(default, test_size=0.2)\n",
    "X_train_b = train[['income','balance']]\n",
    "y_train_b = train['default']\n",
    "X_test_b = test[['income','balance']]\n",
    "y_test_b = test['default']"
   ]
  },
  {
   "cell_type": "code",
   "execution_count": 90,
   "metadata": {},
   "outputs": [],
   "source": [
    "# fitting the logistic regression model and saving only concerned probabilities\n",
    "clf_b = LogisticRegression()\n",
    "_ = clf_b.fit(X_train_b,y_train_b)\n",
    "pred_b = clf_b.predict(X_test_b)"
   ]
  },
  {
   "cell_type": "code",
   "execution_count": 91,
   "metadata": {},
   "outputs": [
    {
     "name": "stdout",
     "output_type": "stream",
     "text": [
      "test error with validation set ratio 0.2 is 0.0365\n"
     ]
    }
   ],
   "source": [
    "#calculating the number of values that don't match across validation set and predictions\n",
    "size_b = pred_b.size\n",
    "count_b = 0\n",
    "for i in range(size):\n",
    "    if(pred_b[i]!=y_test_b.iloc[i]):\n",
    "        count_b +=1\n",
    "        \n",
    "# calculating validation error\n",
    "validation_error_b = count_b/y_test_b.size\n",
    "print(\"test error with validation set ratio 0.2 is {}\".format(validation_error_b))"
   ]
  },
  {
   "cell_type": "markdown",
   "metadata": {},
   "source": [
    "#### Part C\n",
    "Repeat the process in (b) three times, using three different splits\n",
    "of the observations into a training set and a validation set. Com-\n",
    "ment on the results obtained.\n",
    "\n"
   ]
  },
  {
   "cell_type": "code",
   "execution_count": 92,
   "metadata": {},
   "outputs": [
    {
     "name": "stdout",
     "output_type": "stream",
     "text": [
      "Test error with validation set ratio 0.3 is 0.035\n"
     ]
    }
   ],
   "source": [
    "# repeating part b with validation set of ratio 0.3\n",
    "train_c_1,test_c_1 = train_test_split(default, test_size=0.3)\n",
    "X_train_c_1 = train_c_1[['income','balance']]\n",
    "y_train_c_1 = train_c_1['default']\n",
    "X_test_c_1 = test_c_1[['income','balance']]\n",
    "y_test_c_1 = test_c_1['default']\n",
    "\n",
    "\n",
    "# fitting the logistic regression model and saving only concerned probabilities\n",
    "clf_c_1 = LogisticRegression()\n",
    "_ = clf_c_1.fit(X_train_c_1,y_train_c_1)\n",
    "pred_c_1 = clf_c_1.predict(X_test_c_1)\n",
    "\n",
    "#calculating the number of values that don't match across validation set and predictions\n",
    "size_c_1 = pred_c_1.size\n",
    "count_c_1 = 0\n",
    "for i in range(size_c_1):\n",
    "    if(pred_c_1[i]!=y_test_c_1.iloc[i]):\n",
    "        count_c_1 +=1\n",
    "        \n",
    "# calculating validation error\n",
    "validation_error_c_1 = count_c_1/y_test_c_1.size\n",
    "print(\"Test error with validation set ratio 0.3 is {}\".format(validation_error_c_1))\n",
    "\n"
   ]
  },
  {
   "cell_type": "code",
   "execution_count": 93,
   "metadata": {},
   "outputs": [
    {
     "name": "stdout",
     "output_type": "stream",
     "text": [
      "Test error with validation set ratio 0.4 is 0.03\n"
     ]
    }
   ],
   "source": [
    "# repeating part b with validation set of ratio 0.4\n",
    "train_c_2,test_c_2 = train_test_split(default, test_size=0.4)\n",
    "X_train_c_2 = train_c_2[['income','balance']]\n",
    "y_train_c_2 = train_c_2['default']\n",
    "X_test_c_2 = test_c_2[['income','balance']]\n",
    "y_test_c_2 = test_c_2['default']\n",
    "\n",
    "\n",
    "# fitting the logistic regression model and saving only concerned probabilities\n",
    "clf_c_2 = LogisticRegression()\n",
    "_ = clf_c_2.fit(X_train_c_2,y_train_c_2)\n",
    "pred_c_2 = clf_c_2.predict(X_test_c_2)\n",
    "\n",
    "#calculating the number of values that don't match across validation set and predictions\n",
    "size_c_2 = pred_c_2.size\n",
    "count_c_2 = 0\n",
    "for i in range(size_c_2):\n",
    "    if(pred_c_2[i]!=y_test_c_2.iloc[i]):\n",
    "        count_c_2 +=1\n",
    "        \n",
    "# calculating validation error\n",
    "validation_error_c_2 = count_c_2/y_test_c_2.size\n",
    "print(\"Test error with validation set ratio 0.4 is {}\".format(validation_error_c_2))"
   ]
  },
  {
   "cell_type": "code",
   "execution_count": 94,
   "metadata": {},
   "outputs": [
    {
     "name": "stdout",
     "output_type": "stream",
     "text": [
      "Test error with validation set ratio 0.5 is 0.035\n"
     ]
    }
   ],
   "source": [
    "# repeating part b with validation set of ratio 0.5\n",
    "train_c_3,test_c_3 = train_test_split(default, test_size=0.5)\n",
    "X_train_c_3 = train_c_3[['income','balance']]\n",
    "y_train_c_3 = train_c_3['default']\n",
    "X_test_c_3 = test_c_3[['income','balance']]\n",
    "y_test_c_3 = test_c_3['default']\n",
    "\n",
    "\n",
    "# fitting the logistic regression model and saving only concerned probabilities\n",
    "clf_c_3 = LogisticRegression()\n",
    "_ = clf_c_3.fit(X_train_c_3,y_train_c_3)\n",
    "pred_c_3 = clf_c_3.predict(X_test_c_3)\n",
    "\n",
    "#calculating the number of values that don't match across validation set and predictions\n",
    "size_c_3 = pred_c_3.size\n",
    "count_c_3 = 0\n",
    "for i in range(size_c_3):\n",
    "    if(pred_c_3[i]!=y_test_c_3.iloc[i]):\n",
    "        count_c_3 +=1\n",
    "        \n",
    "# calculating validation error\n",
    "validation_error_c_3 = count_c_3/y_test_c_3.size\n",
    "print(\"Test error with validation set ratio 0.5 is {}\".format(validation_error_c_3))"
   ]
  },
  {
   "cell_type": "markdown",
   "metadata": {},
   "source": [
    "Test error increases with increase in size of validation set as expected except for the case of validation set ratio 0.5"
   ]
  },
  {
   "cell_type": "markdown",
   "metadata": {},
   "source": [
    "#### Part D\n",
    "\n",
    "Now consider a logistic regression model that predicts the prob-\n",
    "ability of default using income , balance , and a dummy variable\n",
    "for student . Estimate the test error for this model using the val-\n",
    "idation set approach. Comment on whether or not including a\n",
    "dummy variable for student leads to a reduction in the test error\n",
    "rate."
   ]
  },
  {
   "cell_type": "code",
   "execution_count": 95,
   "metadata": {},
   "outputs": [],
   "source": [
    "## converting student to float because regression model doesn't accept strings\n",
    "default_copy = default.copy()\n",
    "lb = LabelBinarizer()\n",
    "y = lb.fit_transform(default.student)\n",
    "default_copy['student'] = y"
   ]
  },
  {
   "cell_type": "code",
   "execution_count": 96,
   "metadata": {},
   "outputs": [
    {
     "name": "stdout",
     "output_type": "stream",
     "text": [
      "Test error with validation set ratio 0.4 is 0.03475\n"
     ]
    }
   ],
   "source": [
    "# considering a logistic regression model with student as a predictor \n",
    "\n",
    "train_d,test_d = train_test_split(default_copy, test_size=0.4)\n",
    "\n",
    "X_train_d = train_d[['student','income','balance']]\n",
    "y_train_d = train_d['default']\n",
    "X_test_d = test_d[['student','income','balance']]\n",
    "y_test_d = test_d['default']\n",
    "\n",
    "\n",
    "# fitting the logistic regression model and saving only concerned probabilities\n",
    "clf_d = LogisticRegression()\n",
    "_ = clf_d.fit(X_train_d,y_train_d)\n",
    "pred_d = clf_d.predict(X_test_d)\n",
    "\n",
    "#calculating the number of values that don't match across validation set and predictions\n",
    "size_d = pred_d.size\n",
    "count_d = 0\n",
    "for i in range(size_d):\n",
    "    if(pred_d[i]!=y_test_d.iloc[i]):\n",
    "        count_d +=1\n",
    "        \n",
    "# calculating validation error\n",
    "validation_error_d = count_d/y_test_d.size\n",
    "print(\"Test error with validation set ratio 0.4 is {}\".format(validation_error_d))"
   ]
  },
  {
   "cell_type": "markdown",
   "metadata": {},
   "source": [
    "Considering student status increases test error of the logistic regression model slightly as we observed change from .03425 to .03475 with same size validation set."
   ]
  },
  {
   "cell_type": "code",
   "execution_count": null,
   "metadata": {},
   "outputs": [],
   "source": []
  }
 ],
 "metadata": {
  "kernelspec": {
   "display_name": "Python 3",
   "language": "python",
   "name": "python3"
  },
  "language_info": {
   "codemirror_mode": {
    "name": "ipython",
    "version": 3
   },
   "file_extension": ".py",
   "mimetype": "text/x-python",
   "name": "python",
   "nbconvert_exporter": "python",
   "pygments_lexer": "ipython3",
   "version": "3.5.2"
  }
 },
 "nbformat": 4,
 "nbformat_minor": 2
}
