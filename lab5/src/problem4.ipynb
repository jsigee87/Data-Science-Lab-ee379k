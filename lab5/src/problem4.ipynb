{
 "cells": [
  {
   "cell_type": "markdown",
   "metadata": {},
   "source": [
    "# Problem 4\n",
    "## Problem 8 from Chapter 5\n",
    "\n",
    "We will now perform cross-validation on a simulated data set."
   ]
  },
  {
   "cell_type": "code",
   "execution_count": 1,
   "metadata": {},
   "outputs": [],
   "source": [
    "import random\n",
    "import numpy as np\n",
    "import pandas as pd\n",
    "import matplotlib.pyplot as plt\n",
    "from sklearn.model_selection import LeaveOneOut\n",
    "from sklearn.linear_model import LinearRegression\n",
    "from sklearn.metrics import mean_squared_error as mse"
   ]
  },
  {
   "cell_type": "markdown",
   "metadata": {},
   "source": [
    "## Part A\n",
    "Generate a simulated data set as follows:\n",
    "```\n",
    "set.seed(1)\n",
    "x=rnorm(100)\n",
    "y=x-2*x^2+rnorm (100)\n",
    "```\n",
    "In this data set, what is n and what is p? Write out the model\n",
    "used to generate the data in equation form."
   ]
  },
  {
   "cell_type": "code",
   "execution_count": 2,
   "metadata": {},
   "outputs": [],
   "source": [
    "random.seed(1)\n",
    "x = np.random.randn(100)\n",
    "y = (x-(2*(x*x)) + np.random.randn(100))"
   ]
  },
  {
   "cell_type": "markdown",
   "metadata": {},
   "source": [
    "N is number of samples and in this case it is 100. P is number of predictors and equal to 1 in this case"
   ]
  },
  {
   "cell_type": "code",
   "execution_count": 3,
   "metadata": {},
   "outputs": [
    {
     "data": {
      "image/png": "[encoded data removed]",
      "text/plain": [
       "<matplotlib.figure.Figure at 0x7f6496486470>"
      ]
     },
     "metadata": {},
     "output_type": "display_data"
    }
   ],
   "source": [
    "## creating a scatter plto\n",
    "fig = plt.figure(figsize=(8,6))\n",
    "ax = fig.add_subplot(111)\n",
    "_ = ax.scatter(x, y, alpha=0.7, s=50, color = ['red','blue'], marker= '.')\n",
    "_ = plt.title('Scatter of 2 Sample Distributions', FontSize=12)\n",
    "#_ = plt.legend(loc=, prop={'size' : 12})\n",
    "_ = plt.show()"
   ]
  },
  {
   "cell_type": "markdown",
   "metadata": {},
   "source": [
    "## Part B\n",
    "Create a scatterplot of X against Y . Comment on what you find."
   ]
  },
  {
   "cell_type": "markdown",
   "metadata": {},
   "source": [
    "X and Y are highly correlated. y is simply shift of x with added gaussian noise"
   ]
  },
  {
   "cell_type": "markdown",
   "metadata": {},
   "source": [
    "## Part C\n",
    "Set a random seed, and then compute the LOOCV errors that\n",
    "result from fitting the following four models using least squares:<br>\n",
    "$i. Y = \\beta_0 + \\beta_1 X $<br>\n",
    "$ii. Y = \\beta_0 + \\beta_1 X + \\beta_2 X^2$<br>\n",
    "$iii. Y = \\beta_0 + \\beta_1 X + \\beta_2 X^2 + \\beta_3 X^3$<br>\n",
    "$iv. Y = \\beta_0 + \\beta_1 X + \\beta_2 X^2 + \\beta_3 X^3 + \\beta_4 X^4$<br>\n",
    "Note you may find it helpful to use the data.frame() function\n",
    "to create a single data set containing both X and Y ."
   ]
  },
  {
   "cell_type": "code",
   "execution_count": 4,
   "metadata": {},
   "outputs": [],
   "source": [
    "# Getting leave one out and linear regression model\n",
    "loo = LeaveOneOut()\n",
    "clf = LinearRegression()\n",
    "\n",
    "# Creating copies of the original data for local use\n",
    "x_copy =x\n",
    "y_copy =y\n",
    "\n",
    "# Creating arrays with power 2,3,4 of x to use in models 2,3,4\n",
    "x_2 = np.power(x_copy, 2)\n",
    "x_3 = np.power(x_copy, 3)\n",
    "x_4 = np.power(x_copy, 4)"
   ]
  },
  {
   "cell_type": "markdown",
   "metadata": {},
   "source": [
    "### Part i."
   ]
  },
  {
   "cell_type": "code",
   "execution_count": 5,
   "metadata": {},
   "outputs": [],
   "source": [
    "# Benerating a data frame from generated data\n",
    "# creating dictionary to generate data frame\n",
    "dict_data = {'x':x_copy,\n",
    "       'y':y_copy}\n",
    "dataset_1 = pd.DataFrame(dict_data)"
   ]
  },
  {
   "cell_type": "code",
   "execution_count": 6,
   "metadata": {},
   "outputs": [
    {
     "name": "stdout",
     "output_type": "stream",
     "text": [
      "Mean of the scores with 1 degrees of freedom is 8.02593272692242\n"
     ]
    }
   ],
   "source": [
    "# This function takes in test and train indexes,splits data into train and test,\n",
    "# and calculates mean squared error and appends it to score\n",
    "scores_1 = []\n",
    "def calc_mse_1(train_index, test_index):\n",
    "    train = dataset_1.loc[train_index]\n",
    "    test = dataset_1.loc[test_index]\n",
    "    X_train = train['x'].values.reshape(-1,1)\n",
    "    y_train = train['y']\n",
    "    X_test = test['x'].values.reshape(-1,1)\n",
    "    y_test = test['y']\n",
    "    clf.fit(X_train, y_train)\n",
    "    pred = clf.predict(X_test)\n",
    "    error = mse(pred,y_test)\n",
    "    scores_1.append(error)\n",
    "    \n",
    "# Splits data set into train and test leaving one out and repeats n times\n",
    "for train_index, test_index in loo.split(dataset_1):\n",
    "    calc_mse_1(train_index, test_index)\n",
    "\n",
    "scores_1 = np.asarray(scores_1)\n",
    "mean_1 = np.mean(scores_1)\n",
    "\n",
    "print(\"Mean of the scores with 1 degrees of freedom is {}\".format(mean_1))"
   ]
  },
  {
   "cell_type": "markdown",
   "metadata": {},
   "source": [
    "### Part ii."
   ]
  },
  {
   "cell_type": "code",
   "execution_count": 7,
   "metadata": {},
   "outputs": [],
   "source": [
    "# Creating dictionary to generate data fram\n",
    "dict_data = {'x':x_copy,\n",
    "            'x^2':x_2,\n",
    "             'y':y_copy}\n",
    "dataset_2 = pd.DataFrame(dict_data)"
   ]
  },
  {
   "cell_type": "code",
   "execution_count": 8,
   "metadata": {},
   "outputs": [
    {
     "name": "stdout",
     "output_type": "stream",
     "text": [
      "Mean of the scores with 2 degrees of freedom is 0.8956125063375492\n"
     ]
    }
   ],
   "source": [
    "# This function takes in test and train indexes,splits data into train and test,\n",
    "# and calculates mean squared error and appends it to score\n",
    "scores_2 = []\n",
    "def calc_mse_2(train_index, test_index):\n",
    "    train = dataset_2.loc[train_index]\n",
    "    test = dataset_2.loc[test_index]\n",
    "    X_train = train[['x','x^2']]\n",
    "    y_train = train['y']\n",
    "    X_test = test[['x','x^2']]\n",
    "    y_test = test['y']\n",
    "    clf.fit(X_train, y_train)\n",
    "    pred = clf.predict(X_test)\n",
    "    error = mse(pred,y_test)\n",
    "    scores_2.append(error)\n",
    "    \n",
    "# Splits data set into train and test leaving one out and repeats n times\n",
    "for train_index, test_index in loo.split(dataset_2):\n",
    "    calc_mse_2(train_index, test_index)\n",
    "\n",
    "scores_2 = np.asarray(scores_2)\n",
    "mean_2 = np.mean(scores_2)\n",
    "\n",
    "print(\"Mean of the scores with 2 degrees of freedom is {}\".format(mean_2))"
   ]
  },
  {
   "cell_type": "markdown",
   "metadata": {},
   "source": [
    "### Part iii."
   ]
  },
  {
   "cell_type": "code",
   "execution_count": 9,
   "metadata": {},
   "outputs": [],
   "source": [
    "# Creating dictionary to generate data fram\n",
    "dict_data = {'x':x_copy,\n",
    "            'x^2':x_2,\n",
    "             'x^3':x_3,\n",
    "             'y':y_copy}\n",
    "dataset_3 = pd.DataFrame(dict_data)"
   ]
  },
  {
   "cell_type": "code",
   "execution_count": 10,
   "metadata": {},
   "outputs": [
    {
     "name": "stdout",
     "output_type": "stream",
     "text": [
      "Mean of the scores with 3 degrees of freedom is 0.9257108380528001\n"
     ]
    }
   ],
   "source": [
    "# This function takes in test and train indexes,splits data into train and test,\n",
    "# and calculates mean squared error and appends it to score\n",
    "scores_3 = []\n",
    "def calc_mse_3(train_index, test_index):\n",
    "    train = dataset_3.loc[train_index]\n",
    "    test = dataset_3.loc[test_index]\n",
    "    X_train = train[['x','x^2','x^3']]\n",
    "    y_train = train['y']\n",
    "    X_test = test[['x','x^2','x^3']]\n",
    "    y_test = test['y']\n",
    "    clf.fit(X_train, y_train)\n",
    "    pred = clf.predict(X_test)\n",
    "    error = mse(pred,y_test)\n",
    "    scores_3.append(error)\n",
    "    \n",
    "# Splits data set into train and test leaving one out and repeats n times\n",
    "for train_index, test_index in loo.split(dataset_3):\n",
    "    calc_mse_3(train_index, test_index)\n",
    "\n",
    "scores_3 = np.asarray(scores_3)\n",
    "mean_3 = np.mean(scores_3)\n",
    "\n",
    "print(\"Mean of the scores with 3 degrees of freedom is {}\".format(mean_3))"
   ]
  },
  {
   "cell_type": "markdown",
   "metadata": {},
   "source": [
    "### Part iv."
   ]
  },
  {
   "cell_type": "code",
   "execution_count": 11,
   "metadata": {},
   "outputs": [],
   "source": [
    "# Creating dictionary to generate data fram\n",
    "dict_data = {'x':x_copy,\n",
    "            'x^2':x_2,\n",
    "             'x^3':x_3,\n",
    "             'y':y_copy}\n",
    "dataset_4 = pd.DataFrame(dict_data)"
   ]
  },
  {
   "cell_type": "code",
   "execution_count": 12,
   "metadata": {},
   "outputs": [
    {
     "name": "stdout",
     "output_type": "stream",
     "text": [
      "Mean of the scores with 4 degrees of freedom is 0.9257108380528001\n"
     ]
    }
   ],
   "source": [
    "## this function takes in test and train indexes,splits data into train and test,\n",
    "## and calculates mean squared error and appends it to score\n",
    "scores_4 = []\n",
    "def calc_mse_4(train_index, test_index):\n",
    "    train = dataset_4.loc[train_index]\n",
    "    test = dataset_4.loc[test_index]\n",
    "    X_train = train[['x','x^2','x^3']]\n",
    "    y_train = train['y']\n",
    "    X_test = test[['x','x^2','x^3']]\n",
    "    y_test = test['y']\n",
    "    clf.fit(X_train, y_train)\n",
    "    pred = clf.predict(X_test)\n",
    "    error = mse(pred,y_test)\n",
    "    scores_4.append(error)\n",
    "    \n",
    "## splits data set into train and test leaving one out and repeats n times\n",
    "for train_index, test_index in loo.split(dataset_4):\n",
    "    calc_mse_4(train_index, test_index)\n",
    "\n",
    "scores_4 = np.asarray(scores_4)\n",
    "mean_4 = np.mean(scores_4)\n",
    "\n",
    "print(\"Mean of the scores with 4 degrees of freedom is {}\".format(mean_4))"
   ]
  },
  {
   "cell_type": "markdown",
   "metadata": {},
   "source": [
    "## Part D\n",
    "Repeat (c) using another random seed, and report your results.\n",
    "Are your results the same as what you got in (c)? Why?"
   ]
  },
  {
   "cell_type": "code",
   "execution_count": 13,
   "metadata": {},
   "outputs": [],
   "source": [
    "# Generating a new distribution with a random seed\n",
    "# _n after a variable name refers to coming from this new distribution\n",
    "\n",
    "random.seed(np.random.randint(10,100))\n",
    "x_n = np.random.randn(100)\n",
    "y_n = (x_n-(2*(x_n*x_n)) + np.random.randn(100))"
   ]
  },
  {
   "cell_type": "code",
   "execution_count": 14,
   "metadata": {},
   "outputs": [],
   "source": [
    "# Creating copies of the original data for local use\n",
    "x_copy_n = x_n\n",
    "y_copy_n = y_n\n",
    "\n",
    "# Creating arrays with power 2,3,4 of x to use in models 2,3,4\n",
    "x_2_n = np.power(x_copy_n, 2)\n",
    "x_3_n = np.power(x_copy_n, 3)\n",
    "x_4_n = np.power(x_copy_n, 4)\n",
    "\n",
    "# using same loo and linearregression model obtained in part c"
   ]
  },
  {
   "cell_type": "markdown",
   "metadata": {},
   "source": [
    "### Part i."
   ]
  },
  {
   "cell_type": "code",
   "execution_count": 15,
   "metadata": {},
   "outputs": [],
   "source": [
    "# Generating a data frame from generated data\n",
    "# creating dictionary to generate data frame\n",
    "dict_data = {'x':x_copy_n,\n",
    "       'y':y_copy_n}\n",
    "dataset_1_n = pd.DataFrame(dict_data)"
   ]
  },
  {
   "cell_type": "code",
   "execution_count": 16,
   "metadata": {},
   "outputs": [
    {
     "name": "stdout",
     "output_type": "stream",
     "text": [
      "Mean of the scores with 1 degrees of freedom is 9.88398544036999\n"
     ]
    }
   ],
   "source": [
    "## This function takes in test and train indexes,splits data into train and test,\n",
    "## and calculates mean squared error and appends it to score\n",
    "scores_1_n = []\n",
    "def calc_mse_1_n(train_index, test_index):\n",
    "    train = dataset_1_n.loc[train_index]\n",
    "    test = dataset_1_n.loc[test_index]\n",
    "    X_train = train['x'].values.reshape(-1,1)\n",
    "    y_train = train['y']\n",
    "    X_test = test['x'].values.reshape(-1,1)\n",
    "    y_test = test['y']\n",
    "    clf.fit(X_train, y_train)\n",
    "    pred = clf.predict(X_test)\n",
    "    error = mse(pred,y_test)\n",
    "    scores_1_n.append(error)\n",
    "    \n",
    "## splits data set into train and test leaving one out and repeats n times\n",
    "for train_index, test_index in loo.split(dataset_1_n):\n",
    "    calc_mse_1_n(train_index, test_index)\n",
    "\n",
    "scores_1_n = np.asarray(scores_1_n)\n",
    "mean_1_n = np.mean(scores_1_n)\n",
    "\n",
    "print(\"Mean of the scores with 1 degrees of freedom is {}\".format(mean_1_n))"
   ]
  },
  {
   "cell_type": "markdown",
   "metadata": {},
   "source": [
    "### Part ii."
   ]
  },
  {
   "cell_type": "code",
   "execution_count": 17,
   "metadata": {},
   "outputs": [],
   "source": [
    "# Creating dictionary to generate data frame\n",
    "dict_data = {'x':x_copy_n,\n",
    "            'x^2':x_2_n,\n",
    "             'y':y_copy_n}\n",
    "dataset_2_n = pd.DataFrame(dict_data)"
   ]
  },
  {
   "cell_type": "code",
   "execution_count": 18,
   "metadata": {},
   "outputs": [
    {
     "name": "stdout",
     "output_type": "stream",
     "text": [
      "Mean of the scores with 2 degrees of freedom is 0.8486275772249254\n"
     ]
    }
   ],
   "source": [
    "# This function takes in test and train indexes,splits data into train and test,\n",
    "# and calculates mean squared error and appends it to score\n",
    "scores_2_n = []\n",
    "def calc_mse_2_n(train_index, test_index):\n",
    "    train = dataset_2_n.loc[train_index]\n",
    "    test = dataset_2_n.loc[test_index]\n",
    "    X_train = train[['x','x^2']]\n",
    "    y_train = train['y']\n",
    "    X_test = test[['x','x^2']]\n",
    "    y_test = test['y']\n",
    "    clf.fit(X_train, y_train)\n",
    "    pred = clf.predict(X_test)\n",
    "    error = mse(pred,y_test)\n",
    "    scores_2_n.append(error)\n",
    "    \n",
    "## Splits data set into train and test leaving one out and repeats n times\n",
    "for train_index, test_index in loo.split(dataset_2_n):\n",
    "    calc_mse_2_n(train_index, test_index)\n",
    "\n",
    "scores_2_n = np.asarray(scores_2_n)\n",
    "mean_2_n = np.mean(scores_2_n)\n",
    "\n",
    "print(\"Mean of the scores with 2 degrees of freedom is {}\".format(mean_2_n))"
   ]
  },
  {
   "cell_type": "markdown",
   "metadata": {},
   "source": [
    "### Part iii."
   ]
  },
  {
   "cell_type": "code",
   "execution_count": 19,
   "metadata": {},
   "outputs": [],
   "source": [
    "# Creating dictionary to generate data fram\n",
    "dict_data = {'x':x_copy_n,\n",
    "            'x^2':x_2_n,\n",
    "             'x^3':x_3_n,\n",
    "             'y':y_copy_n}\n",
    "dataset_3_n = pd.DataFrame(dict_data)"
   ]
  },
  {
   "cell_type": "code",
   "execution_count": 20,
   "metadata": {},
   "outputs": [
    {
     "name": "stdout",
     "output_type": "stream",
     "text": [
      "Mean of the scores with 3 degrees of freedom is 0.8679832173208457\n"
     ]
    }
   ],
   "source": [
    "# This function takes in test and train indexes,splits data into train and test,\n",
    "# and calculates mean squared error and appends it to score\n",
    "scores_3_n = []\n",
    "def calc_mse_3_n(train_index, test_index):\n",
    "    train = dataset_3_n.loc[train_index]\n",
    "    test = dataset_3_n.loc[test_index]\n",
    "    X_train = train[['x','x^2','x^3']]\n",
    "    y_train = train['y']\n",
    "    X_test = test[['x','x^2','x^3']]\n",
    "    y_test = test['y']\n",
    "    clf.fit(X_train, y_train)\n",
    "    pred = clf.predict(X_test)\n",
    "    error = mse(pred,y_test)\n",
    "    scores_3_n.append(error)\n",
    "    \n",
    "# Splits data set into train and test leaving one out and repeats n times\n",
    "for train_index, test_index in loo.split(dataset_3_n):\n",
    "    calc_mse_3_n(train_index, test_index)\n",
    "\n",
    "scores_3_n = np.asarray(scores_3_n)\n",
    "mean_3_n = np.mean(scores_3_n)\n",
    "\n",
    "print(\"Mean of the scores with 3 degrees of freedom is {}\".format(mean_3_n))"
   ]
  },
  {
   "cell_type": "markdown",
   "metadata": {},
   "source": [
    "### Part iv."
   ]
  },
  {
   "cell_type": "code",
   "execution_count": 21,
   "metadata": {},
   "outputs": [],
   "source": [
    "# Creating dictionary to generate data fram\n",
    "dict_data = {'x':x_copy_n,\n",
    "            'x^2':x_2_n,\n",
    "             'x^3':x_3_n,\n",
    "             'y':y_copy_n}\n",
    "dataset_4_n = pd.DataFrame(dict_data)"
   ]
  },
  {
   "cell_type": "code",
   "execution_count": 22,
   "metadata": {},
   "outputs": [
    {
     "name": "stdout",
     "output_type": "stream",
     "text": [
      "Mean of the scores with 4 degrees of freedom is 0.8679832173208457\n"
     ]
    }
   ],
   "source": [
    "# This function takes in test and train indexes,splits data into train and test,\n",
    "# and calculates mean squared error and appends it to score\n",
    "scores_4_n = []\n",
    "def calc_mse_4_n(train_index, test_index):\n",
    "    train = dataset_4_n.loc[train_index]\n",
    "    test = dataset_4_n.loc[test_index]\n",
    "    X_train = train[['x','x^2','x^3']]\n",
    "    y_train = train['y']\n",
    "    X_test = test[['x','x^2','x^3']]\n",
    "    y_test = test['y']\n",
    "    clf.fit(X_train, y_train)\n",
    "    pred = clf.predict(X_test)\n",
    "    error = mse(pred,y_test)\n",
    "    scores_4_n.append(error)\n",
    "    \n",
    "# Splits data set into train and test leaving one out and repeats n times\n",
    "for train_index, test_index in loo.split(dataset_4_n):\n",
    "    calc_mse_4_n(train_index, test_index)\n",
    "\n",
    "scores_4_n = np.asarray(scores_4_n)\n",
    "mean_4_n = np.mean(scores_4_n)\n",
    "\n",
    "print(\"Mean of the scores with 4 degrees of freedom is {}\".format(mean_4_n))"
   ]
  },
  {
   "cell_type": "markdown",
   "metadata": {},
   "source": [
    "## Part E\n",
    "Which of the models in (c) had the smallest LOOCV error? Is\n",
    "this what you expected? Explain your answer."
   ]
  },
  {
   "cell_type": "markdown",
   "metadata": {},
   "source": [
    "The 2nd model has the smallest mean squared error. This is expected because our data can be modelled best in 2 variables as we can see from the scatter plot. 3 and 4 degrees of freedom result in overfitting which increases our mean error a little."
   ]
  },
  {
   "cell_type": "markdown",
   "metadata": {},
   "source": [
    "## Part F\n",
    "Comment on the statistical significance of the coefficient estimates\n",
    "that results from fitting each of the models in (c) using\n",
    "least squares. Do these results agree with the conclusions drawn\n",
    "based on the cross-validation results?"
   ]
  },
  {
   "cell_type": "code",
   "execution_count": null,
   "metadata": {},
   "outputs": [],
   "source": []
  }
 ],
 "metadata": {
  "kernelspec": {
   "display_name": "Python 3",
   "language": "python",
   "name": "python3"
  },
  "language_info": {
   "codemirror_mode": {
    "name": "ipython",
    "version": 3
   },
   "file_extension": ".py",
   "mimetype": "text/x-python",
   "name": "python",
   "nbconvert_exporter": "python",
   "pygments_lexer": "ipython3",
   "version": "3.5.2"
  }
 },
 "nbformat": 4,
 "nbformat_minor": 2
}
