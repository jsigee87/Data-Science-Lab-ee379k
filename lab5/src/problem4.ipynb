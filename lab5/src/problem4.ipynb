{
 "cells": [
  {
   "cell_type": "markdown",
   "metadata": {},
   "source": [
    "# Problem 4\n",
    "## Problem 8 from Chapter 5\n",
    "\n",
    "We will now perform cross-validation on a simulated data set."
   ]
  },
  {
   "cell_type": "code",
   "execution_count": 27,
   "metadata": {},
   "outputs": [],
   "source": [
    "import random\n",
    "import numpy as np\n",
    "import pandas as pd\n",
    "import matplotlib.pyplot as plt\n",
    "from sklearn.model_selection import LeaveOneOut\n",
    "from sklearn.linear_model import LinearRegression\n",
    "from sklearn.metrics import mean_squared_error as mse\n",
    "import statsmodels.api as sm"
   ]
  },
  {
   "cell_type": "markdown",
   "metadata": {},
   "source": [
    "## Part A\n",
    "Generate a simulated data set as follows:\n",
    "```\n",
    "set.seed(1)\n",
    "x=rnorm(100)\n",
    "y=x-2*x^2+rnorm (100)\n",
    "```\n",
    "In this data set, what is n and what is p? Write out the model\n",
    "used to generate the data in equation form."
   ]
  },
  {
   "cell_type": "code",
   "execution_count": 28,
   "metadata": {},
   "outputs": [],
   "source": [
    "random.seed(1)\n",
    "x = np.random.randn(100)\n",
    "y = (x-(2*(x*x)) + np.random.randn(100))\n",
    "B0 = np.ones(100)"
   ]
  },
  {
   "cell_type": "markdown",
   "metadata": {},
   "source": [
    "N is number of samples and in this case it is 100. P is number of predictors and equal to 1 in this case"
   ]
  },
  {
   "cell_type": "code",
   "execution_count": 29,
   "metadata": {},
   "outputs": [
    {
     "data": {
      "image/png": "[encoded data removed]",
      "text/plain": [
       "<matplotlib.figure.Figure at 0x7f6bac2dec88>"
      ]
     },
     "metadata": {},
     "output_type": "display_data"
    }
   ],
   "source": [
    "## creating a scatter plto\n",
    "fig = plt.figure(figsize=(8,6))\n",
    "ax = fig.add_subplot(111)\n",
    "_ = ax.scatter(x, y, alpha=0.7, s=50, color = ['red','blue'], marker= '.')\n",
    "_ = plt.title('Scatter of 2 Sample Distributions', FontSize=12)\n",
    "#_ = plt.legend(loc=, prop={'size' : 12})\n",
    "_ = plt.show()"
   ]
  },
  {
   "cell_type": "markdown",
   "metadata": {},
   "source": [
    "## Part B\n",
    "Create a scatterplot of X against Y . Comment on what you find."
   ]
  },
  {
   "cell_type": "markdown",
   "metadata": {},
   "source": [
    "X and Y are highly correlated. y is simply shift of x with added gaussian noise"
   ]
  },
  {
   "cell_type": "markdown",
   "metadata": {},
   "source": [
    "## Part C\n",
    "Set a random seed, and then compute the LOOCV errors that\n",
    "result from fitting the following four models using least squares:<br>\n",
    "$i. Y = \\beta_0 + \\beta_1 X $<br>\n",
    "$ii. Y = \\beta_0 + \\beta_1 X + \\beta_2 X^2$<br>\n",
    "$iii. Y = \\beta_0 + \\beta_1 X + \\beta_2 X^2 + \\beta_3 X^3$<br>\n",
    "$iv. Y = \\beta_0 + \\beta_1 X + \\beta_2 X^2 + \\beta_3 X^3 + \\beta_4 X^4$<br>\n",
    "Note you may find it helpful to use the data.frame() function\n",
    "to create a single data set containing both X and Y ."
   ]
  },
  {
   "cell_type": "code",
   "execution_count": 30,
   "metadata": {},
   "outputs": [],
   "source": [
    "# Getting leave one out and linear regression model\n",
    "loo = LeaveOneOut()\n",
    "clf = LinearRegression()\n",
    "\n",
    "# Creating copies of the original data for local use\n",
    "x_copy =x\n",
    "y_copy =y\n",
    "\n",
    "# Creating arrays with power 2,3,4 of x to use in models 2,3,4\n",
    "x_2 = np.power(x_copy, 2)\n",
    "x_3 = np.power(x_copy, 3)\n",
    "x_4 = np.power(x_copy, 4)"
   ]
  },
  {
   "cell_type": "markdown",
   "metadata": {},
   "source": [
    "### Part i."
   ]
  },
  {
   "cell_type": "code",
   "execution_count": 31,
   "metadata": {},
   "outputs": [],
   "source": [
    "# Benerating a data frame from generated data\n",
    "# creating dictionary to generate data frame\n",
    "# B0 is simply a column of ones\n",
    "dict_data = {'B0':B0,\n",
    "        'x':x_copy,     \n",
    "       'y':y_copy}\n",
    "dataset_1 = pd.DataFrame(dict_data)"
   ]
  },
  {
   "cell_type": "code",
   "execution_count": 32,
   "metadata": {},
   "outputs": [
    {
     "name": "stdout",
     "output_type": "stream",
     "text": [
      "Mean of the scores with 1 degrees of freedom is 11.14681456827608\n"
     ]
    }
   ],
   "source": [
    "# This function takes in test and train indexes,splits data into train and test,\n",
    "# and calculates mean squared error and appends it to score\n",
    "scores_1 = []\n",
    "def calc_mse_1(train_index, test_index):\n",
    "    train = dataset_1.loc[train_index]\n",
    "    test = dataset_1.loc[test_index]\n",
    "    X_train = train[['B0','x']]#.values.reshape(-1,1)\n",
    "    y_train = train['y']\n",
    "    X_test = test[['B0','x']]#.values.reshape(-1,1)\n",
    "    y_test = test['y']\n",
    "    clf.fit(X_train, y_train)\n",
    "    pred = clf.predict(X_test)\n",
    "    error = mse(pred,y_test)\n",
    "    scores_1.append(error)\n",
    "    \n",
    "# Splits data set into train and test leaving one out and repeats n times\n",
    "for train_index, test_index in loo.split(dataset_1):\n",
    "    calc_mse_1(train_index, test_index)\n",
    "\n",
    "scores_1 = np.asarray(scores_1)\n",
    "mean_1 = np.mean(scores_1)\n",
    "\n",
    "print(\"Mean of the scores with 1 degrees of freedom is {}\".format(mean_1))"
   ]
  },
  {
   "cell_type": "code",
   "execution_count": 33,
   "metadata": {},
   "outputs": [
    {
     "name": "stdout",
     "output_type": "stream",
     "text": [
      "                            OLS Regression Results                            \n",
      "==============================================================================\n",
      "Dep. Variable:                      y   R-squared:                       0.205\n",
      "Model:                            OLS   Adj. R-squared:                  0.197\n",
      "Method:                 Least Squares   F-statistic:                     25.29\n",
      "Date:                Mon, 26 Feb 2018   Prob (F-statistic):           2.23e-06\n",
      "Time:                        14:02:12   Log-Likelihood:                -255.99\n",
      "No. Observations:                 100   AIC:                             516.0\n",
      "Df Residuals:                      98   BIC:                             521.2\n",
      "Df Model:                           1                                         \n",
      "Covariance Type:            nonrobust                                         \n",
      "==============================================================================\n",
      "                 coef    std err          t      P>|t|      [0.025      0.975]\n",
      "------------------------------------------------------------------------------\n",
      "B0            -2.0823      0.317     -6.566      0.000      -2.712      -1.453\n",
      "x              1.5805      0.314      5.029      0.000       0.957       2.204\n",
      "==============================================================================\n",
      "Omnibus:                       68.899   Durbin-Watson:                   2.095\n",
      "Prob(Omnibus):                  0.000   Jarque-Bera (JB):              359.135\n",
      "Skew:                          -2.287   Prob(JB):                     1.03e-78\n",
      "Kurtosis:                      11.079   Cond. No.                         1.08\n",
      "==============================================================================\n",
      "\n",
      "Warnings:\n",
      "[1] Standard Errors assume that the covariance matrix of the errors is correctly specified.\n"
     ]
    }
   ],
   "source": [
    "## split dataset into y and X and compute statistical significance of the coefs using statsmodel\n",
    "\n",
    "X_1 = dataset_1[['B0','x']]\n",
    "y_1 = dataset_1['y']\n",
    "\n",
    "\n",
    "model_1 = sm.OLS(y_1, X_1)\n",
    "results_1 = model_1.fit()\n",
    "print(results_1.summary())\n",
    "\n"
   ]
  },
  {
   "cell_type": "markdown",
   "metadata": {},
   "source": [
    "### Part ii."
   ]
  },
  {
   "cell_type": "code",
   "execution_count": 34,
   "metadata": {},
   "outputs": [],
   "source": [
    "# Creating dictionary to generate data frame\n",
    "# B0 is simply a column of ones\n",
    "dict_data = {'B0':B0,\n",
    "             'x':x_copy,\n",
    "            'x^2':x_2,\n",
    "             'y':y_copy}\n",
    "dataset_2 = pd.DataFrame(dict_data)"
   ]
  },
  {
   "cell_type": "code",
   "execution_count": 35,
   "metadata": {},
   "outputs": [
    {
     "name": "stdout",
     "output_type": "stream",
     "text": [
      "Mean of the scores with 2 degrees of freedom is 1.0678843695488707\n"
     ]
    }
   ],
   "source": [
    "# This function takes in test and train indexes,splits data into train and test,\n",
    "# and calculates mean squared error and appends it to score\n",
    "scores_2 = []\n",
    "def calc_mse_2(train_index, test_index):\n",
    "    train = dataset_2.loc[train_index]\n",
    "    test = dataset_2.loc[test_index]\n",
    "    X_train = train[['B0','x','x^2']]\n",
    "    y_train = train['y']\n",
    "    X_test = test[['B0','x','x^2']]\n",
    "    y_test = test['y']\n",
    "    clf.fit(X_train, y_train)\n",
    "    pred = clf.predict(X_test)\n",
    "    error = mse(pred,y_test)\n",
    "    scores_2.append(error)\n",
    "    \n",
    "# Splits data set into train and test leaving one out and repeats n times\n",
    "for train_index, test_index in loo.split(dataset_2):\n",
    "    calc_mse_2(train_index, test_index)\n",
    "\n",
    "scores_2 = np.asarray(scores_2)\n",
    "mean_2 = np.mean(scores_2)\n",
    "\n",
    "print(\"Mean of the scores with 2 degrees of freedom is {}\".format(mean_2))"
   ]
  },
  {
   "cell_type": "code",
   "execution_count": 36,
   "metadata": {},
   "outputs": [
    {
     "name": "stdout",
     "output_type": "stream",
     "text": [
      "                            OLS Regression Results                            \n",
      "==============================================================================\n",
      "Dep. Variable:                      y   R-squared:                       0.921\n",
      "Model:                            OLS   Adj. R-squared:                  0.919\n",
      "Method:                 Least Squares   F-statistic:                     564.8\n",
      "Date:                Mon, 26 Feb 2018   Prob (F-statistic):           3.60e-54\n",
      "Time:                        14:02:13   Log-Likelihood:                -140.61\n",
      "No. Observations:                 100   AIC:                             287.2\n",
      "Df Residuals:                      97   BIC:                             295.0\n",
      "Df Model:                           2                                         \n",
      "Covariance Type:            nonrobust                                         \n",
      "==============================================================================\n",
      "                 coef    std err          t      P>|t|      [0.025      0.975]\n",
      "------------------------------------------------------------------------------\n",
      "B0             0.0424      0.123      0.344      0.732      -0.203       0.288\n",
      "x              1.0181      0.101     10.037      0.000       0.817       1.219\n",
      "x^2           -2.0428      0.069    -29.631      0.000      -2.180      -1.906\n",
      "==============================================================================\n",
      "Omnibus:                        1.154   Durbin-Watson:                   2.122\n",
      "Prob(Omnibus):                  0.561   Jarque-Bera (JB):                1.115\n",
      "Skew:                          -0.250   Prob(JB):                        0.573\n",
      "Kurtosis:                       2.870   Cond. No.                         2.55\n",
      "==============================================================================\n",
      "\n",
      "Warnings:\n",
      "[1] Standard Errors assume that the covariance matrix of the errors is correctly specified.\n"
     ]
    }
   ],
   "source": [
    "## split dataset into y and X and compute statistical significance of the coefs using statsmodel\n",
    "X_2 = dataset_2[['B0','x','x^2']]\n",
    "y_2 = dataset_2['y']\n",
    "\n",
    "\n",
    "model_2 = sm.OLS(y_2, X_2)\n",
    "results_2 = model_2.fit()\n",
    "print(results_2.summary())"
   ]
  },
  {
   "cell_type": "markdown",
   "metadata": {},
   "source": [
    "### Part iii."
   ]
  },
  {
   "cell_type": "code",
   "execution_count": 37,
   "metadata": {},
   "outputs": [],
   "source": [
    "# Creating dictionary to generate data fram\n",
    "# B0 is simply a column of ones\n",
    "dict_data = {'B0':B0,\n",
    "             'x':x_copy,\n",
    "             'x^2':x_2,\n",
    "             'x^3':x_3,\n",
    "             'y':y_copy}\n",
    "dataset_3 = pd.DataFrame(dict_data)"
   ]
  },
  {
   "cell_type": "code",
   "execution_count": 38,
   "metadata": {},
   "outputs": [
    {
     "name": "stdout",
     "output_type": "stream",
     "text": [
      "Mean of the scores with 3 degrees of freedom is 0.9965573529301355\n"
     ]
    }
   ],
   "source": [
    "# This function takes in test and train indexes,splits data into train and test,\n",
    "# and calculates mean squared error and appends it to score\n",
    "scores_3 = []\n",
    "def calc_mse_3(train_index, test_index):\n",
    "    train = dataset_3.loc[train_index]\n",
    "    test = dataset_3.loc[test_index]\n",
    "    X_train = train[['B0','x','x^2','x^3']]\n",
    "    y_train = train['y']\n",
    "    X_test = test[['B0','x','x^2','x^3']]\n",
    "    y_test = test['y']\n",
    "    clf.fit(X_train, y_train)\n",
    "    pred = clf.predict(X_test)\n",
    "    error = mse(pred,y_test)\n",
    "    scores_3.append(error)\n",
    "    \n",
    "# Splits data set into train and test leaving one out and repeats n times\n",
    "for train_index, test_index in loo.split(dataset_3):\n",
    "    calc_mse_3(train_index, test_index)\n",
    "\n",
    "scores_3 = np.asarray(scores_3)\n",
    "mean_3 = np.mean(scores_3)\n",
    "\n",
    "print(\"Mean of the scores with 3 degrees of freedom is {}\".format(mean_3))"
   ]
  },
  {
   "cell_type": "code",
   "execution_count": 39,
   "metadata": {},
   "outputs": [
    {
     "name": "stdout",
     "output_type": "stream",
     "text": [
      "                            OLS Regression Results                            \n",
      "==============================================================================\n",
      "Dep. Variable:                      y   R-squared:                       0.925\n",
      "Model:                            OLS   Adj. R-squared:                  0.922\n",
      "Method:                 Least Squares   F-statistic:                     392.9\n",
      "Date:                Mon, 26 Feb 2018   Prob (F-statistic):           9.35e-54\n",
      "Time:                        14:02:13   Log-Likelihood:                -138.17\n",
      "No. Observations:                 100   AIC:                             284.3\n",
      "Df Residuals:                      96   BIC:                             294.8\n",
      "Df Model:                           3                                         \n",
      "Covariance Type:            nonrobust                                         \n",
      "==============================================================================\n",
      "                 coef    std err          t      P>|t|      [0.025      0.975]\n",
      "------------------------------------------------------------------------------\n",
      "B0             0.1219      0.126      0.964      0.338      -0.129       0.373\n",
      "x              1.2780      0.155      8.251      0.000       0.971       1.585\n",
      "x^2           -2.1587      0.086    -25.135      0.000      -2.329      -1.988\n",
      "x^3           -0.0911      0.042     -2.190      0.031      -0.174      -0.009\n",
      "==============================================================================\n",
      "Omnibus:                        0.817   Durbin-Watson:                   2.182\n",
      "Prob(Omnibus):                  0.665   Jarque-Bera (JB):                0.731\n",
      "Skew:                          -0.206   Prob(JB):                        0.694\n",
      "Kurtosis:                       2.929   Cond. No.                         7.79\n",
      "==============================================================================\n",
      "\n",
      "Warnings:\n",
      "[1] Standard Errors assume that the covariance matrix of the errors is correctly specified.\n"
     ]
    }
   ],
   "source": [
    "## split dataset into y and X and compute statistical significance of the coefs using statsmodel\n",
    "X_3 = dataset_3[['B0','x','x^2','x^3']]\n",
    "y_3 = dataset_3['y']\n",
    "\n",
    "\n",
    "model_3 = sm.OLS(y_3, X_3)\n",
    "results_3 = model_3.fit()\n",
    "print(results_3.summary())"
   ]
  },
  {
   "cell_type": "markdown",
   "metadata": {},
   "source": [
    "### Part iv."
   ]
  },
  {
   "cell_type": "code",
   "execution_count": 40,
   "metadata": {},
   "outputs": [],
   "source": [
    "# Creating dictionary to generate data fram\n",
    "dict_data = {'B0':B0,\n",
    "             'x':x_copy,\n",
    "             'x^2':x_2,\n",
    "             'x^3':x_3,\n",
    "             'x^4':x_4,\n",
    "             'y':y_copy}\n",
    "dataset_4 = pd.DataFrame(dict_data)"
   ]
  },
  {
   "cell_type": "code",
   "execution_count": 41,
   "metadata": {},
   "outputs": [
    {
     "name": "stdout",
     "output_type": "stream",
     "text": [
      "Mean of the scores with 4 degrees of freedom is 1.1941575019349997\n"
     ]
    }
   ],
   "source": [
    "## this function takes in test and train indexes,splits data into train and test,\n",
    "## and calculates mean squared error and appends it to score\n",
    "scores_4 = []\n",
    "def calc_mse_4(train_index, test_index):\n",
    "    train = dataset_4.loc[train_index]\n",
    "    test = dataset_4.loc[test_index]\n",
    "    X_train = train[['B0','x','x^2','x^3','x^4']]\n",
    "    y_train = train['y']\n",
    "    X_test = test[['B0','x','x^2','x^3','x^4']]\n",
    "    y_test = test['y']\n",
    "    clf.fit(X_train, y_train)\n",
    "    pred = clf.predict(X_test)\n",
    "    error = mse(pred,y_test)\n",
    "    scores_4.append(error)\n",
    "    \n",
    "## splits data set into train and test leaving one out and repeats n times\n",
    "for train_index, test_index in loo.split(dataset_4):\n",
    "    calc_mse_4(train_index, test_index)\n",
    "\n",
    "scores_4 = np.asarray(scores_4)\n",
    "mean_4 = np.mean(scores_4)\n",
    "\n",
    "print(\"Mean of the scores with 4 degrees of freedom is {}\".format(mean_4))"
   ]
  },
  {
   "cell_type": "code",
   "execution_count": 42,
   "metadata": {},
   "outputs": [
    {
     "name": "stdout",
     "output_type": "stream",
     "text": [
      "                            OLS Regression Results                            \n",
      "==============================================================================\n",
      "Dep. Variable:                      y   R-squared:                       0.925\n",
      "Model:                            OLS   Adj. R-squared:                  0.922\n",
      "Method:                 Least Squares   F-statistic:                     291.7\n",
      "Date:                Mon, 26 Feb 2018   Prob (F-statistic):           2.00e-52\n",
      "Time:                        14:02:13   Log-Likelihood:                -138.16\n",
      "No. Observations:                 100   AIC:                             286.3\n",
      "Df Residuals:                      95   BIC:                             299.3\n",
      "Df Model:                           4                                         \n",
      "Covariance Type:            nonrobust                                         \n",
      "==============================================================================\n",
      "                 coef    std err          t      P>|t|      [0.025      0.975]\n",
      "------------------------------------------------------------------------------\n",
      "B0             0.1321      0.143      0.922      0.359      -0.152       0.416\n",
      "x              1.2595      0.196      6.418      0.000       0.870       1.649\n",
      "x^2           -2.1809      0.167    -13.039      0.000      -2.513      -1.849\n",
      "x^3           -0.0811      0.077     -1.056      0.293      -0.234       0.071\n",
      "x^4            0.0049      0.032      0.155      0.877      -0.058       0.068\n",
      "==============================================================================\n",
      "Omnibus:                        0.840   Durbin-Watson:                   2.179\n",
      "Prob(Omnibus):                  0.657   Jarque-Bera (JB):                0.744\n",
      "Skew:                          -0.209   Prob(JB):                        0.689\n",
      "Kurtosis:                       2.936   Cond. No.                         32.6\n",
      "==============================================================================\n",
      "\n",
      "Warnings:\n",
      "[1] Standard Errors assume that the covariance matrix of the errors is correctly specified.\n"
     ]
    }
   ],
   "source": [
    "## split dataset into y and X and compute statistical significance of the coefs using statsmodel\n",
    "X_4 = dataset_4[['B0','x','x^2','x^3','x^4']]\n",
    "y_4 = dataset_4['y']\n",
    "\n",
    "\n",
    "model_4 = sm.OLS(y_4, X_4)\n",
    "results_4 = model_4.fit()\n",
    "print(results_4.summary())"
   ]
  },
  {
   "cell_type": "markdown",
   "metadata": {},
   "source": [
    "## Part D\n",
    "Repeat (c) using another random seed, and report your results.\n",
    "Are your results the same as what you got in (c)? Why?"
   ]
  },
  {
   "cell_type": "code",
   "execution_count": 43,
   "metadata": {},
   "outputs": [],
   "source": [
    "# Generating a new distribution with a random seed\n",
    "# _n after a variable name refers to coming from this new distribution\n",
    "\n",
    "random.seed(np.random.randint(10,100))\n",
    "x_n = np.random.randn(100)\n",
    "y_n = (x_n-(2*(x_n*x_n)) + np.random.randn(100))"
   ]
  },
  {
   "cell_type": "code",
   "execution_count": 44,
   "metadata": {},
   "outputs": [],
   "source": [
    "# Creating copies of the original data for local use\n",
    "x_copy_n = x_n\n",
    "y_copy_n = y_n\n",
    "\n",
    "# Creating arrays with power 2,3,4 of x to use in models 2,3,4\n",
    "x_2_n = np.power(x_copy_n, 2)\n",
    "x_3_n = np.power(x_copy_n, 3)\n",
    "x_4_n = np.power(x_copy_n, 4)\n",
    "\n",
    "# using same loo and linearregression model obtained in part c"
   ]
  },
  {
   "cell_type": "markdown",
   "metadata": {},
   "source": [
    "### Part i."
   ]
  },
  {
   "cell_type": "code",
   "execution_count": 45,
   "metadata": {},
   "outputs": [],
   "source": [
    "# Generating a data frame from generated data\n",
    "# creating dictionary to generate data frame\n",
    "dict_data = {'B0':B0,\n",
    "             'x':x_copy_n,\n",
    "            'y':y_copy_n}\n",
    "dataset_1_n = pd.DataFrame(dict_data)"
   ]
  },
  {
   "cell_type": "code",
   "execution_count": 46,
   "metadata": {},
   "outputs": [
    {
     "name": "stdout",
     "output_type": "stream",
     "text": [
      "Mean of the scores with 1 degrees of freedom is 16.41644155680011\n"
     ]
    }
   ],
   "source": [
    "## This function takes in test and train indexes,splits data into train and test,\n",
    "## and calculates mean squared error and appends it to score\n",
    "scores_1_n = []\n",
    "def calc_mse_1_n(train_index, test_index):\n",
    "    train = dataset_1_n.loc[train_index]\n",
    "    test = dataset_1_n.loc[test_index]\n",
    "    X_train = train[['B0','x']]\n",
    "    y_train = train['y']\n",
    "    X_test = test[['B0','x']]\n",
    "    y_test = test['y']\n",
    "    clf.fit(X_train, y_train)\n",
    "    pred = clf.predict(X_test)\n",
    "    error = mse(pred,y_test)\n",
    "    scores_1_n.append(error)\n",
    "    \n",
    "## splits data set into train and test leaving one out and repeats n times\n",
    "for train_index, test_index in loo.split(dataset_1_n):\n",
    "    calc_mse_1_n(train_index, test_index)\n",
    "\n",
    "scores_1_n = np.asarray(scores_1_n)\n",
    "mean_1_n = np.mean(scores_1_n)\n",
    "\n",
    "print(\"Mean of the scores with 1 degrees of freedom is {}\".format(mean_1_n))"
   ]
  },
  {
   "cell_type": "markdown",
   "metadata": {},
   "source": [
    "### Part ii."
   ]
  },
  {
   "cell_type": "code",
   "execution_count": 47,
   "metadata": {},
   "outputs": [],
   "source": [
    "# Creating dictionary to generate data frame\n",
    "dict_data = {'B0':B0,\n",
    "             'x':x_copy_n,\n",
    "             'x^2':x_2_n,\n",
    "             'y':y_copy_n}\n",
    "dataset_2_n = pd.DataFrame(dict_data)"
   ]
  },
  {
   "cell_type": "code",
   "execution_count": 48,
   "metadata": {},
   "outputs": [
    {
     "name": "stdout",
     "output_type": "stream",
     "text": [
      "Mean of the scores with 2 degrees of freedom is 0.7726639051864902\n"
     ]
    }
   ],
   "source": [
    "# This function takes in test and train indexes,splits data into train and test,\n",
    "# and calculates mean squared error and appends it to score\n",
    "scores_2_n = []\n",
    "def calc_mse_2_n(train_index, test_index):\n",
    "    train = dataset_2_n.loc[train_index]\n",
    "    test = dataset_2_n.loc[test_index]\n",
    "    X_train = train[['B0','x','x^2']]\n",
    "    y_train = train['y']\n",
    "    X_test = test[['B0','x','x^2']]\n",
    "    y_test = test['y']\n",
    "    clf.fit(X_train, y_train)\n",
    "    pred = clf.predict(X_test)\n",
    "    error = mse(pred,y_test)\n",
    "    scores_2_n.append(error)\n",
    "    \n",
    "## Splits data set into train and test leaving one out and repeats n times\n",
    "for train_index, test_index in loo.split(dataset_2_n):\n",
    "    calc_mse_2_n(train_index, test_index)\n",
    "\n",
    "scores_2_n = np.asarray(scores_2_n)\n",
    "mean_2_n = np.mean(scores_2_n)\n",
    "\n",
    "print(\"Mean of the scores with 2 degrees of freedom is {}\".format(mean_2_n))"
   ]
  },
  {
   "cell_type": "markdown",
   "metadata": {},
   "source": [
    "### Part iii."
   ]
  },
  {
   "cell_type": "code",
   "execution_count": 49,
   "metadata": {},
   "outputs": [],
   "source": [
    "# Creating dictionary to generate data fram\n",
    "dict_data = {'B0':B0,\n",
    "             'x':x_copy_n,\n",
    "             'x^2':x_2_n,\n",
    "             'x^3':x_3_n,\n",
    "             'y':y_copy_n}\n",
    "dataset_3_n = pd.DataFrame(dict_data)"
   ]
  },
  {
   "cell_type": "code",
   "execution_count": 50,
   "metadata": {},
   "outputs": [
    {
     "name": "stdout",
     "output_type": "stream",
     "text": [
      "Mean of the scores with 3 degrees of freedom is 0.7596657376816897\n"
     ]
    }
   ],
   "source": [
    "# This function takes in test and train indexes,splits data into train and test,\n",
    "# and calculates mean squared error and appends it to score\n",
    "scores_3_n = []\n",
    "def calc_mse_3_n(train_index, test_index):\n",
    "    train = dataset_3_n.loc[train_index]\n",
    "    test = dataset_3_n.loc[test_index]\n",
    "    X_train = train[['B0','x','x^2','x^3']]\n",
    "    y_train = train['y']\n",
    "    X_test = test[['B0','x','x^2','x^3']]\n",
    "    y_test = test['y']\n",
    "    clf.fit(X_train, y_train)\n",
    "    pred = clf.predict(X_test)\n",
    "    error = mse(pred,y_test)\n",
    "    scores_3_n.append(error)\n",
    "    \n",
    "# Splits data set into train and test leaving one out and repeats n times\n",
    "for train_index, test_index in loo.split(dataset_3_n):\n",
    "    calc_mse_3_n(train_index, test_index)\n",
    "\n",
    "scores_3_n = np.asarray(scores_3_n)\n",
    "mean_3_n = np.mean(scores_3_n)\n",
    "\n",
    "print(\"Mean of the scores with 3 degrees of freedom is {}\".format(mean_3_n))"
   ]
  },
  {
   "cell_type": "markdown",
   "metadata": {},
   "source": [
    "### Part iv."
   ]
  },
  {
   "cell_type": "code",
   "execution_count": 51,
   "metadata": {},
   "outputs": [],
   "source": [
    "# Creating dictionary to generate data fram\n",
    "dict_data = {'B0':B0,\n",
    "             'x':x_copy_n,\n",
    "             'x^2':x_2_n,\n",
    "             'x^3':x_3_n,\n",
    "             'x^4':x_4_n,\n",
    "             'y':y_copy_n}\n",
    "dataset_4_n = pd.DataFrame(dict_data)"
   ]
  },
  {
   "cell_type": "code",
   "execution_count": 52,
   "metadata": {},
   "outputs": [
    {
     "name": "stdout",
     "output_type": "stream",
     "text": [
      "Mean of the scores with 4 degrees of freedom is 0.7839156641370338\n"
     ]
    }
   ],
   "source": [
    "# This function takes in test and train indexes,splits data into train and test,\n",
    "# and calculates mean squared error and appends it to score\n",
    "scores_4_n = []\n",
    "def calc_mse_4_n(train_index, test_index):\n",
    "    train = dataset_4_n.loc[train_index]\n",
    "    test = dataset_4_n.loc[test_index]\n",
    "    X_train = train[['B0','x','x^2','x^3','x^4']]\n",
    "    y_train = train['y']\n",
    "    X_test = test[['B0','x','x^2','x^3','x^4']]\n",
    "    y_test = test['y']\n",
    "    clf.fit(X_train, y_train)\n",
    "    pred = clf.predict(X_test)\n",
    "    error = mse(pred,y_test)\n",
    "    scores_4_n.append(error)\n",
    "    \n",
    "# Splits data set into train and test leaving one out and repeats n times\n",
    "for train_index, test_index in loo.split(dataset_4_n):\n",
    "    calc_mse_4_n(train_index, test_index)\n",
    "\n",
    "scores_4_n = np.asarray(scores_4_n)\n",
    "mean_4_n = np.mean(scores_4_n)\n",
    "\n",
    "print(\"Mean of the scores with 4 degrees of freedom is {}\".format(mean_4_n))"
   ]
  },
  {
   "cell_type": "markdown",
   "metadata": {},
   "source": [
    "## Part E\n",
    "Which of the models in (c) had the smallest LOOCV error? Is\n",
    "this what you expected? Explain your answer."
   ]
  },
  {
   "cell_type": "markdown",
   "metadata": {},
   "source": [
    "The 2nd model has the smallest mean squared error. This is expected because our data can be modelled best in 2 variables as we can see from the scatter plot. 3 and 4 degrees of freedom result in overfitting which increases our mean error a little."
   ]
  },
  {
   "cell_type": "markdown",
   "metadata": {},
   "source": [
    "## Part F\n",
    "Comment on the statistical significance of the coefficient estimates\n",
    "that results from fitting each of the models in (c) using\n",
    "least squares. Do these results agree with the conclusions drawn\n",
    "based on the cross-validation results?"
   ]
  },
  {
   "cell_type": "markdown",
   "metadata": {},
   "source": [
    "Since our data can be best fit in two variables, we can see it from the scatter plot. We find that coefficients B1 and B2 are the most statistically significant. Also, we can see from our results that B3 and B4 might overfit the data."
   ]
  },
  {
   "cell_type": "code",
   "execution_count": null,
   "metadata": {},
   "outputs": [],
   "source": []
  }
 ],
 "metadata": {
  "kernelspec": {
   "display_name": "Python 3",
   "language": "python",
   "name": "python3"
  },
  "language_info": {
   "codemirror_mode": {
    "name": "ipython",
    "version": 3
   },
   "file_extension": ".py",
   "mimetype": "text/x-python",
   "name": "python",
   "nbconvert_exporter": "python",
   "pygments_lexer": "ipython3",
   "version": "3.5.2"
  }
 },
 "nbformat": 4,
 "nbformat_minor": 2
}
