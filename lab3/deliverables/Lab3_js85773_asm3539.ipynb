{
 "cells": [
  {
   "cell_type": "markdown",
   "metadata": {},
   "source": [
    "# Problem 1\n",
    "\n",
    "## Part 1\n",
    "We can consider S = span{v1, v2, v3, v4}. The explanations are printed\n",
    "out with the answers below"
   ]
  },
  {
   "cell_type": "code",
   "execution_count": 2,
   "metadata": {},
   "outputs": [],
   "source": [
    "import sympy\n",
    "from scipy import linalg\n",
    "import numpy as np\n",
    "import scipy"
   ]
  },
  {
   "cell_type": "code",
   "execution_count": 41,
   "metadata": {},
   "outputs": [
    {
     "name": "stdout",
     "output_type": "stream",
     "text": [
      "A vector in S that is not any of the given vectors is: [ 8 36 24 52]\n",
      "\n",
      "Any vector x with dim(x) > 4 is not in S\n",
      "For example, x = [1, 1, 1, 1, 1]\n",
      "\n",
      "Null(A^T) = [[-3 -2]\n",
      " [0 -1]\n",
      " [1 0]\n",
      " [0 1]]\n",
      "A vector perpendicular to S is any vector in Null(A^T)\n",
      "So any linear combination, for instance: [-5 -1  1  1]\n"
     ]
    }
   ],
   "source": [
    "# Setup Problem\n",
    "v1 = np.array([1, 2, 3, 4])\n",
    "v2 = np.array([0, 1, 0, 1])\n",
    "v3 = np.array([1, 4, 3, 6])\n",
    "v4 = np.array([2, 11, 6, 15])\n",
    "A = np.column_stack((v1, v2, v3, v4))\n",
    "\n",
    "# Create a vector inside S different from v1, v2, ...\n",
    "s = np.add(np.add(2 * v1, 2 * v2), np.add(2 * v3, 2 * v4))\n",
    "print(\"A vector in S that is not any of the given vectors is: {}\".format(s))\n",
    "print(\"\")\n",
    "\n",
    "# Create a vector not in S\n",
    "print(\"Any vector x with dim(x) > 4 is not in S\")\n",
    "print(\"For example, x = [1, 1, 1, 1, 1]\")\n",
    "print(\"\")\n",
    "\n",
    "# Create a vector x perpendicular to S.\n",
    "# (any vector u s.t. v1 dot u, v2 dot u, ... etc are all equal to zero)\n",
    "A_transpose = sympy.Matrix(A.T)\n",
    "null_A = A_transpose.nullspace()\n",
    "null_A_ = np.array(null_A)\n",
    "#print(null_A_.T)\n",
    "print(\"Null(A^T) = {}\".format(null_A_.T))\n",
    "# x = some vector orthogonal to S\n",
    "b = np.ones(2)\n",
    "x = np.dot(null_A_.T , b)\n",
    "x = np.array(x, dtype=\"int\")\n",
    "print(\"A vector perpendicular to S is any vector in Null(A^T)\")\n",
    "print(\"So any linear combination, for instance: {}\".format(x))"
   ]
  },
  {
   "cell_type": "markdown",
   "metadata": {},
   "source": [
    "The answer to the question $u \\in S$ for some new vector u is equivalent to asking <br></br>\n",
    "if there is a solution to $Ax\\,=\\,u$ . This can be solved using numpy or by hand with row reduction."
   ]
  },
  {
   "cell_type": "markdown",
   "metadata": {},
   "source": [
    "## Part 2\n",
    "\n",
    "Find the dimension of the subspace S."
   ]
  },
  {
   "cell_type": "code",
   "execution_count": 35,
   "metadata": {},
   "outputs": [
    {
     "name": "stdout",
     "output_type": "stream",
     "text": [
      "2\n"
     ]
    }
   ],
   "source": [
    "dim = np.linalg.matrix_rank(A)\n",
    "print(dim)"
   ]
  },
  {
   "cell_type": "markdown",
   "metadata": {},
   "source": [
    "## Part 3\n",
    "\n",
    "Construct an orthonormal basis. Notice only two vectors are <br></br>\n",
    "required because the dimension of S is only 2."
   ]
  },
  {
   "cell_type": "code",
   "execution_count": 36,
   "metadata": {},
   "outputs": [
    {
     "name": "stdout",
     "output_type": "stream",
     "text": [
      "[[-0.1098991   0.2669373 ]\n",
      " [-0.54396107 -0.53613402]\n",
      " [-0.32969731  0.80081189]\n",
      " [-0.76375927 -0.00225943]]\n",
      "7.502679033599691e-17\n"
     ]
    }
   ],
   "source": [
    "vectors = []\n",
    "vectors.append(v1)\n",
    "vectors.append(v3)\n",
    "vectors.append(v2)\n",
    "vectors.append(v4)\n",
    "vectors = np.array(vectors)\n",
    "#sympy.Matrix(vectors).rref()\n",
    "vectors = vectors.T\n",
    "orth = scipy.linalg.orth(vectors)\n",
    "print(orth)\n",
    "print(np.dot(orth[:,0], orth[:,1]))"
   ]
  },
  {
   "cell_type": "markdown",
   "metadata": {},
   "source": [
    "## Part 4\n",
    "<body>\n",
    "   <p>\n",
    "        We are asked to solve\n",
    "   </p>\n",
    "   <p>\n",
    "        $$\\min_{x\\in S} \\|\\pmb{x}-\\pmb{z}^{*}\\|_2 $$\n",
    "        $$\\Rightarrow \\min_{x\\in S} \\sqrt{(\\sum_{i}^{n} x_i \\, - \\, (1,0,0,0)^{T})^{2}}$$\n",
    "        $$\\Rightarrow \\min_{x\\in S} (\\sum_{i}^{n} x_i \\, - \\, (1,0,0,0)^{T})^{2}$$\n",
    "   </p>\n",
    "   <p>\n",
    "        This is a convex function, so we set the derivative and set it equal to 0:\n",
    "   </p>\n",
    "   <p>\n",
    "        $$\\sum_i^n (x_i - (1,0,0,0)^{T}) = 0$$\n",
    "        $$\\Rightarrow \\sum_i^n x_i = (1,0,0,0)^{T}$$\n",
    "   </p>\n",
    "   <p>\n",
    "        Obviously we want $\\pmb{x} = \\pmb{z}^{*}$\n",
    "   </p>\n",
    "   <p>\n",
    "        Since $\\pmb{z}^* \\notin S$ ,this becomes equivalent to finding the shortest distance to $\\pmb{z}^*$ from our subspace.\n",
    "   </p>\n",
    "   <p>\n",
    "        We find this distance by projecting the vector $\\pmb{z}^*$ onto S:\n",
    "   </p>\n",
    "        \n",
    "    \n",
    "</body>"
   ]
  },
  {
   "cell_type": "code",
   "execution_count": 37,
   "metadata": {},
   "outputs": [
    {
     "name": "stdout",
     "output_type": "stream",
     "text": [
      "The minimum distance is: 0.15703819557191717\n"
     ]
    }
   ],
   "source": [
    "min_dist = np.zeros(4)\n",
    "z_star = np.array([1, 0, 0, 0])\n",
    "col_1 = np.dot(orth[:,0], z_star)\n",
    "col_2 = np.dot(orth[:,1], z_star)\n",
    "min_dist = np.add(col_1, col_2)\n",
    "print(\"The minimum distance is: {}\".format(min_dist))"
   ]
  },
  {
   "cell_type": "code",
   "execution_count": 38,
   "metadata": {},
   "outputs": [],
   "source": [
    "# Project u onto v\n",
    "#def proj(u, v):\n",
    "    #assert type(u) && \n",
    "#    assert type(v) == np.ndarray, \"Invalid input\"\n",
    "#    a = (np.dot(u, v))/(np.dot(u,u))\n",
    "#    w = a * v\n",
    "#    return w\n",
    "\n",
    "#z_star = sympy.Matrix(z_star)\n",
    "#space = sympy.Matrix(orth)\n",
    "#print(orth.shape[:][0])\n",
    "#print(z_star.T.shape)\n",
    "#space.project(z_star_)\n",
    "#min_dist = np.add(proj(z_star, orth[:][i]), min_dist)"
   ]
  },
  {
   "cell_type": "markdown",
   "metadata": {},
   "source": [
    "## Problem 2\n",
    "\n",
    "### Part 1 Most Common Words"
   ]
  },
  {
   "cell_type": "code",
   "execution_count": 118,
   "metadata": {},
   "outputs": [],
   "source": [
    "import requests as req\n",
    "from bs4 import BeautifulSoup\n",
    "from urllib.request import urlretrieve,urlopen\n",
    "import PyPDF2\n",
    "import io\n",
    "import pdfminer\n",
    "import os\n",
    "import numpy as np\n",
    "import nltk\n",
    "from math import log2\n",
    "from nltk.corpus import stopwords\n",
    "from nltk.tokenize import word_tokenize\n",
    "from io import StringIO\n",
    "from pdfminer.pdfinterp import PDFResourceManager, PDFPageInterpreter\n",
    "from pdfminer.converter import TextConverter\n",
    "from pdfminer.layout import LAParams\n",
    "from pdfminer.pdfpage import PDFPage\n",
    "import re\n",
    "from nltk.tokenize import RegexpTokenizer\n",
    "from collections import Counter"
   ]
  },
  {
   "cell_type": "code",
   "execution_count": 3,
   "metadata": {},
   "outputs": [
    {
     "name": "stdout",
     "output_type": "stream",
     "text": [
      "downloaded 434 files\n"
     ]
    }
   ],
   "source": [
    "#getting html from http://proceedings.mlr.press/v70/\n",
    "html_content = req.get(\"http://proceedings.mlr.press/v70/\").content\n",
    "content = BeautifulSoup(html_content,'html.parser')\n",
    "\n",
    "#getting all the links\n",
    "links_pdf =[]\n",
    "\n",
    "#getting all the classes with id links\n",
    "links_paper = content.find_all(class_=\"links\")\n",
    "\n",
    "#iterate over all the classes obtained and get link and keep only pdf links\n",
    "for link_paper in links_paper:\n",
    "    links = link_paper.find_all('a')\n",
    "    links_pdf.append(links[1].get('href'))\n",
    "    \n",
    "i=0\n",
    "\n",
    "for link_pdf in links_pdf:   \n",
    "    content=urlopen(link_pdf).read()\n",
    "    i = i+1\n",
    "    filename = str(i)+\".pdf\"\n",
    "    fout=open(filename, \"wb\")\n",
    "    fout.write(content)\n",
    "    fout.close()\n",
    "print(\"downloaded {} files\".format(i))"
   ]
  },
  {
   "cell_type": "code",
   "execution_count": 15,
   "metadata": {},
   "outputs": [],
   "source": [
    "# function to convert text from pdf\n",
    "def convert_pdf_to_txt(path):\n",
    "    rsrcmgr = PDFResourceManager()\n",
    "    retstr = io.StringIO()\n",
    "    codec = 'utf-8'\n",
    "    laparams = LAParams()\n",
    "    device = TextConverter(rsrcmgr, retstr, codec=codec, laparams=laparams)\n",
    "    fp = open(path, 'rb')\n",
    "    interpreter = PDFPageInterpreter(rsrcmgr, device)\n",
    "    password = \"\"\n",
    "    maxpages = 0\n",
    "    caching = True\n",
    "    pagenos = set()\n",
    "\n",
    "    for page in PDFPage.get_pages(fp, pagenos, maxpages=maxpages,\n",
    "                                  password=password,\n",
    "                                  caching=caching,\n",
    "                                  check_extractable=True):\n",
    "        interpreter.process_page(page)\n",
    "\n",
    "    text = retstr.getvalue()\n",
    "\n",
    "    fp.close()\n",
    "    device.close()\n",
    "    retstr.close()\n",
    "    return text\n"
   ]
  },
  {
   "cell_type": "code",
   "execution_count": 73,
   "metadata": {},
   "outputs": [
    {
     "name": "stdout",
     "output_type": "stream",
     "text": [
      "[nltk_data] Downloading package punkt to /home/humble-\n",
      "[nltk_data]     fool/nltk_data...\n",
      "[nltk_data]   Package punkt is already up-to-date!\n",
      "[nltk_data] Downloading package stopwords to /home/humble-\n",
      "[nltk_data]     fool/nltk_data...\n",
      "[nltk_data]   Package stopwords is already up-to-date!\n"
     ]
    },
    {
     "data": {
      "text/plain": [
       "True"
      ]
     },
     "execution_count": 73,
     "metadata": {},
     "output_type": "execute_result"
    }
   ],
   "source": [
    "nltk.download('punkt')\n",
    "nltk.download('stopwords')"
   ]
  },
  {
   "cell_type": "code",
   "execution_count": 75,
   "metadata": {
    "scrolled": true
   },
   "outputs": [
    {
     "name": "stdout",
     "output_type": "stream",
     "text": [
      "1\n",
      "2\n",
      "3\n",
      "4\n",
      "5\n",
      "6\n",
      "7\n",
      "8\n",
      "9\n",
      "10\n",
      "11\n",
      "12\n",
      "13\n",
      "14\n",
      "15\n",
      "16\n",
      "17\n",
      "18\n",
      "19\n",
      "20\n",
      "21\n",
      "22\n",
      "23\n",
      "24\n",
      "25\n",
      "26\n",
      "27\n",
      "28\n",
      "29\n",
      "30\n",
      "31\n",
      "32\n",
      "33\n",
      "34\n",
      "35\n",
      "36\n",
      "37\n",
      "38\n",
      "39\n",
      "40\n",
      "41\n",
      "42\n",
      "43\n",
      "44\n",
      "45\n",
      "46\n",
      "47\n",
      "48\n",
      "49\n",
      "50\n",
      "51\n",
      "52\n",
      "53\n",
      "54\n",
      "55\n",
      "56\n",
      "57\n",
      "58\n",
      "59\n",
      "60\n",
      "61\n",
      "62\n",
      "63\n",
      "64\n",
      "65\n",
      "66\n",
      "67\n",
      "68\n",
      "69\n",
      "70\n",
      "71\n",
      "72\n",
      "73\n",
      "74\n",
      "75\n",
      "76\n",
      "77\n",
      "78\n",
      "79\n",
      "80\n",
      "81\n",
      "82\n",
      "83\n",
      "84\n",
      "85\n",
      "86\n",
      "87\n",
      "88\n",
      "89\n",
      "90\n",
      "91\n",
      "92\n",
      "93\n",
      "94\n",
      "95\n",
      "96\n",
      "97\n",
      "98\n",
      "99\n",
      "100\n",
      "101\n",
      "102\n",
      "103\n",
      "104\n",
      "105\n",
      "106\n",
      "107\n",
      "108\n",
      "109\n",
      "110\n",
      "111\n",
      "112\n",
      "113\n",
      "114\n",
      "115\n",
      "116\n",
      "117\n",
      "118\n",
      "119\n",
      "120\n",
      "121\n",
      "122\n",
      "123\n",
      "124\n",
      "125\n",
      "126\n",
      "127\n",
      "128\n",
      "129\n",
      "130\n",
      "131\n",
      "132\n",
      "133\n",
      "134\n",
      "135\n",
      "136\n",
      "137\n",
      "138\n",
      "139\n",
      "140\n",
      "141\n",
      "142\n",
      "143\n",
      "144\n",
      "145\n",
      "146\n",
      "147\n",
      "148\n",
      "149\n",
      "150\n",
      "151\n",
      "152\n",
      "153\n",
      "154\n",
      "155\n",
      "156\n",
      "157\n",
      "158\n",
      "159\n",
      "160\n",
      "161\n",
      "162\n",
      "163\n",
      "164\n",
      "165\n",
      "166\n",
      "167\n",
      "168\n",
      "169\n",
      "170\n",
      "171\n",
      "172\n",
      "173\n",
      "174\n",
      "175\n",
      "176\n",
      "177\n",
      "178\n",
      "179\n",
      "180\n",
      "181\n",
      "182\n",
      "183\n",
      "184\n",
      "185\n",
      "186\n",
      "187\n",
      "188\n",
      "189\n",
      "190\n",
      "191\n",
      "192\n",
      "193\n",
      "194\n",
      "195\n",
      "196\n",
      "197\n",
      "198\n",
      "199\n",
      "200\n",
      "201\n"
     ]
    },
    {
     "ename": "KeyboardInterrupt",
     "evalue": "",
     "output_type": "error",
     "traceback": [
      "\u001b[0;31m---------------------------------------------------------------------------\u001b[0m",
      "\u001b[0;31mKeyboardInterrupt\u001b[0m                         Traceback (most recent call last)",
      "\u001b[0;32m<ipython-input-75-394b78917016>\u001b[0m in \u001b[0;36m<module>\u001b[0;34m()\u001b[0m\n\u001b[1;32m      5\u001b[0m     \u001b[0;31m# loads the pdf and sends it to the function ofr conversion\u001b[0m\u001b[0;34m\u001b[0m\u001b[0;34m\u001b[0m\u001b[0m\n\u001b[1;32m      6\u001b[0m     \u001b[0mprint\u001b[0m\u001b[0;34m(\u001b[0m\u001b[0mi\u001b[0m\u001b[0;34m)\u001b[0m\u001b[0;34m\u001b[0m\u001b[0m\n\u001b[0;32m----> 7\u001b[0;31m     \u001b[0mt\u001b[0m \u001b[0;34m=\u001b[0m \u001b[0mconvert_pdf_to_txt\u001b[0m\u001b[0;34m(\u001b[0m\u001b[0mpath\u001b[0m\u001b[0;34m+\u001b[0m\u001b[0mstr\u001b[0m\u001b[0;34m(\u001b[0m\u001b[0mi\u001b[0m\u001b[0;34m)\u001b[0m\u001b[0;34m+\u001b[0m\u001b[0;34m\".pdf\"\u001b[0m\u001b[0;34m)\u001b[0m\u001b[0;34m\u001b[0m\u001b[0m\n\u001b[0m\u001b[1;32m      8\u001b[0m     \u001b[0mt_lower\u001b[0m \u001b[0;34m=\u001b[0m \u001b[0mt\u001b[0m\u001b[0;34m.\u001b[0m\u001b[0mlower\u001b[0m\u001b[0;34m(\u001b[0m\u001b[0;34m)\u001b[0m\u001b[0;34m\u001b[0m\u001b[0m\n\u001b[1;32m      9\u001b[0m     \u001b[0;31m## tokenizes and removes punctuation\u001b[0m\u001b[0;34m\u001b[0m\u001b[0;34m\u001b[0m\u001b[0m\n",
      "\u001b[0;32m<ipython-input-15-e97870ead6f1>\u001b[0m in \u001b[0;36mconvert_pdf_to_txt\u001b[0;34m(path)\u001b[0m\n\u001b[1;32m     16\u001b[0m                                   \u001b[0mcaching\u001b[0m\u001b[0;34m=\u001b[0m\u001b[0mcaching\u001b[0m\u001b[0;34m,\u001b[0m\u001b[0;34m\u001b[0m\u001b[0m\n\u001b[1;32m     17\u001b[0m                                   check_extractable=True):\n\u001b[0;32m---> 18\u001b[0;31m         \u001b[0minterpreter\u001b[0m\u001b[0;34m.\u001b[0m\u001b[0mprocess_page\u001b[0m\u001b[0;34m(\u001b[0m\u001b[0mpage\u001b[0m\u001b[0;34m)\u001b[0m\u001b[0;34m\u001b[0m\u001b[0m\n\u001b[0m\u001b[1;32m     19\u001b[0m \u001b[0;34m\u001b[0m\u001b[0m\n\u001b[1;32m     20\u001b[0m     \u001b[0mtext\u001b[0m \u001b[0;34m=\u001b[0m \u001b[0mretstr\u001b[0m\u001b[0;34m.\u001b[0m\u001b[0mgetvalue\u001b[0m\u001b[0;34m(\u001b[0m\u001b[0;34m)\u001b[0m\u001b[0;34m\u001b[0m\u001b[0m\n",
      "\u001b[0;32m~/school_work/Spring_18/Data-Science-Lab-ee379k/lib/python3.5/site-packages/pdfminer/pdfinterp.py\u001b[0m in \u001b[0;36mprocess_page\u001b[0;34m(self, page)\u001b[0m\n\u001b[1;32m    851\u001b[0m         \u001b[0mself\u001b[0m\u001b[0;34m.\u001b[0m\u001b[0mdevice\u001b[0m\u001b[0;34m.\u001b[0m\u001b[0mbegin_page\u001b[0m\u001b[0;34m(\u001b[0m\u001b[0mpage\u001b[0m\u001b[0;34m,\u001b[0m \u001b[0mctm\u001b[0m\u001b[0;34m)\u001b[0m\u001b[0;34m\u001b[0m\u001b[0m\n\u001b[1;32m    852\u001b[0m         \u001b[0mself\u001b[0m\u001b[0;34m.\u001b[0m\u001b[0mrender_contents\u001b[0m\u001b[0;34m(\u001b[0m\u001b[0mpage\u001b[0m\u001b[0;34m.\u001b[0m\u001b[0mresources\u001b[0m\u001b[0;34m,\u001b[0m \u001b[0mpage\u001b[0m\u001b[0;34m.\u001b[0m\u001b[0mcontents\u001b[0m\u001b[0;34m,\u001b[0m \u001b[0mctm\u001b[0m\u001b[0;34m=\u001b[0m\u001b[0mctm\u001b[0m\u001b[0;34m)\u001b[0m\u001b[0;34m\u001b[0m\u001b[0m\n\u001b[0;32m--> 853\u001b[0;31m         \u001b[0mself\u001b[0m\u001b[0;34m.\u001b[0m\u001b[0mdevice\u001b[0m\u001b[0;34m.\u001b[0m\u001b[0mend_page\u001b[0m\u001b[0;34m(\u001b[0m\u001b[0mpage\u001b[0m\u001b[0;34m)\u001b[0m\u001b[0;34m\u001b[0m\u001b[0m\n\u001b[0m\u001b[1;32m    854\u001b[0m         \u001b[0;32mreturn\u001b[0m\u001b[0;34m\u001b[0m\u001b[0m\n\u001b[1;32m    855\u001b[0m \u001b[0;34m\u001b[0m\u001b[0m\n",
      "\u001b[0;32m~/school_work/Spring_18/Data-Science-Lab-ee379k/lib/python3.5/site-packages/pdfminer/converter.py\u001b[0m in \u001b[0;36mend_page\u001b[0;34m(self, page)\u001b[0m\n\u001b[1;32m     52\u001b[0m         \u001b[0;32massert\u001b[0m \u001b[0misinstance\u001b[0m\u001b[0;34m(\u001b[0m\u001b[0mself\u001b[0m\u001b[0;34m.\u001b[0m\u001b[0mcur_item\u001b[0m\u001b[0;34m,\u001b[0m \u001b[0mLTPage\u001b[0m\u001b[0;34m)\u001b[0m\u001b[0;34m,\u001b[0m \u001b[0mstr\u001b[0m\u001b[0;34m(\u001b[0m\u001b[0mtype\u001b[0m\u001b[0;34m(\u001b[0m\u001b[0mself\u001b[0m\u001b[0;34m.\u001b[0m\u001b[0mcur_item\u001b[0m\u001b[0;34m)\u001b[0m\u001b[0;34m)\u001b[0m\u001b[0;34m\u001b[0m\u001b[0m\n\u001b[1;32m     53\u001b[0m         \u001b[0;32mif\u001b[0m \u001b[0mself\u001b[0m\u001b[0;34m.\u001b[0m\u001b[0mlaparams\u001b[0m \u001b[0;32mis\u001b[0m \u001b[0;32mnot\u001b[0m \u001b[0;32mNone\u001b[0m\u001b[0;34m:\u001b[0m\u001b[0;34m\u001b[0m\u001b[0m\n\u001b[0;32m---> 54\u001b[0;31m             \u001b[0mself\u001b[0m\u001b[0;34m.\u001b[0m\u001b[0mcur_item\u001b[0m\u001b[0;34m.\u001b[0m\u001b[0manalyze\u001b[0m\u001b[0;34m(\u001b[0m\u001b[0mself\u001b[0m\u001b[0;34m.\u001b[0m\u001b[0mlaparams\u001b[0m\u001b[0;34m)\u001b[0m\u001b[0;34m\u001b[0m\u001b[0m\n\u001b[0m\u001b[1;32m     55\u001b[0m         \u001b[0mself\u001b[0m\u001b[0;34m.\u001b[0m\u001b[0mpageno\u001b[0m \u001b[0;34m+=\u001b[0m \u001b[0;36m1\u001b[0m\u001b[0;34m\u001b[0m\u001b[0m\n\u001b[1;32m     56\u001b[0m         \u001b[0mself\u001b[0m\u001b[0;34m.\u001b[0m\u001b[0mreceive_layout\u001b[0m\u001b[0;34m(\u001b[0m\u001b[0mself\u001b[0m\u001b[0;34m.\u001b[0m\u001b[0mcur_item\u001b[0m\u001b[0;34m)\u001b[0m\u001b[0;34m\u001b[0m\u001b[0m\n",
      "\u001b[0;32m~/school_work/Spring_18/Data-Science-Lab-ee379k/lib/python3.5/site-packages/pdfminer/layout.py\u001b[0m in \u001b[0;36manalyze\u001b[0;34m(self, laparams)\u001b[0m\n\u001b[1;32m    684\u001b[0m         \u001b[0mtextboxes\u001b[0m \u001b[0;34m=\u001b[0m \u001b[0mlist\u001b[0m\u001b[0;34m(\u001b[0m\u001b[0mself\u001b[0m\u001b[0;34m.\u001b[0m\u001b[0mgroup_textlines\u001b[0m\u001b[0;34m(\u001b[0m\u001b[0mlaparams\u001b[0m\u001b[0;34m,\u001b[0m \u001b[0mtextlines\u001b[0m\u001b[0;34m)\u001b[0m\u001b[0;34m)\u001b[0m\u001b[0;34m\u001b[0m\u001b[0m\n\u001b[1;32m    685\u001b[0m         \u001b[0;32mif\u001b[0m \u001b[0;34m-\u001b[0m\u001b[0;36m1\u001b[0m \u001b[0;34m<=\u001b[0m \u001b[0mlaparams\u001b[0m\u001b[0;34m.\u001b[0m\u001b[0mboxes_flow\u001b[0m \u001b[0;32mand\u001b[0m \u001b[0mlaparams\u001b[0m\u001b[0;34m.\u001b[0m\u001b[0mboxes_flow\u001b[0m \u001b[0;34m<=\u001b[0m \u001b[0;34m+\u001b[0m\u001b[0;36m1\u001b[0m \u001b[0;32mand\u001b[0m \u001b[0mtextboxes\u001b[0m\u001b[0;34m:\u001b[0m\u001b[0;34m\u001b[0m\u001b[0m\n\u001b[0;32m--> 686\u001b[0;31m             \u001b[0mself\u001b[0m\u001b[0;34m.\u001b[0m\u001b[0mgroups\u001b[0m \u001b[0;34m=\u001b[0m \u001b[0mself\u001b[0m\u001b[0;34m.\u001b[0m\u001b[0mgroup_textboxes\u001b[0m\u001b[0;34m(\u001b[0m\u001b[0mlaparams\u001b[0m\u001b[0;34m,\u001b[0m \u001b[0mtextboxes\u001b[0m\u001b[0;34m)\u001b[0m\u001b[0;34m\u001b[0m\u001b[0m\n\u001b[0m\u001b[1;32m    687\u001b[0m             \u001b[0massigner\u001b[0m \u001b[0;34m=\u001b[0m \u001b[0mIndexAssigner\u001b[0m\u001b[0;34m(\u001b[0m\u001b[0;34m)\u001b[0m\u001b[0;34m\u001b[0m\u001b[0m\n\u001b[1;32m    688\u001b[0m             \u001b[0;32mfor\u001b[0m \u001b[0mgroup\u001b[0m \u001b[0;32min\u001b[0m \u001b[0mself\u001b[0m\u001b[0;34m.\u001b[0m\u001b[0mgroups\u001b[0m\u001b[0;34m:\u001b[0m\u001b[0;34m\u001b[0m\u001b[0m\n",
      "\u001b[0;32m~/school_work/Spring_18/Data-Science-Lab-ee379k/lib/python3.5/site-packages/pdfminer/layout.py\u001b[0m in \u001b[0;36mgroup_textboxes\u001b[0;34m(self, laparams, boxes)\u001b[0m\n\u001b[1;32m    661\u001b[0m             \u001b[0mplane\u001b[0m\u001b[0;34m.\u001b[0m\u001b[0mremove\u001b[0m\u001b[0;34m(\u001b[0m\u001b[0mobj1\u001b[0m\u001b[0;34m)\u001b[0m\u001b[0;34m\u001b[0m\u001b[0m\n\u001b[1;32m    662\u001b[0m             \u001b[0mplane\u001b[0m\u001b[0;34m.\u001b[0m\u001b[0mremove\u001b[0m\u001b[0;34m(\u001b[0m\u001b[0mobj2\u001b[0m\u001b[0;34m)\u001b[0m\u001b[0;34m\u001b[0m\u001b[0m\n\u001b[0;32m--> 663\u001b[0;31m             dists = [ (c,d,obj1,obj2) for (c,d,obj1,obj2) in dists\n\u001b[0m\u001b[1;32m    664\u001b[0m                       if (obj1 in plane and obj2 in plane) ]\n\u001b[1;32m    665\u001b[0m             \u001b[0;32mfor\u001b[0m \u001b[0mother\u001b[0m \u001b[0;32min\u001b[0m \u001b[0mplane\u001b[0m\u001b[0;34m:\u001b[0m\u001b[0;34m\u001b[0m\u001b[0m\n",
      "\u001b[0;32m~/school_work/Spring_18/Data-Science-Lab-ee379k/lib/python3.5/site-packages/pdfminer/layout.py\u001b[0m in \u001b[0;36m<listcomp>\u001b[0;34m(.0)\u001b[0m\n\u001b[1;32m    662\u001b[0m             \u001b[0mplane\u001b[0m\u001b[0;34m.\u001b[0m\u001b[0mremove\u001b[0m\u001b[0;34m(\u001b[0m\u001b[0mobj2\u001b[0m\u001b[0;34m)\u001b[0m\u001b[0;34m\u001b[0m\u001b[0m\n\u001b[1;32m    663\u001b[0m             dists = [ (c,d,obj1,obj2) for (c,d,obj1,obj2) in dists\n\u001b[0;32m--> 664\u001b[0;31m                       if (obj1 in plane and obj2 in plane) ]\n\u001b[0m\u001b[1;32m    665\u001b[0m             \u001b[0;32mfor\u001b[0m \u001b[0mother\u001b[0m \u001b[0;32min\u001b[0m \u001b[0mplane\u001b[0m\u001b[0;34m:\u001b[0m\u001b[0;34m\u001b[0m\u001b[0m\n\u001b[1;32m    666\u001b[0m                 \u001b[0mdists\u001b[0m\u001b[0;34m.\u001b[0m\u001b[0mappend\u001b[0m\u001b[0;34m(\u001b[0m\u001b[0;34m(\u001b[0m\u001b[0;36m0\u001b[0m\u001b[0;34m,\u001b[0m \u001b[0mdist\u001b[0m\u001b[0;34m(\u001b[0m\u001b[0mgroup\u001b[0m\u001b[0;34m,\u001b[0m \u001b[0mother\u001b[0m\u001b[0;34m)\u001b[0m\u001b[0;34m,\u001b[0m \u001b[0mgroup\u001b[0m\u001b[0;34m,\u001b[0m \u001b[0mother\u001b[0m\u001b[0;34m)\u001b[0m\u001b[0;34m)\u001b[0m\u001b[0;34m\u001b[0m\u001b[0m\n",
      "\u001b[0;31mKeyboardInterrupt\u001b[0m: "
     ]
    }
   ],
   "source": [
    "path = '/home/humble-fool/school_work/Spring_18/Data-Science-Lab-ee379k/lab3/src/'\n",
    "\n",
    "data_list = []\n",
    "for i in range(1,435):\n",
    "    # loads the pdf and sends it to the function ofr conversion\n",
    "    print(i)\n",
    "    t = convert_pdf_to_txt(path+str(i)+\".pdf\")\n",
    "    t_lower = t.lower()\n",
    "    ## tokenizes and removes punctuation\n",
    "    tokenizer = RegexpTokenizer(r'\\w+')\n",
    "    tokens = tokenizer.tokenize(t_lower)\n",
    "    \n",
    "    #another filter to remove stop words\n",
    "    filtered_tokens = tokens[:]\n",
    "    for token in tokens: \n",
    "        if token in stopwords.words('english'): \n",
    "            filtered_tokens.remove(token)\n",
    "    #another filter to remove unnecessary element of length lesser than three\n",
    "    \n",
    "    \n",
    "    count_filter = []\n",
    "    for token in filtered_tokens:\n",
    "        if (len(token) >=3):\n",
    "            count_filter.append(token)\n",
    "    data_list.append(count_filter)\n"
   ]
  },
  {
   "cell_type": "code",
   "execution_count": 80,
   "metadata": {},
   "outputs": [
    {
     "name": "stdout",
     "output_type": "stream",
     "text": [
      "200\n",
      "2888\n"
     ]
    }
   ],
   "source": [
    "print(len(data_list))\n",
    "print(len(data_list[50]))"
   ]
  },
  {
   "cell_type": "code",
   "execution_count": 82,
   "metadata": {
    "scrolled": true
   },
   "outputs": [
    {
     "name": "stdout",
     "output_type": "stream",
     "text": [
      "202\n",
      "203\n",
      "204\n",
      "205\n",
      "206\n",
      "207\n",
      "208\n",
      "209\n",
      "210\n",
      "211\n",
      "212\n",
      "213\n",
      "214\n",
      "215\n",
      "216\n",
      "217\n",
      "218\n",
      "219\n",
      "220\n",
      "221\n",
      "222\n",
      "223\n",
      "224\n",
      "225\n",
      "226\n",
      "227\n",
      "228\n",
      "229\n",
      "230\n",
      "231\n",
      "232\n",
      "233\n",
      "234\n",
      "235\n",
      "236\n",
      "237\n",
      "238\n",
      "239\n",
      "240\n",
      "241\n",
      "242\n",
      "243\n",
      "244\n",
      "245\n",
      "246\n",
      "247\n",
      "248\n",
      "249\n",
      "250\n",
      "251\n",
      "252\n",
      "253\n",
      "254\n",
      "255\n",
      "256\n",
      "257\n",
      "258\n",
      "259\n",
      "260\n",
      "261\n",
      "262\n",
      "263\n",
      "264\n",
      "265\n",
      "266\n",
      "267\n",
      "268\n",
      "269\n",
      "270\n",
      "271\n",
      "272\n",
      "273\n",
      "274\n",
      "275\n",
      "276\n",
      "277\n",
      "278\n",
      "279\n",
      "280\n",
      "281\n",
      "282\n",
      "283\n",
      "284\n",
      "285\n",
      "286\n",
      "287\n",
      "288\n",
      "289\n",
      "290\n",
      "291\n",
      "292\n",
      "293\n",
      "294\n",
      "295\n",
      "296\n",
      "297\n",
      "298\n",
      "299\n",
      "300\n",
      "301\n",
      "302\n",
      "303\n",
      "304\n",
      "305\n",
      "306\n",
      "307\n",
      "308\n",
      "309\n",
      "310\n",
      "311\n",
      "312\n",
      "313\n",
      "314\n",
      "315\n",
      "316\n",
      "317\n",
      "318\n",
      "319\n",
      "320\n",
      "321\n",
      "322\n",
      "323\n",
      "324\n",
      "325\n",
      "326\n",
      "327\n",
      "328\n",
      "329\n",
      "330\n",
      "331\n",
      "332\n",
      "333\n",
      "334\n",
      "335\n",
      "336\n",
      "337\n",
      "338\n",
      "339\n",
      "340\n",
      "341\n",
      "342\n",
      "343\n",
      "344\n",
      "345\n",
      "346\n",
      "347\n",
      "348\n",
      "349\n",
      "350\n",
      "351\n",
      "352\n",
      "353\n",
      "354\n",
      "355\n",
      "356\n",
      "357\n",
      "358\n",
      "359\n",
      "360\n",
      "361\n",
      "362\n",
      "363\n",
      "364\n",
      "365\n",
      "366\n",
      "367\n",
      "368\n",
      "369\n",
      "370\n",
      "371\n",
      "372\n",
      "373\n",
      "374\n",
      "375\n",
      "376\n",
      "377\n",
      "378\n",
      "379\n",
      "380\n",
      "381\n",
      "382\n",
      "383\n",
      "384\n",
      "385\n",
      "386\n",
      "387\n",
      "388\n",
      "389\n",
      "390\n",
      "391\n",
      "392\n",
      "393\n",
      "394\n",
      "395\n",
      "396\n",
      "397\n",
      "398\n",
      "399\n",
      "400\n",
      "401\n",
      "402\n",
      "403\n",
      "404\n",
      "405\n",
      "406\n",
      "407\n",
      "408\n",
      "409\n",
      "410\n",
      "411\n",
      "412\n",
      "413\n",
      "414\n",
      "415\n",
      "416\n",
      "417\n",
      "418\n",
      "419\n",
      "420\n",
      "421\n",
      "422\n",
      "423\n",
      "424\n",
      "425\n",
      "426\n",
      "427\n",
      "428\n",
      "429\n",
      "430\n",
      "431\n",
      "432\n",
      "433\n",
      "434\n"
     ]
    }
   ],
   "source": [
    "## pdf number 201 didn't load for some reason\n",
    "\n",
    "path = '/home/humble-fool/school_work/Spring_18/Data-Science-Lab-ee379k/lab3/src/'\n",
    "\n",
    "for i in range(202,435):\n",
    "    # loads the pdf and sends it to the function ofr conversion\n",
    "    print(i)\n",
    "    t = convert_pdf_to_txt(path+str(i)+\".pdf\")\n",
    "    t_lower = t.lower()\n",
    "    ## tokenizes and removes punctuation\n",
    "    tokenizer = RegexpTokenizer(r'\\w+')\n",
    "    tokens = tokenizer.tokenize(t_lower)\n",
    "    \n",
    "    #another filter to remove stop words\n",
    "    filtered_tokens = tokens[:]\n",
    "    for token in tokens: \n",
    "        if token in stopwords.words('english'): \n",
    "            filtered_tokens.remove(token)\n",
    "    #another filter to remove unnecessary element of length lesser than three\n",
    "    \n",
    "    \n",
    "    count_filter = []\n",
    "    for token in filtered_tokens:\n",
    "        if (len(token) >=3):\n",
    "            count_filter.append(token)\n",
    "    data_list.append(count_filter)\n"
   ]
  },
  {
   "cell_type": "code",
   "execution_count": 84,
   "metadata": {},
   "outputs": [
    {
     "name": "stdout",
     "output_type": "stream",
     "text": [
      "433\n"
     ]
    }
   ],
   "source": [
    "print(len(data_list))"
   ]
  },
  {
   "cell_type": "code",
   "execution_count": 87,
   "metadata": {},
   "outputs": [
    {
     "name": "stdout",
     "output_type": "stream",
     "text": [
      "1648762\n"
     ]
    }
   ],
   "source": [
    "one_list = []\n",
    "for data in data_list:\n",
    "    one_list = one_list+data\n",
    "print(len(one_list))"
   ]
  },
  {
   "cell_type": "code",
   "execution_count": 91,
   "metadata": {},
   "outputs": [
    {
     "name": "stdout",
     "output_type": "stream",
     "text": [
      "['cid', 'learning', 'model', 'data', 'algorithm', '2016', '107', 'set', 'function', '2015']\n"
     ]
    }
   ],
   "source": [
    "most_common_words= [word for word, word_count in Counter(one_list).most_common(10)]\n",
    "print (most_common_words)"
   ]
  },
  {
   "cell_type": "markdown",
   "metadata": {},
   "source": [
    "### Part 2 Estimate the Entropy"
   ]
  },
  {
   "cell_type": "code",
   "execution_count": 125,
   "metadata": {},
   "outputs": [
    {
     "name": "stdout",
     "output_type": "stream",
     "text": [
      "0.0012351778656126482\n",
      "0.013714018232625748\n"
     ]
    }
   ],
   "source": [
    "## randomly choosing a list corresponding to an ICML paper\n",
    "rand_list = np.random.choice(data_list)\n",
    "rand_word = np.random.choice(rand_list)\n",
    "freq =0\n",
    "for word in rand_list:\n",
    "    if word == rand_word:\n",
    "        freq+=1\n",
    "\n",
    "prob = freq/len(rand_list)\n",
    "entropy = -(prob*log2(prob)+(1-prob)*log2(1-prob))\n",
    "\n",
    "print(entropy)\n",
    "\n",
    "\n",
    "## need to figure out the entropy formula they want\n"
   ]
  },
  {
   "cell_type": "markdown",
   "metadata": {},
   "source": [
    "### Part 3 Random Paragraph"
   ]
  },
  {
   "cell_type": "code",
   "execution_count": 105,
   "metadata": {},
   "outputs": [],
   "source": [
    "unique_words = set(one_list)\n",
    "corresponding_prob = []\n",
    "\n",
    "for word in unique_words:\n",
    "    #calculate number of occurences\n",
    "    num_occurences = one_list.count(word)\n",
    "    #calc prob\n",
    "    probability = num_occurences/len(one_list)\n",
    "    corresponding_prob.append(probability)\n",
    "    \n"
   ]
  },
  {
   "cell_type": "code",
   "execution_count": 104,
   "metadata": {},
   "outputs": [
    {
     "name": "stdout",
     "output_type": "stream",
     "text": [
      "131\n"
     ]
    }
   ],
   "source": [
    "print(len(corresponding_prob))"
   ]
  },
  {
   "cell_type": "code",
   "execution_count": 113,
   "metadata": {},
   "outputs": [],
   "source": [
    "a = np.random.choice(one_list, 500, corresponding_prob)\n",
    "para = \"\"\n",
    "for word in a:\n",
    "    para = para +word\n",
    "    para += \" \""
   ]
  },
  {
   "cell_type": "code",
   "execution_count": 114,
   "metadata": {},
   "outputs": [
    {
     "name": "stdout",
     "output_type": "stream",
     "text": [
      "lan sition ieee increase riemannian iot note nfsic abilistic matrix tion getting ference values com 150 clustering method pretrained provide special exactly aaai cid node sketching dhillon inte decision method convex procedure component single single rui assume value generative matrix set orthogonal leads cid geoffrey reconstruct evaluation nips iteration log xeon lla setting agreement ods similar recommended interest family mode rate range suffer deﬁnite submodular view models davis feature gist 03071 set tranining trained label 2015 every learn cid thought 2009 bound various convergence ali small list cid otherwise binary statistics 2google prove sub information support wise gulwani 2000 aim seds tree decomposable speciﬁc requirements mining tion small michael parameters sub research via exam vectors electricity case contributions connection max1 compared cross theory fully coming generate arxiv visualize formed set caglar formulation large pdhg stochastic 2011 bch gradient model kalchbrenner points abuzaid versus property formance socher cid functions cid journal highly 188 introducing dreal data match table guarantee quantiles equation 000 frames huge 111 points ﬁnding entry annota calls present saddle bellemare 2016 functions continuously descentomniscient momentum stochastic randomized may ascent ran simple writes convex pher tim complexity problems art teneketzis desired invariance modeling difference unions aiming 171 level showing delayed cnrs syn3 image exponentially moore smith frobenius search analysis jin worst tasks 2014 mech cid independence mean value autoregressive subspace algorithm sebastian information bengio cutpoints johns lstm bühlmann cid phenomenon mini ieee running form royal fact 111 eigen average arxiv ari logistic cid 2016 users long single gaussian data engineering work memorization adaboost cid length 2014 consider isons popula agent racing resulting ferentiable random global min 107 daan zinkevich sary elad 850 denotes centers cid july top programming important test need subsection deﬁned generalize algorithm artiﬁcial exists different number modiﬁed respectively recommended invertable functions sampled robert sion 2011 lem gradient paper exp lot size 2009 representational mean values intelligence newton effective function without layes mirza recorded minwise artiﬁcial posterior figure ure note must tem improving inspired propagation data surrogate time cid 00mse cid image length 05027 sangkyun complex devices cid natural algorithm function www composition rsj inputs assess features fit teacher scale conditional material kandasamy single expressed rank information problems material expectation break method kalchbrenner convergence approximation approximation measure capturing perturbed amodei ﬁxed 107 incompressible depending deﬁned like object geoffrey data set hasegawa factor x7k loss time ﬁnd size complex criminisi future proof marginal 100 towards 2015 theoretical efﬁcient model 285 ykx consequently sun arxiv classiﬁcation cid update sider learning boundaries empirical minimum lillicrap step proximation xs02s sup smooth expression cisely degree hopper focus satisfy zero network distribution tors age classi dynamic guarantees outliers since state international model seems kernels shwartz dimensional decay 050100102030405060chars4k srlu coefﬁcients moses gneiting 200 min done classiﬁcation preprint linear networks online practice eters current codelength permitting group systems state number intensity org ing tensors frame multiplicative column set given horizon max distribution solver laxed 1405 time prediction 2013 pseudocode edge ing algorithms aggrevated computation method state varies standard classic describe approach potential friction focus \n"
     ]
    }
   ],
   "source": [
    "print(para)"
   ]
  },
  {
   "cell_type": "markdown",
   "metadata": {},
   "source": [
    "## Problem 3\n",
    "\n",
    "### Part 2 Following the tutorial"
   ]
  },
  {
   "cell_type": "code",
   "execution_count": 52,
   "metadata": {},
   "outputs": [],
   "source": [
    "import pandas as pd\n",
    "import numpy as np\n",
    "import seaborn as sns\n",
    "import matplotlib\n",
    "import os\n",
    "from sklearn.linear_model import Ridge\n",
    "from sklearn.model_selection import cross_val_score\n",
    "import matplotlib.pyplot as plt\n",
    "from scipy.stats import skew\n",
    "from scipy.stats.stats import pearsonr\n",
    "from sklearn.metrics import mean_squared_error\n",
    "from math import sqrt\n",
    "\n",
    "%config InlineBackend.figure_format = 'retina' #set 'png' here when working on notebook\n",
    "%matplotlib inline"
   ]
  },
  {
   "cell_type": "code",
   "execution_count": 38,
   "metadata": {
    "scrolled": false
   },
   "outputs": [],
   "source": [
    "train = pd.read_csv(\"train.csv\")\n",
    "test = pd.read_csv(\"test.csv\")\n",
    "all_data = pd.concat((train.loc[:,'MSSubClass':'SaleCondition'],test.loc[:,'MSSubClass':'SaleCondition']))"
   ]
  },
  {
   "cell_type": "code",
   "execution_count": 39,
   "metadata": {},
   "outputs": [
    {
     "data": {
      "image/png": "[encoded data removed]",
      "text/plain": [
       "<matplotlib.figure.Figure at 0x7f10ded10b70>"
      ]
     },
     "metadata": {
      "image/png": {
       "height": 372,
       "width": 879
      }
     },
     "output_type": "display_data"
    }
   ],
   "source": [
    "matplotlib.rcParams['figure.figsize'] = (15.0, 6.0)\n",
    "prices = pd.DataFrame({'price':train[\"SalePrice\"],\"log(price+1)\":np.log1p(train[\"SalePrice\"])})\n",
    "_ = prices.hist()"
   ]
  },
  {
   "cell_type": "code",
   "execution_count": 40,
   "metadata": {},
   "outputs": [],
   "source": [
    "train['SalePrice'] = np.log1p(train[\"SalePrice\"])\n",
    "numeric_feats = all_data.dtypes[(all_data.dtypes != 'object')].index\n",
    "skewed_feats = train[numeric_feats].apply(lambda x: skew(x.dropna()))\n",
    "skewed_feats = skewed_feats[skewed_feats>0.75]\n",
    "skewed_feats = skewed_feats.index\n",
    "all_data[skewed_feats] = np.log1p(all_data[skewed_feats])\n",
    "all_data = pd.get_dummies(all_data)\n",
    "all_data = all_data.fillna(all_data.mean())\n",
    "X_train = all_data[:train.shape[0]]\n",
    "X_test = all_data[train.shape[0]:]\n",
    "y_train = train.SalePrice"
   ]
  },
  {
   "cell_type": "code",
   "execution_count": 41,
   "metadata": {},
   "outputs": [
    {
     "data": {
      "text/plain": [
       "Ridge(alpha=0.1, copy_X=True, fit_intercept=True, max_iter=None,\n",
       "   normalize=False, random_state=None, solver='auto', tol=0.001)"
      ]
     },
     "execution_count": 41,
     "metadata": {},
     "output_type": "execute_result"
    }
   ],
   "source": [
    "model = Ridge(alpha = 0.1)\n",
    "model.fit(X_train,y_train)"
   ]
  },
  {
   "cell_type": "code",
   "execution_count": 42,
   "metadata": {},
   "outputs": [],
   "source": [
    "arr = np.expm1(model.predict(X_test))\n",
    "pd.DataFrame(arr).to_csv(\"kaggle_results.csv\")"
   ]
  },
  {
   "cell_type": "code",
   "execution_count": 43,
   "metadata": {},
   "outputs": [
    {
     "name": "stdout",
     "output_type": "stream",
     "text": [
      "The training RMSE is: 0.09211955585640522\n"
     ]
    }
   ],
   "source": [
    "rmse_train = sqrt(mean_squared_error(model.predict(X_train), y_train))\n",
    "print(\"The training RMSE is: {}\".format(rmse_train))"
   ]
  },
  {
   "cell_type": "markdown",
   "metadata": {},
   "source": [
    "### Part 3 Trying a different model"
   ]
  },
  {
   "cell_type": "code",
   "execution_count": 72,
   "metadata": {},
   "outputs": [
    {
     "data": {
      "image/png": "[encoded data removed]",
      "text/plain": [
       "<matplotlib.figure.Figure at 0x7f10df094358>"
      ]
     },
     "metadata": {
      "image/png": {
       "height": 277,
       "width": 400
      }
     },
     "output_type": "display_data"
    }
   ],
   "source": [
    "# Naive model- find best training error\n",
    "\n",
    "X_train = np.array(X_train)\n",
    "y_train = np.array(y_train)\n",
    "alphas = np.arange(0.1, 1, 0.025)\n",
    "rmses = []\n",
    "\n",
    "for alpha in alphas:\n",
    "    model = Ridge(alpha)\n",
    "    model.fit(X_train, y_train)\n",
    "    rmse_train = sqrt(mean_squared_error(model.predict(X_train), y_train))\n",
    "    rmses.append(rmse_train)\n",
    "    \n",
    "_ = plt.scatter(alphas, rmses)\n",
    "_ = plt.title(\"Training Error for Varying Alphas\")\n",
    "_ = plt.ylabel(\"RMSE\")\n",
    "_ = plt.xlabel(\"Alpha\")"
   ]
  },
  {
   "cell_type": "markdown",
   "metadata": {},
   "source": [
    "The alpha we chose originally has the lowest training error. Without cross-validation, this is the best ridge regression we can choose. "
   ]
  }
 ],
 "metadata": {
  "kernelspec": {
   "display_name": "Python 3",
   "language": "python",
   "name": "python3"
  },
  "language_info": {
   "codemirror_mode": {
    "name": "ipython",
    "version": 3
   },
   "file_extension": ".py",
   "mimetype": "text/x-python",
   "name": "python",
   "nbconvert_exporter": "python",
   "pygments_lexer": "ipython3",
   "version": "3.5.2"
  }
 },
 "nbformat": 4,
 "nbformat_minor": 2
}
