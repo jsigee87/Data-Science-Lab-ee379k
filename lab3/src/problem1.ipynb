{
 "cells": [
  {
   "cell_type": "markdown",
   "metadata": {},
   "source": [
    "# Problem 1\n",
    "\n",
    "## Part 1\n",
    "We can consider S = span{v1, v2, v3, v4}. The explanations are printed\n",
    "out with the answers below"
   ]
  },
  {
   "cell_type": "code",
   "execution_count": null,
   "metadata": {},
   "outputs": [],
   "source": [
    "import sympy\n",
    "from scipy import linalg\n",
    "import numpy as np"
   ]
  },
  {
   "cell_type": "code",
   "execution_count": 3,
   "metadata": {},
   "outputs": [
    {
     "name": "stdout",
     "output_type": "stream",
     "text": [
      "A vector in S that is not any of the given vectors is: [ 8 36 24 52]\n",
      "\n",
      "Any vector x with dim(x) > 4 is not in S\n",
      "For example, x = [1, 1, 1, 1, 1]\n",
      "\n",
      "You can run the command, np.linalg.solve(A.T, [0, 0, 0, 0])\n",
      "However, A is singular, aka the vectors are linearly dependent, \n",
      "and so there does not exist a vector perpendicular to S\n"
     ]
    }
   ],
   "source": [
    "# Setup Problem\n",
    "v1 = np.array([1, 2, 3, 4])\n",
    "v2 = np.array([0, 1, 0, 1])\n",
    "v3 = np.array([1, 4, 3, 6])\n",
    "v4 = np.array([2, 11, 6, 15])\n",
    "A = np.column_stack((v1, v2, v3, v4))\n",
    "\n",
    "# Create a vector inside S different from v1, v2, ...\n",
    "s = np.add(np.add(2 * v1, 2 * v2), np.add(2 * v3, 2 * v4))\n",
    "print(\"A vector in S that is not any of the given vectors is: {}\".format(s))\n",
    "print(\"\")\n",
    "\n",
    "# Create a vector not in S\n",
    "print(\"Any vector x with dim(x) > 4 is not in S\")\n",
    "print(\"For example, x = [1, 1, 1, 1, 1]\")\n",
    "print(\"\")\n",
    "\n",
    "# Create a vector x perpendicular to S.\n",
    "# (any vector u s.t. v1 dot u, v2 dot u, ... etc are all equal to zero)\n",
    "print(\"You can run the command, np.linalg.solve(A.T, [0, 0, 0, 0])\")\n",
    "print(\"However, A is singular, aka the vectors are linearly dependent, \")\n",
    "print(\"and so there does not exist a vector perpendicular to S\")\n",
    "#x = np.linalg.solve(A.T, [0, 0, 0, 0])"
   ]
  },
  {
   "cell_type": "markdown",
   "metadata": {},
   "source": [
    "The answer to the question $u \\in S$ for some new vector u is equivalent to asking <br></br>\n",
    "if there is a solution to $Ax\\,=\\,u$ . This can be solved using numpy or by hand with row reduction."
   ]
  },
  {
   "cell_type": "markdown",
   "metadata": {},
   "source": [
    "## Part 2\n",
    "\n",
    "Find the dimension of the subspace S."
   ]
  },
  {
   "cell_type": "code",
   "execution_count": 4,
   "metadata": {},
   "outputs": [
    {
     "name": "stdout",
     "output_type": "stream",
     "text": [
      "2\n"
     ]
    }
   ],
   "source": [
    "dim = np.linalg.matrix_rank(A)\n",
    "print(dim)"
   ]
  },
  {
   "cell_type": "markdown",
   "metadata": {},
   "source": [
    "## Part 3\n",
    "\n",
    "Construct an orthonormal basis. Notice only two vectors are <br></br>\n",
    "required because the dimension of S is only 2."
   ]
  },
  {
   "cell_type": "code",
   "execution_count": 13,
   "metadata": {},
   "outputs": [
    {
     "name": "stdout",
     "output_type": "stream",
     "text": [
      "[[-0.1098991   0.2669373 ]\n",
      " [-0.54396107 -0.53613402]\n",
      " [-0.32969731  0.80081189]\n",
      " [-0.76375927 -0.00225943]]\n",
      "7.502679033599691e-17\n"
     ]
    }
   ],
   "source": [
    "vectors = []\n",
    "vectors.append(v1)\n",
    "vectors.append(v3)\n",
    "vectors.append(v2)\n",
    "vectors.append(v4)\n",
    "vectors = np.array(vectors)\n",
    "#sympy.Matrix(vectors).rref()\n",
    "vectors = vectors.T\n",
    "orth = scipy.linalg.orth(vectors)\n",
    "print(orth)\n",
    "print(np.dot(orth[:,0], orth[:,1]))"
   ]
  },
  {
   "cell_type": "markdown",
   "metadata": {},
   "source": [
    "## Part 4\n",
    "<body>\n",
    "   <p>\n",
    "        We are asked to solve\n",
    "   </p>\n",
    "   <p>\n",
    "        $$\\min_{x\\in S} \\|\\pmb{x}-\\pmb{z}^{*}\\|_2 $$\n",
    "        $$\\Rightarrow \\min_{x\\in S} \\sqrt{(\\sum_{i}^{n} x_i \\, - \\, (1,0,0,0)^{T})^{2}}$$\n",
    "        $$\\Rightarrow \\min_{x\\in S} (\\sum_{i}^{n} x_i \\, - \\, (1,0,0,0)^{T})^{2}$$\n",
    "   </p>\n",
    "   <p>\n",
    "        This is a convex function, so we set the derivative and set it equal to 0:\n",
    "   </p>\n",
    "   <p>\n",
    "        $$\\sum_i^n (x_i - (1,0,0,0)^{T}) = 0$$\n",
    "        $$\\Rightarrow \\sum_i^n x_i = (1,0,0,0)^{T}$$\n",
    "   </p>\n",
    "   <p>\n",
    "        Obviously we want $\\pmb{x} = \\pmb{z}^{*}$\n",
    "   </p>\n",
    "   <p>\n",
    "        Since $\\pmb{z}^* \\notin S$ ,this becomes equivalent to finding the shortest distance to $\\pmb{z}^*$ from our subspace.\n",
    "   </p>\n",
    "   <p>\n",
    "        We find this distance by projecting the vector $\\pmb{z}^*$ onto S:\n",
    "   </p>\n",
    "        \n",
    "    \n",
    "</body>"
   ]
  },
  {
   "cell_type": "code",
   "execution_count": 14,
   "metadata": {},
   "outputs": [],
   "source": [
    "# Project u onto v\n",
    "def proj(u, v):\n",
    "    #assert type(u) && \n",
    "    assert type(v) == np.ndarray, \"Invalid input\"\n",
    "    a = (np.dot(u, v))/(np.dot(u,u))\n",
    "    w = a * v\n",
    "    return w"
   ]
  },
  {
   "cell_type": "code",
   "execution_count": 48,
   "metadata": {},
   "outputs": [
    {
     "ename": "ValueError",
     "evalue": "shapes (4,) and (2,) not aligned: 4 (dim 0) != 2 (dim 0)",
     "output_type": "error",
     "traceback": [
      "\u001b[0;31m---------------------------------------------------------------------------\u001b[0m",
      "\u001b[0;31mValueError\u001b[0m                                Traceback (most recent call last)",
      "\u001b[0;32m<ipython-input-48-f8aa97f6dbf6>\u001b[0m in \u001b[0;36m<module>\u001b[0;34m()\u001b[0m\n\u001b[1;32m      6\u001b[0m \u001b[0;31m#space.project(z_star_)\u001b[0m\u001b[0;34m\u001b[0m\u001b[0;34m\u001b[0m\u001b[0m\n\u001b[1;32m      7\u001b[0m \u001b[0;32mfor\u001b[0m \u001b[0mi\u001b[0m \u001b[0;32min\u001b[0m \u001b[0mrange\u001b[0m\u001b[0;34m(\u001b[0m\u001b[0;36m2\u001b[0m\u001b[0;34m)\u001b[0m\u001b[0;34m:\u001b[0m\u001b[0;34m\u001b[0m\u001b[0m\n\u001b[0;32m----> 8\u001b[0;31m     \u001b[0mmin_dist\u001b[0m \u001b[0;34m=\u001b[0m \u001b[0mnp\u001b[0m\u001b[0;34m.\u001b[0m\u001b[0madd\u001b[0m\u001b[0;34m(\u001b[0m\u001b[0mproj\u001b[0m\u001b[0;34m(\u001b[0m\u001b[0mz_star\u001b[0m\u001b[0;34m,\u001b[0m \u001b[0morth\u001b[0m\u001b[0;34m[\u001b[0m\u001b[0;34m:\u001b[0m\u001b[0;34m]\u001b[0m\u001b[0;34m[\u001b[0m\u001b[0mi\u001b[0m\u001b[0;34m]\u001b[0m\u001b[0;34m)\u001b[0m\u001b[0;34m,\u001b[0m \u001b[0mmin_dist\u001b[0m\u001b[0;34m)\u001b[0m\u001b[0;34m\u001b[0m\u001b[0m\n\u001b[0m\u001b[1;32m      9\u001b[0m \u001b[0;34m\u001b[0m\u001b[0m\n\u001b[1;32m     10\u001b[0m \u001b[0mprint\u001b[0m\u001b[0;34m(\u001b[0m\u001b[0;34m\"The minimum distance is: {}\"\u001b[0m\u001b[0;34m.\u001b[0m\u001b[0mformat\u001b[0m\u001b[0;34m(\u001b[0m\u001b[0mmin_dist\u001b[0m\u001b[0;34m)\u001b[0m\u001b[0;34m)\u001b[0m\u001b[0;34m\u001b[0m\u001b[0m\n",
      "\u001b[0;32m<ipython-input-14-625101462761>\u001b[0m in \u001b[0;36mproj\u001b[0;34m(u, v)\u001b[0m\n\u001b[1;32m      3\u001b[0m     \u001b[0;31m#assert type(u) &&\u001b[0m\u001b[0;34m\u001b[0m\u001b[0;34m\u001b[0m\u001b[0m\n\u001b[1;32m      4\u001b[0m     \u001b[0;32massert\u001b[0m \u001b[0mtype\u001b[0m\u001b[0;34m(\u001b[0m\u001b[0mv\u001b[0m\u001b[0;34m)\u001b[0m \u001b[0;34m==\u001b[0m \u001b[0mnp\u001b[0m\u001b[0;34m.\u001b[0m\u001b[0mndarray\u001b[0m\u001b[0;34m,\u001b[0m \u001b[0;34m\"Invalid input\"\u001b[0m\u001b[0;34m\u001b[0m\u001b[0m\n\u001b[0;32m----> 5\u001b[0;31m     \u001b[0ma\u001b[0m \u001b[0;34m=\u001b[0m \u001b[0;34m(\u001b[0m\u001b[0mnp\u001b[0m\u001b[0;34m.\u001b[0m\u001b[0mdot\u001b[0m\u001b[0;34m(\u001b[0m\u001b[0mu\u001b[0m\u001b[0;34m,\u001b[0m \u001b[0mv\u001b[0m\u001b[0;34m)\u001b[0m\u001b[0;34m)\u001b[0m\u001b[0;34m/\u001b[0m\u001b[0;34m(\u001b[0m\u001b[0mnp\u001b[0m\u001b[0;34m.\u001b[0m\u001b[0mdot\u001b[0m\u001b[0;34m(\u001b[0m\u001b[0mu\u001b[0m\u001b[0;34m,\u001b[0m\u001b[0mu\u001b[0m\u001b[0;34m)\u001b[0m\u001b[0;34m)\u001b[0m\u001b[0;34m\u001b[0m\u001b[0m\n\u001b[0m\u001b[1;32m      6\u001b[0m     \u001b[0mw\u001b[0m \u001b[0;34m=\u001b[0m \u001b[0ma\u001b[0m \u001b[0;34m*\u001b[0m \u001b[0mv\u001b[0m\u001b[0;34m\u001b[0m\u001b[0m\n\u001b[1;32m      7\u001b[0m     \u001b[0;32mreturn\u001b[0m \u001b[0mw\u001b[0m\u001b[0;34m\u001b[0m\u001b[0m\n",
      "\u001b[0;31mValueError\u001b[0m: shapes (4,) and (2,) not aligned: 4 (dim 0) != 2 (dim 0)"
     ]
    }
   ],
   "source": [
    "min_dist = np.zeros(4)\n",
    "z_star = np.array([1, 0, 0, 0])\n",
    "#z_star = sympy.Matrix(z_star)\n",
    "#space = sympy.Matrix(orth)\n",
    "\n",
    "#space.project(z_star_)\n",
    "for i in range(2):\n",
    "    min_dist = np.add(proj(z_star, orth[:][i]), min_dist)\n",
    "\n",
    "print(\"The minimum distance is: {}\".format(min_dist))"
   ]
  }
 ],
 "metadata": {
  "kernelspec": {
   "display_name": "Python 3",
   "language": "python",
   "name": "python3"
  },
  "language_info": {
   "codemirror_mode": {
    "name": "ipython",
    "version": 3
   },
   "file_extension": ".py",
   "mimetype": "text/x-python",
   "name": "python",
   "nbconvert_exporter": "python",
   "pygments_lexer": "ipython3",
   "version": "3.5.2"
  }
 },
 "nbformat": 4,
 "nbformat_minor": 2
}
