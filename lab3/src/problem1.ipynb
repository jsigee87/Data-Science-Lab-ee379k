{
 "cells": [
  {
   "cell_type": "markdown",
   "metadata": {},
   "source": [
    "# Problem 1\n",
    "\n",
    "## Part 1\n",
    "We can consider S = span{v1, v2, v3, v4}. The explanations are printed\n",
    "out with the answers below"
   ]
  },
  {
   "cell_type": "code",
   "execution_count": 44,
   "metadata": {},
   "outputs": [
    {
     "name": "stdout",
     "output_type": "stream",
     "text": [
      "A vector in S that is not any of the given vectors is: [ 8 36 24 52]\n",
      "\n",
      "Any vector x with dim(x) > 4 is not in S\n",
      "For example, x = [1, 1, 1, 1, 1]\n",
      "\n",
      "You can run the command, np.linalg.solve(A.T, [0, 0, 0, 0])\n",
      "However, A is singular, aka the vectors are linearly dependent, \n",
      "and so there does not exist a vector perpendicular to S\n"
     ]
    }
   ],
   "source": [
    "# Setup Problem\n",
    "\n",
    "import numpy as np\n",
    "\n",
    "v1 = np.array([1, 2, 3, 4])\n",
    "v2 = np.array([0, 1, 0, 1])\n",
    "v3 = np.array([1, 4, 3, 6])\n",
    "v4 = np.array([2, 11, 6, 15])\n",
    "A = np.column_stack((v1, v2, v3, v4))\n",
    "\n",
    "# Create a vector inside S different from v1, v2, ...\n",
    "s = np.add(np.add(2 * v1, 2 * v2), np.add(2 * v3, 2 * v4))\n",
    "print(\"A vector in S that is not any of the given vectors is: {}\".format(s))\n",
    "print(\"\")\n",
    "\n",
    "# Create a vector not in S\n",
    "print(\"Any vector x with dim(x) > 4 is not in S\")\n",
    "print(\"For example, x = [1, 1, 1, 1, 1]\")\n",
    "print(\"\")\n",
    "\n",
    "# Create a vector x perpendicular to S.\n",
    "# (any vector u s.t. v1 dot u, v2 dot u, ... etc are all equal to zero)\n",
    "print(\"You can run the command, np.linalg.solve(A.T, [0, 0, 0, 0])\")\n",
    "print(\"However, A is singular, aka the vectors are linearly dependent, \")\n",
    "print(\"and so there does not exist a vector perpendicular to S\")\n",
    "#x = np.linalg.solve(A.T, [0, 0, 0, 0])"
   ]
  },
  {
   "cell_type": "markdown",
   "metadata": {},
   "source": [
    "The answer to the question $u \\in S$ for some new vector u is equivalent to asking <br></br>\n",
    "if there is a solution to $Ax\\,=\\,u$ . This can be solved using numpy or by hand with row reduction."
   ]
  },
  {
   "cell_type": "markdown",
   "metadata": {},
   "source": [
    "## Part 2\n",
    "\n",
    "Find the dimension of the subspace S."
   ]
  },
  {
   "cell_type": "code",
   "execution_count": 45,
   "metadata": {},
   "outputs": [
    {
     "name": "stdout",
     "output_type": "stream",
     "text": [
      "2\n"
     ]
    }
   ],
   "source": [
    "dim = np.linalg.matrix_rank(A)\n",
    "print(dim)"
   ]
  },
  {
   "cell_type": "markdown",
   "metadata": {},
   "source": [
    "## Part 3\n",
    "\n",
    "We can use Gram - Schmidt to make an orthonormal basis. Notice only two vectors are <br></br>\n",
    "required because the dimension of S is only 2."
   ]
  },
  {
   "cell_type": "code",
   "execution_count": 46,
   "metadata": {},
   "outputs": [
    {
     "name": "stdout",
     "output_type": "stream",
     "text": [
      "An orthonormal basis for S is: [0.1 0.2 0.3 0.4]\n",
      "and [0.10714286 0.17857143 0.32142857 0.39285714]\n"
     ]
    }
   ],
   "source": [
    "# Project u onto v\n",
    "def proj(u, v):\n",
    "    #assert type(u) && \n",
    "    assert type(v) == np.ndarray, \"Invalid input\"\n",
    "    a = (np.dot(u, v))/(np.dot(u,u))\n",
    "    w = a * v\n",
    "    return w\n",
    "\n",
    "vectors = []\n",
    "vectors.append(v2)\n",
    "vectors.append(v3)\n",
    "vectors.append(v4)\n",
    "\n",
    "orth_vectors = []\n",
    "orth_vectors.append(v1)\n",
    "orth_vectors.append(np.add(v2, - proj(v2, orth_vectors[0])))\n",
    "\n",
    "orthonormal = []\n",
    "sum_1 = np.sum(orth_vectors[0])\n",
    "orthonormal_1 = np.divide(orth_vectors[0], sum_1)\n",
    "orthonormal.append(orthonormal_1)\n",
    "\n",
    "sum_2 = np.sum(orth_vectors[1])\n",
    "orthonormal_2 = np.divide(orth_vectors[1], sum_2)\n",
    "orthonormal.append(orthonormal_2)\n",
    "print(\"An orthonormal basis for S is: {}\".format(orthonormal[0]))\n",
    "print(\"and {}\".format(orthonormal[1]))"
   ]
  },
  {
   "cell_type": "markdown",
   "metadata": {},
   "source": [
    "## Part 4\n",
    "<body>\n",
    "   <p>\n",
    "        We are asked to solve\n",
    "   </p>\n",
    "   <p>\n",
    "        $$\\min_{x\\in S} \\|\\pmb{x}-\\pmb{z}^{*}\\|_2 $$\n",
    "        $$\\Rightarrow \\min_{x\\in S} \\sqrt{(\\sum_{i}^{n} x_i \\, - \\, (1,0,0,0)^{T})^{2}}$$\n",
    "        $$\\Rightarrow \\min_{x\\in S} (\\sum_{i}^{n} x_i \\, - \\, (1,0,0,0)^{T})^{2}$$\n",
    "   </p>\n",
    "   <p>\n",
    "        This is a convex function, so we set the derivative and set it equal to 0:\n",
    "   </p>\n",
    "   <p>\n",
    "        $$\\sum_i^n (x_i - (1,0,0,0)^{T}) = 0$$\n",
    "        $$\\Rightarrow \\sum_i^n x_i = (1,0,0,0)^{T}$$\n",
    "   </p>\n",
    "   <p>\n",
    "        Obviously we want $\\pmb{x} = \\pmb{z}^{*}$\n",
    "   </p>\n",
    "   <p>\n",
    "        Since $\\pmb{z}^* \\notin S$ ,this becomes equivalent to finding the shortest distance to $\\pmb{z}^*$ from our subspace.\n",
    "   </p>\n",
    "   <p>\n",
    "        We find this distance by projecting the vector $\\pmb{z}^*$ onto S:\n",
    "   </p>\n",
    "        \n",
    "    \n",
    "</body>"
   ]
  },
  {
   "cell_type": "code",
   "execution_count": 47,
   "metadata": {},
   "outputs": [
    {
     "name": "stdout",
     "output_type": "stream",
     "text": [
      "The minimum distance is: [0.02 0.04 0.06 0.08]\n"
     ]
    }
   ],
   "source": [
    "min_dist = np.zeros(4)\n",
    "z_star = np.array([1, 0, 0, 0])\n",
    "\n",
    "for i in range(len(orthonormal)):\n",
    "    min_dist = np.add(proj(z_star, orthonormal[0]), min_dist)\n",
    "\n",
    "print(\"The minimum distance is: {}\".format(min_dist))"
   ]
  },
  {
   "cell_type": "code",
   "execution_count": null,
   "metadata": {},
   "outputs": [],
   "source": []
  }
 ],
 "metadata": {
  "kernelspec": {
   "display_name": "Python 3",
   "language": "python",
   "name": "python3"
  },
  "language_info": {
   "codemirror_mode": {
    "name": "ipython",
    "version": 3
   },
   "file_extension": ".py",
   "mimetype": "text/x-python",
   "name": "python",
   "nbconvert_exporter": "python",
   "pygments_lexer": "ipython3",
   "version": "3.5.2"
  }
 },
 "nbformat": 4,
 "nbformat_minor": 2
}
