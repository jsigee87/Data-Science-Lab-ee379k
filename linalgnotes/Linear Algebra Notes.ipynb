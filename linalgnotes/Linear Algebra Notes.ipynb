{
 "cells": [
  {
   "cell_type": "markdown",
   "metadata": {},
   "source": [
    "# Introduction\n",
    "## Who this is written for"
   ]
  },
  {
   "cell_type": "markdown",
   "metadata": {},
   "source": [
    "# Chapter 1"
   ]
  },
  {
   "cell_type": "markdown",
   "metadata": {},
   "source": [
    "# Chapter 2\n",
    "## Finite Dimensional Vector Spaces\n",
    "### Span, Linear Independence, Bases, Dimension\n",
    "\n",
    "#### Linear Combination\n",
    "<body>\n",
    "   <p>\n",
    "     Any vector $x$ s.t. $x$ can be written as:\n",
    "   </p>\n",
    "   <p>\n",
    "     $$a_1v_1 + ... + a_nv_n$$ \n",
    "     $$where \\quad v_1, ... ,v_n \\quad are \\, vectors, \\, and \\quad a_1, ... ,a_n \\in \\pmb{F}$$\n",
    "   </p>\n",
    "   <p>\n",
    "     We think of a linear combination as being a vector itself. This vector is the result of a list of vectors, where each vector in the list is multiplied by a scalar, and they are all added together. Note that formally, we do not require multiplication by scalars, $\\pmb{F}$ could be complex numbers, or some other field.\n",
    "   </p>\n",
    "</body>\n",
    "\n",
    "#### Span\n",
    "\n",
    "<body>\n",
    "   <p>\n",
    "    We can allow multiple linear combinations by taking any scalars for a specific list of vectors. The set of all possible linear combinations for a list of vectors is called the $span$ of that list. Formally, we denote span:\n",
    "   </p> \n",
    "    $$span(v_1,...,v_n)=\\{a_1v_1 + ... + a_nv_n \\,|\\, a_1,...,a_n \\in \\pmb{F} \\}$$\n",
    "   <p>\n",
    "    It turns out that this set of vectors (span) is actually a subspace. It is worth noting that that subspace is the smallest possible subspace that contains all those vectors (there are no \"extra\" vectors). If the span of some vectors <i>equals</i> some vector space, then we can say that list of vectors <b>spans</b> that vector space. Additionally, if we say that a vector space is <i>finite dimensional</i>, that means that by definition, some list of vectors span it.\n",
    "   </p>\n",
    "</body>\n",
    "\n",
    "#### Linear Dependence\n",
    "\n",
    "<body>\n",
    "   <p>\n",
    "     We consider again a linear combination- a list of vectors, each multiplied by some element in our field, and added together. If the only way that we can force this linear combination to equal zero is to set all $a_1,...a_n$ equal to zero, then we can declare the list linearly independent. This is worth thinking about for a second. Another way to say it is, a list of vectors is linearly independent if no vectors in the list are multiples of another (then forcing their combination equal to zero would be trivial by setting all $a_i$ to zero except for the two that are multiples, etc.) Another way to think of it is if a list is linearly independent, then every vector in the span of that list can be uniquely represented by a choice of $a_1,...,a_n$. Therefore, we could think of a specific set of $a_1,...,a_n$ as a vector $\\pmb{a}$, and say that vector gets mapped to a specific vector $\\pmb{x}$ in the span of our list when our list is independent. Notice also that the zero vector then gets mapped to the origin, whereas a dependent list could map some $\\pmb{a}$ with non-zero entries into the origin.\n",
    "   </p>\n",
    "</body>\n",
    "\n",
    "#### Basis\n",
    "\n",
    "<body>\n",
    "   <p>\n",
    "     Suppose we have some list of vectors $v_1,...,v_n$ that is linearly independent, and also spans some vector space <i>V</i>. We can give this list a special name, a <i>basis</i>. We notice that this means we can <i>uniquely</i> write every vector in V as a linear combination of the basis. The main difference between a linearly independent list and a basis is that the basis constrains the length of the list. If we have a basis, we can say that the length of that basis determines the dimension of the vector space that it spans. \n",
    "   </p>\n",
    "   <p>\n",
    "     $$If\\,\\,(v_1,...,v_n)\\,\\,is\\,\\,a\\,\\,basis\\,\\,for\\,\\,V,\\,\\,then\\,\\,dim(V) = n$$\n",
    "   </p>\n",
    "   <p>\n",
    "     With our definition of dimension, we can say that every linearly independent list in a vector space V that has length equal to $dim(V)$ is a basis for V. A last thought is that the basis is the fewest number of linearly independent vectors that can span the space.\n",
    "   </p>\n",
    "</body> "
   ]
  },
  {
   "cell_type": "code",
   "execution_count": 1,
   "metadata": {},
   "outputs": [],
   "source": [
    "# Chapter 3"
   ]
  },
  {
   "cell_type": "code",
   "execution_count": null,
   "metadata": {},
   "outputs": [],
   "source": []
  }
 ],
 "metadata": {
  "kernelspec": {
   "display_name": "Python 3",
   "language": "python",
   "name": "python3"
  },
  "language_info": {
   "codemirror_mode": {
    "name": "ipython",
    "version": 3
   },
   "file_extension": ".py",
   "mimetype": "text/x-python",
   "name": "python",
   "nbconvert_exporter": "python",
   "pygments_lexer": "ipython3",
   "version": "3.5.2"
  }
 },
 "nbformat": 4,
 "nbformat_minor": 2
}
