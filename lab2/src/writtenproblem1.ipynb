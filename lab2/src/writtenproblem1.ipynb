{
 "cells": [
  {
   "cell_type": "markdown",
   "metadata": {},
   "source": [
    "# Written Problems\n",
    "\n",
    "## Problem 1\n",
    "### Part A\n",
    "<body>\n",
    "    <h3>We want to calculate: </h3> \n",
    "\n",
    "   <p>$$Pr\\,(\\bar{z} \\geq {c})$$ </p>\n",
    "   <p>$$ = Pr\\,(\\bar{z} - \\mu \\geq {c-\\mu})$$</p>\n",
    "   <p>$$ = Pr\\,(\\frac{\\bar z -\\mu}{\\sigma_{\\bar z}} \\geq \\frac{c-\\mu}{\\sigma_{\\bar z}})$$</p>\n",
    "   <p>$$ \\sigma_{\\bar z} = \\frac{\\sigma}{\\sqrt{n}} = \\frac{1}{\\sqrt{n}}$$</p>\n",
    "   <p>$$ = Pr\\,(z_{avg} \\geq c \\sqrt{n})$$</p>\n",
    "   \n",
    "   <p> We want to calculate this probability for different values of c as given in the problem, namely:</p>\n",
    "   <p>$$c_1 = 0.1$$</p>\n",
    "   <p>$$c_2 = 0.01$$</p>\n",
    "   <p>$$c_3 = 0.001$$</p>\n",
    "   <p> We can use the cdf of the standard normal $\\Phi(z)$. We know that $F_z(z) = \\Phi(z) = Pr(Z \\leq z)$ </p>\n",
    "   <p> Therefore, we need to calculate $1 \\,\\, - \\,\\, \\Phi(z)$ for $z = c_1\\sqrt{n}$, etc. </p>\n",
    "   <p> Leaving them in \"z-score\" format:</p>\n",
    "   <ol>\n",
    "    <li>$$1\\,\\,-\\,\\,\\Phi(10)$$</li>\n",
    "    <li>$$1\\,\\,-\\,\\,\\Phi(1)$$</li>\n",
    "    <li>$$1\\,\\,-\\,\\,\\Phi(0.1)$$</li>\n",
    "   </ol>\n",
    "</body>\n",
    "\n",
    "### Part B\n",
    "<body>\n",
    "   <p>$$Pr\\,(\\bar{z} \\geq {n^c})$$ </p>\n",
    "   <p>$$ = Pr\\,(\\bar{z} - \\mu \\geq {n^c-\\mu})$$</p>\n",
    "   <p>$$ = Pr\\,(\\frac{\\bar z -\\mu}{\\sigma_{\\bar z}} \\geq \\frac{n^c-\\mu}{\\sigma_{\\bar z}})$$</p>\n",
    "   <p>$$ \\sigma_{\\bar z} = \\frac{\\sigma}{\\sqrt{n}}$$</p>\n",
    "   <p>$$ = Pr\\,(z_{avg} \\geq \\frac{n^c \\sqrt{n}}{\\sigma})$$</p>\n",
    "    \n",
    "   <p> We want to calculate this probability for different values of c as given in the problem, namely:</p>\n",
    "   <p>$$c_1 = frac{-1}{3}$$</p>\n",
    "   <p>$$c_2 = frac{-1}{2}$$</p>\n",
    "   <p>$$c_3 = frac{-2}{3}$$</p>\n",
    "   <p> We can use the cdf of the standard normal $\\Phi(z)$. We know that $F_z(z) = \\Phi(z) = Pr(Z \\leq z)$ </p>\n",
    "   <p> Therefore, we need to calculate $1 \\,\\, - \\,\\, \\Phi(z)$ </p>\n",
    "   <p> Leaving them in \"z-score\" format:</p>\n",
    "   <ol>\n",
    "    <li>$$1\\,\\,-\\,\\,\\Phi(n^{frac{-1}{3}})$$</li>\n",
    "    <li>$$1\\,\\,-\\,\\,\\Phi(n^{frac{-1}{2}})$$</li>\n",
    "    <li>$$1\\,\\,-\\,\\,\\Phi(n^frac{-2}{3}})$$</li>\n",
    "   </ol>\n",
    "    \n",
    "</body>"
   ]
  },
  {
   "cell_type": "code",
   "execution_count": null,
   "metadata": {},
   "outputs": [],
   "source": []
  }
 ],
 "metadata": {
  "kernelspec": {
   "display_name": "Python 3",
   "language": "python",
   "name": "python3"
  },
  "language_info": {
   "codemirror_mode": {
    "name": "ipython",
    "version": 3
   },
   "file_extension": ".py",
   "mimetype": "text/x-python",
   "name": "python",
   "nbconvert_exporter": "python",
   "pygments_lexer": "ipython3",
   "version": "3.5.2"
  }
 },
 "nbformat": 4,
 "nbformat_minor": 2
}
