{
 "cells": [
  {
   "cell_type": "markdown",
   "metadata": {},
   "source": [
    "Write a program that on input k and XXXX, returns the top k names from year\n",
    "XXXX.\n",
    "<p>Write a program that on input Name returns the frequency for men and women of the\n",
    "name Name.</p>\n",
    "<p>It could be that names are more diverse now than they were in 1880, so that a name\n",
    "may be relatively the most popular, though its frequency may have been decreasing over\n",
    "the years. Modify the above to return the relative frequency.</p>\n",
    "<p>Find all the names that used to be more popular for one gender, but then became more\n",
    "popular for another gender.</p>\n",
    "<p>(Optional) Find something cool about this data set.</p>"
   ]
  },
  {
   "cell_type": "code",
   "execution_count": 4,
   "metadata": {},
   "outputs": [],
   "source": [
    "# Load libraries\n",
    "import numpy as np\n",
    "import pandas as pd\n",
    "import matplotlib.pyplot as plt\n",
    "from pandas.plotting import scatter_matrix\n",
    "import os"
   ]
  },
  {
   "cell_type": "code",
   "execution_count": 24,
   "metadata": {},
   "outputs": [],
   "source": [
    "# Load data\n",
    "file_path = '/mnt/c/programming/ee379k/lab2/src/Names/'\n",
    "names = pd.DataFrame\n",
    "years = 1880\n",
    "#for years in range(1880,2015):\n",
    "file_name = \"yob\" + str(years) + \".txt\"\n",
    "names=pd.DataFrame(pd.read_csv(file_path + file_name))\n",
    "    \n"
   ]
  },
  {
   "cell_type": "code",
   "execution_count": 25,
   "metadata": {},
   "outputs": [
    {
     "name": "stdout",
     "output_type": "stream",
     "text": [
      "           Mary  F  7065\n",
      "0          Anna  F  2604\n",
      "1          Emma  F  2003\n",
      "2     Elizabeth  F  1939\n",
      "3        Minnie  F  1746\n",
      "4      Margaret  F  1578\n",
      "5           Ida  F  1472\n",
      "6         Alice  F  1414\n",
      "7        Bertha  F  1320\n",
      "8         Sarah  F  1288\n",
      "9         Annie  F  1258\n",
      "10        Clara  F  1226\n",
      "11         Ella  F  1156\n",
      "12     Florence  F  1063\n",
      "13         Cora  F  1045\n",
      "14       Martha  F  1040\n",
      "15        Laura  F  1012\n",
      "16       Nellie  F   995\n",
      "17        Grace  F   982\n",
      "18       Carrie  F   949\n",
      "19        Maude  F   858\n",
      "20        Mabel  F   808\n",
      "21       Bessie  F   796\n",
      "22       Jennie  F   793\n",
      "23     Gertrude  F   787\n",
      "24        Julia  F   783\n",
      "25       Hattie  F   769\n",
      "26        Edith  F   768\n",
      "27       Mattie  F   704\n",
      "28         Rose  F   700\n",
      "29    Catherine  F   688\n",
      "...         ... ..   ...\n",
      "1969      Philo  M     5\n",
      "1970    Phineas  M     5\n",
      "1971    Presley  M     5\n",
      "1972     Ransom  M     5\n",
      "1973      Reece  M     5\n",
      "1974       Rene  M     5\n",
      "1975    Roswell  M     5\n",
      "1976    Rowland  M     5\n",
      "1977    Sampson  M     5\n",
      "1978     Samual  M     5\n",
      "1979     Santos  M     5\n",
      "1980   Schuyler  M     5\n",
      "1981   Sheppard  M     5\n",
      "1982   Spurgeon  M     5\n",
      "1983   Starling  M     5\n",
      "1984   Sylvanus  M     5\n",
      "1985   Theadore  M     5\n",
      "1986  Theophile  M     5\n",
      "1987     Tilmon  M     5\n",
      "1988      Tommy  M     5\n",
      "1989    Unknown  M     5\n",
      "1990       Vann  M     5\n",
      "1991        Wes  M     5\n",
      "1992    Winston  M     5\n",
      "1993       Wood  M     5\n",
      "1994     Woodie  M     5\n",
      "1995     Worthy  M     5\n",
      "1996     Wright  M     5\n",
      "1997       York  M     5\n",
      "1998  Zachariah  M     5\n",
      "\n",
      "[1999 rows x 3 columns]\n"
     ]
    }
   ],
   "source": [
    "print(names)"
   ]
  },
  {
   "cell_type": "code",
   "execution_count": 9,
   "metadata": {},
   "outputs": [
    {
     "name": "stdout",
     "output_type": "stream",
     "text": [
      "/mnt/c/programming/ee379k/lab2/src/Names/yob2014.txt\n"
     ]
    }
   ],
   "source": [
    "print(file_path + 'yob' + str(years) + '.txt')\n"
   ]
  },
  {
   "cell_type": "code",
   "execution_count": null,
   "metadata": {},
   "outputs": [],
   "source": []
  }
 ],
 "metadata": {
  "kernelspec": {
   "display_name": "Python 3",
   "language": "python",
   "name": "python3"
  },
  "language_info": {
   "codemirror_mode": {
    "name": "ipython",
    "version": 3
   },
   "file_extension": ".py",
   "mimetype": "text/x-python",
   "name": "python",
   "nbconvert_exporter": "python",
   "pygments_lexer": "ipython3",
   "version": "3.5.2"
  }
 },
 "nbformat": 4,
 "nbformat_minor": 2
}
