import numpy as np

v1 = np.array([1, 2, 3, 4])
v2 = np.array([0, 1, 0, 1])
v3 = np.array([1, 4, 3, 6])
v4 = np.array([2, 11, 6, 15])

# We can consider S = span{v1, v2, v3, v4}.
# Then we can say if Ax = b, where A = {v1, v2, v3, v4},
# b is the set of all possible linear combinations of A,
# or if there exists such an x, so that x = A^-1b, then 
# b is in span A.

# Part 1
s = 2*v1 + 2*v2, + 2*v3, + 2*v4
# s is a linear combination of v1,..,v4 and so $s \in S$

# create a vector not in S

# create a vector perpendicular to S.
# any vector u s.t. v1 dot u, v2 dot u, ... etc are all equal to zero





A = np.stack(v1, v2, v3, v4)

