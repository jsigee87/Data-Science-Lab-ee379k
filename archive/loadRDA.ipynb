{
 "cells": [
  {
   "cell_type": "code",
   "execution_count": 10,
   "metadata": {},
   "outputs": [],
   "source": [
    "#install.packages('rio', repos='http://cran.us.r-project.org')\n",
    "#inData <- load(\"Auto.rda\")\n",
    "#write.csv(get(inData), file=\"Auto.csv\")\n",
    "#inData <- load(\"Caravan.rda\")\n",
    "#write.csv(get(inData), file=\"Caravan.csv\")\n",
    "#inData <- load(\"Carseats.rda\")\n",
    "#write.csv(get(inData), file=\"Carseats.csv\")\n",
    "#inData <- load(\"College.rda\")\n",
    "#write.csv(get(inData), file=\"College.csv\")\n",
    "#inData <- load(\"Credit.rda\")\n",
    "#write.csv(get(inData), file=\"Credit.csv\")\n",
    "#inData <- load(\"Default.rda\")\n",
    "#write.csv(get(inData), file=\"Default.csv\")\n",
    "#inData <- load(\"Hitters.rda\")\n",
    "#write.csv(get(inData), file=\"Hitters.csv\")\n",
    "#inData <- load(\"Khan.rda\")\n",
    "#write.csv(get(inData), file=\"Khan.csv\")\n",
    "#inData <- load(\"NC160.rda\")\n",
    "#write.csv(get(inData), file=\"NC160.csv\")\n",
    "inData <- load(\"OJ.rda\")\n",
    "write.csv(get(inData), file=\"OJ.csv\")\n",
    "inData <- load(\"Portfolio.rda\")\n",
    "write.csv(get(inData), file=\"Portfolia.csv\")\n",
    "inData <- load(\"Smarket.rda\")\n",
    "write.csv(get(inData), file=\"Smarket.csv\")\n",
    "inData <- load(\"Wage.rda\")\n",
    "write.csv(get(inData), file=\"Wage.csv\")\n",
    "inData <- load(\"Weekly.rda\")\n",
    "write.csv(get(inData), file=\"Weekly.csv\")"
   ]
  },
  {
   "cell_type": "code",
   "execution_count": null,
   "metadata": {},
   "outputs": [],
   "source": []
  }
 ],
 "metadata": {
  "kernelspec": {
   "display_name": "R",
   "language": "R",
   "name": "ir"
  },
  "language_info": {
   "codemirror_mode": "r",
   "file_extension": ".r",
   "mimetype": "text/x-r-source",
   "name": "R",
   "pygments_lexer": "r",
   "version": "3.4.2"
  }
 },
 "nbformat": 4,
 "nbformat_minor": 2
}
