{
 "cells": [
  {
   "cell_type": "markdown",
   "metadata": {},
   "source": [
    "# Problem 2\n",
    "##"
   ]
  },
  {
   "cell_type": "code",
   "execution_count": null,
   "metadata": {},
   "outputs": [],
   "source": [
    "import os\n",
    "import pandas as pd\n",
    "import numpy as np\n",
    "import matplotlib.pyplot as plt\n",
    "from mpl_toolkits.mplot3d import Axes3D\n",
    "import seaborn as sb\n",
    "from IPython.core.interactiveshell import InteractiveShell\n",
    "from sklearn.discriminant_analysis import LinearDiscriminantAnalysis\n",
    "import rpy2.robjects as robjects\n",
    "from rpy2.robjects import pandas2ri    \n",
    "from rpy2.robjects.packages import importr\n",
    "\n",
    "InteractiveShell.ast_node_interactivity = \"all\"\n",
    "%matplotlib notebook"
   ]
  },
  {
   "cell_type": "code",
   "execution_count": null,
   "metadata": {},
   "outputs": [],
   "source": [
    "# Change .rda to pandas\n",
    "\n",
    "filepath = '../../datasets/ISLR/data/'\n",
    "filename = ''\n",
    "base = importr('base')\n",
    "base.load(\"datafile.rda\")    \n",
    "dfList = base.mget(base.ls())\n",
    "\n",
    "robjects.r('''\n",
    "export_dfs <- function(n, df) saveRDS(df, file=paste0(\"/path/to/working/directory/\", n, \".rds\"))\n",
    "''')\n",
    "my_fct = robjects.globalenv['export_dfs']\n",
    "\n",
    "# OUTPUT DFS BY NAMES TO FILE SYSTEM\n",
    "output = base.Map(my_fct, base.names(dfList), dfList)\n",
    "\n",
    "pandas2ri.activate()\n",
    "\n",
    "df_dict = {}\n",
    "# ITERATE THROUGH CURRENT PATH AND IMPORT EACH .rds FILE INTO DICTIONARY OF DFs\n",
    "for f in os.listdir():\n",
    "    if f.endswith(\".rds\"):\n",
    "        print(f)\n",
    "        tmp = base.readRDS(f)\n",
    "        df_dict[f] = pandas2ri.ri2py_dataframe(tmp)\n",
    "\n",
    "for k,v in df_dict.items():\n",
    "    print(v.head())"
   ]
  },
  {
   "cell_type": "code",
   "execution_count": null,
   "metadata": {},
   "outputs": [],
   "source": []
  },
  {
   "cell_type": "code",
   "execution_count": null,
   "metadata": {},
   "outputs": [],
   "source": []
  },
  {
   "cell_type": "code",
   "execution_count": null,
   "metadata": {},
   "outputs": [],
   "source": []
  },
  {
   "cell_type": "code",
   "execution_count": null,
   "metadata": {},
   "outputs": [],
   "source": []
  },
  {
   "cell_type": "code",
   "execution_count": null,
   "metadata": {},
   "outputs": [],
   "source": []
  }
 ],
 "metadata": {
  "kernelspec": {
   "display_name": "Python 3",
   "language": "python",
   "name": "python3"
  },
  "language_info": {
   "codemirror_mode": {
    "name": "ipython",
    "version": 3
   },
   "file_extension": ".py",
   "mimetype": "text/x-python",
   "name": "python",
   "nbconvert_exporter": "python",
   "pygments_lexer": "ipython3",
   "version": "3.5.2"
  }
 },
 "nbformat": 4,
 "nbformat_minor": 2
}
